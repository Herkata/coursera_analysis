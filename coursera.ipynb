{
 "cells": [
  {
   "cell_type": "markdown",
   "metadata": {},
   "source": [
    "# First steps - Coursera Data Analysis\n",
    "---\n",
    "Import necessary libraries for data analysis and plotting."
   ]
  },
  {
   "cell_type": "code",
   "execution_count": 1,
   "metadata": {},
   "outputs": [],
   "source": [
    "#%pip install -r requirements.txt\n",
    "\n",
    "import pandas as pd\n",
    "import langdetect as ld\n",
    "from IPython.display import Markdown as md\n",
    "from helper import convert_str_to_num, scatter_plotly, correl_heat_map, compare_lang, bar_plot, plot_lan, capitalize_first_word, course_count_rating_plot, perform_anova_and_visualize"
   ]
  },
  {
   "cell_type": "markdown",
   "metadata": {},
   "source": [
    "---\n",
    "\n",
    ">\n",
    "> Source: https://www.kaggle.com/datasets/siddharthm1698/coursera-course-dataset\n",
    ">\n",
    "> This dataset contains 6 columns of features on 891 course records. \n",
    "> \n",
    "> The detailed description:\n",
    ">\n",
    "> - course_title : Contains the course title.\n",
    "> - course_organization : It tells which organization is conducting the courses.\n",
    "> - course_Certificate_type : It has details about what are the different certifications available in courses.\n",
    "> - course_rating : It has the ratings associated with each course.\n",
    "> - course_difficulty : It tells about how difficult or what is the level of the course.\n",
    "> - course_students_enrolled : It has the number of students that are enrolled in the course.\n",
    ">\n",
    "> Credit: https://github.com/Siddharth1698\n",
    ">\n",
    ">\n",
    "\n",
    "---"
   ]
  },
  {
   "cell_type": "markdown",
   "metadata": {},
   "source": [
    "Read dataset from csv file located in the working directory, and set the included numeric identifier column as index for the DataFrame."
   ]
  },
  {
   "cell_type": "code",
   "execution_count": 2,
   "metadata": {},
   "outputs": [],
   "source": [
    "data = pd.read_csv(\"coursea_data.csv\", index_col=0)"
   ]
  },
  {
   "cell_type": "markdown",
   "metadata": {},
   "source": [
    "---\n",
    "\n",
    "Have a rough look at the dataset."
   ]
  },
  {
   "cell_type": "code",
   "execution_count": 3,
   "metadata": {},
   "outputs": [
    {
     "data": {
      "text/html": [
       "<div>\n",
       "<style scoped>\n",
       "    .dataframe tbody tr th:only-of-type {\n",
       "        vertical-align: middle;\n",
       "    }\n",
       "\n",
       "    .dataframe tbody tr th {\n",
       "        vertical-align: top;\n",
       "    }\n",
       "\n",
       "    .dataframe thead th {\n",
       "        text-align: right;\n",
       "    }\n",
       "</style>\n",
       "<table border=\"1\" class=\"dataframe\">\n",
       "  <thead>\n",
       "    <tr style=\"text-align: right;\">\n",
       "      <th></th>\n",
       "      <th>course_title</th>\n",
       "      <th>course_organization</th>\n",
       "      <th>course_Certificate_type</th>\n",
       "      <th>course_rating</th>\n",
       "      <th>course_difficulty</th>\n",
       "      <th>course_students_enrolled</th>\n",
       "    </tr>\n",
       "  </thead>\n",
       "  <tbody>\n",
       "    <tr>\n",
       "      <th>0</th>\n",
       "      <td>IBM Data Science</td>\n",
       "      <td>IBM</td>\n",
       "      <td>PROFESSIONAL CERTIFICATE</td>\n",
       "      <td>4.6</td>\n",
       "      <td>Beginner</td>\n",
       "      <td>480k</td>\n",
       "    </tr>\n",
       "    <tr>\n",
       "      <th>1</th>\n",
       "      <td>Introduction to Data Science</td>\n",
       "      <td>IBM</td>\n",
       "      <td>SPECIALIZATION</td>\n",
       "      <td>4.6</td>\n",
       "      <td>Beginner</td>\n",
       "      <td>310k</td>\n",
       "    </tr>\n",
       "    <tr>\n",
       "      <th>2</th>\n",
       "      <td>The Science of Well-Being</td>\n",
       "      <td>Yale University</td>\n",
       "      <td>COURSE</td>\n",
       "      <td>4.9</td>\n",
       "      <td>Mixed</td>\n",
       "      <td>2.5m</td>\n",
       "    </tr>\n",
       "    <tr>\n",
       "      <th>3</th>\n",
       "      <td>Python for Everybody</td>\n",
       "      <td>University of Michigan</td>\n",
       "      <td>SPECIALIZATION</td>\n",
       "      <td>4.8</td>\n",
       "      <td>Beginner</td>\n",
       "      <td>1.5m</td>\n",
       "    </tr>\n",
       "    <tr>\n",
       "      <th>4</th>\n",
       "      <td>Google IT Support</td>\n",
       "      <td>Google</td>\n",
       "      <td>PROFESSIONAL CERTIFICATE</td>\n",
       "      <td>4.8</td>\n",
       "      <td>Beginner</td>\n",
       "      <td>350k</td>\n",
       "    </tr>\n",
       "  </tbody>\n",
       "</table>\n",
       "</div>"
      ],
      "text/plain": [
       "                   course_title     course_organization  \\\n",
       "0              IBM Data Science                     IBM   \n",
       "1  Introduction to Data Science                     IBM   \n",
       "2     The Science of Well-Being         Yale University   \n",
       "3          Python for Everybody  University of Michigan   \n",
       "4             Google IT Support                  Google   \n",
       "\n",
       "    course_Certificate_type  course_rating course_difficulty  \\\n",
       "0  PROFESSIONAL CERTIFICATE            4.6          Beginner   \n",
       "1            SPECIALIZATION            4.6          Beginner   \n",
       "2                    COURSE            4.9             Mixed   \n",
       "3            SPECIALIZATION            4.8          Beginner   \n",
       "4  PROFESSIONAL CERTIFICATE            4.8          Beginner   \n",
       "\n",
       "  course_students_enrolled  \n",
       "0                     480k  \n",
       "1                     310k  \n",
       "2                     2.5m  \n",
       "3                     1.5m  \n",
       "4                     350k  "
      ]
     },
     "execution_count": 3,
     "metadata": {},
     "output_type": "execute_result"
    }
   ],
   "source": [
    "data.sort_index(inplace=True)\n",
    "data.head()"
   ]
  },
  {
   "cell_type": "markdown",
   "metadata": {},
   "source": [
    "---\n",
    "\n",
    "## Data cleaning\n",
    "\n",
    "### Check for missing values."
   ]
  },
  {
   "cell_type": "code",
   "execution_count": 4,
   "metadata": {},
   "outputs": [
    {
     "data": {
      "text/plain": [
       "False"
      ]
     },
     "execution_count": 4,
     "metadata": {},
     "output_type": "execute_result"
    }
   ],
   "source": [
    "data.isna().any(axis = None)"
   ]
  },
  {
   "cell_type": "markdown",
   "metadata": {},
   "source": [
    "None of the Data in the DataFrame is null.\n",
    "\n",
    "I decided not to drop any of the cells in case of missing values, because this is a relatively limited dataset.\n",
    "\n",
    "If there were empty cells in the DataFrame:"
   ]
  },
  {
   "cell_type": "code",
   "execution_count": 5,
   "metadata": {},
   "outputs": [],
   "source": [
    "data.fillna(\"N/A\", inplace=True)"
   ]
  },
  {
   "cell_type": "markdown",
   "metadata": {},
   "source": [
    "---\n",
    "\n",
    "### Check for duplicates in the DataFrame."
   ]
  },
  {
   "cell_type": "code",
   "execution_count": 6,
   "metadata": {},
   "outputs": [
    {
     "data": {
      "text/plain": [
       "False"
      ]
     },
     "execution_count": 6,
     "metadata": {},
     "output_type": "execute_result"
    }
   ],
   "source": [
    "data.duplicated().any(axis=None)"
   ]
  },
  {
   "cell_type": "markdown",
   "metadata": {},
   "source": [
    "No duplicate in the data. \n",
    "\n",
    "If there were any duplicates:"
   ]
  },
  {
   "cell_type": "code",
   "execution_count": 7,
   "metadata": {},
   "outputs": [],
   "source": [
    "data.drop_duplicates(inplace=True)"
   ]
  },
  {
   "cell_type": "markdown",
   "metadata": {},
   "source": [
    "---\n",
    "\n",
    "## Data wrangling\n"
   ]
  },
  {
   "cell_type": "markdown",
   "metadata": {},
   "source": [
    "Unfortunately the number of enrolled students is given as: 5.3k, which has to be converted to a numeric value to gain statistical insights."
   ]
  },
  {
   "cell_type": "code",
   "execution_count": 8,
   "metadata": {},
   "outputs": [
    {
     "data": {
      "text/html": [
       "<div>\n",
       "<style scoped>\n",
       "    .dataframe tbody tr th:only-of-type {\n",
       "        vertical-align: middle;\n",
       "    }\n",
       "\n",
       "    .dataframe tbody tr th {\n",
       "        vertical-align: top;\n",
       "    }\n",
       "\n",
       "    .dataframe thead th {\n",
       "        text-align: right;\n",
       "    }\n",
       "</style>\n",
       "<table border=\"1\" class=\"dataframe\">\n",
       "  <thead>\n",
       "    <tr style=\"text-align: right;\">\n",
       "      <th></th>\n",
       "      <th>course_title</th>\n",
       "      <th>course_organization</th>\n",
       "      <th>course_Certificate_type</th>\n",
       "      <th>course_rating</th>\n",
       "      <th>course_difficulty</th>\n",
       "      <th>course_students_enrolled</th>\n",
       "    </tr>\n",
       "  </thead>\n",
       "  <tbody>\n",
       "    <tr>\n",
       "      <th>0</th>\n",
       "      <td>IBM Data Science</td>\n",
       "      <td>IBM</td>\n",
       "      <td>PROFESSIONAL CERTIFICATE</td>\n",
       "      <td>4.6</td>\n",
       "      <td>Beginner</td>\n",
       "      <td>480000</td>\n",
       "    </tr>\n",
       "    <tr>\n",
       "      <th>1</th>\n",
       "      <td>Introduction to Data Science</td>\n",
       "      <td>IBM</td>\n",
       "      <td>SPECIALIZATION</td>\n",
       "      <td>4.6</td>\n",
       "      <td>Beginner</td>\n",
       "      <td>310000</td>\n",
       "    </tr>\n",
       "    <tr>\n",
       "      <th>2</th>\n",
       "      <td>The Science of Well-Being</td>\n",
       "      <td>Yale University</td>\n",
       "      <td>COURSE</td>\n",
       "      <td>4.9</td>\n",
       "      <td>Mixed</td>\n",
       "      <td>2500000</td>\n",
       "    </tr>\n",
       "    <tr>\n",
       "      <th>3</th>\n",
       "      <td>Python for Everybody</td>\n",
       "      <td>University of Michigan</td>\n",
       "      <td>SPECIALIZATION</td>\n",
       "      <td>4.8</td>\n",
       "      <td>Beginner</td>\n",
       "      <td>1500000</td>\n",
       "    </tr>\n",
       "    <tr>\n",
       "      <th>4</th>\n",
       "      <td>Google IT Support</td>\n",
       "      <td>Google</td>\n",
       "      <td>PROFESSIONAL CERTIFICATE</td>\n",
       "      <td>4.8</td>\n",
       "      <td>Beginner</td>\n",
       "      <td>350000</td>\n",
       "    </tr>\n",
       "  </tbody>\n",
       "</table>\n",
       "</div>"
      ],
      "text/plain": [
       "                   course_title     course_organization  \\\n",
       "0              IBM Data Science                     IBM   \n",
       "1  Introduction to Data Science                     IBM   \n",
       "2     The Science of Well-Being         Yale University   \n",
       "3          Python for Everybody  University of Michigan   \n",
       "4             Google IT Support                  Google   \n",
       "\n",
       "    course_Certificate_type  course_rating course_difficulty  \\\n",
       "0  PROFESSIONAL CERTIFICATE            4.6          Beginner   \n",
       "1            SPECIALIZATION            4.6          Beginner   \n",
       "2                    COURSE            4.9             Mixed   \n",
       "3            SPECIALIZATION            4.8          Beginner   \n",
       "4  PROFESSIONAL CERTIFICATE            4.8          Beginner   \n",
       "\n",
       "   course_students_enrolled  \n",
       "0                    480000  \n",
       "1                    310000  \n",
       "2                   2500000  \n",
       "3                   1500000  \n",
       "4                    350000  "
      ]
     },
     "execution_count": 8,
     "metadata": {},
     "output_type": "execute_result"
    }
   ],
   "source": [
    "if data[\"course_students_enrolled\"].dtype != int: #added this check to avoid error on repeated running\n",
    "    data[\"course_students_enrolled\"] = data[\"course_students_enrolled\"].map(convert_str_to_num)\n",
    "\n",
    "data.head()"
   ]
  },
  {
   "cell_type": "markdown",
   "metadata": {},
   "source": [
    "---\n",
    "\n",
    "There are courses in multiple languages, so I will add a feature to track the language of the course."
   ]
  },
  {
   "cell_type": "code",
   "execution_count": 9,
   "metadata": {},
   "outputs": [],
   "source": [
    "if not 'language' in data.columns:\n",
    "    data['language'] = data['course_title'].apply(ld.detect)\n"
   ]
  },
  {
   "cell_type": "markdown",
   "metadata": {},
   "source": [
    "The language detection was not reliable enough, so I proofed the 170 courses that weren't detected as English, and manually set them to English if needed."
   ]
  },
  {
   "cell_type": "code",
   "execution_count": 10,
   "metadata": {},
   "outputs": [],
   "source": [
    "lang_false_idx = [0,3,4,5,11,13,24,28,33,34,41,43,46,48,75,76,78,80,92,101,102,104,110,115,119,129,137,149,153,160,167,180,188,206,210,220,239,241,256,262,268,283,285,286,304,309,317,325,326,342,365,381,390,391,410,434,441,446,455,458,487,489,490,501,519,537,539,546,553,558,578,592,595,601,611,614,639,662,682,683,693,697,706,731,732,757,761,762,817,839,855,886,887]\n",
    "\n",
    "for id in lang_false_idx:\n",
    "    data.at[id,'language'] = 'en'\n",
    "    \n",
    "lang_df = data[data['language']!='en'].loc[:, ['course_title', 'language']]"
   ]
  },
  {
   "cell_type": "code",
   "execution_count": 11,
   "metadata": {},
   "outputs": [
    {
     "data": {
      "application/vnd.plotly.v1+json": {
       "config": {
        "plotlyServerURL": "https://plot.ly"
       },
       "data": [
        {
         "alignmentgroup": "True",
         "hovertemplate": "language=%{x}<br>count=%{text}<extra></extra>",
         "legendgroup": "",
         "marker": {
          "color": "#636efa",
          "pattern": {
           "shape": ""
          }
         },
         "name": "",
         "offsetgroup": "",
         "orientation": "v",
         "showlegend": false,
         "text": [
          44,
          14,
          10,
          6,
          3,
          2,
          2
         ],
         "textposition": "auto",
         "type": "bar",
         "x": [
          "es",
          "ru",
          "fr",
          "pt",
          "ro",
          "it",
          "de"
         ],
         "xaxis": "x",
         "y": [
          44,
          14,
          10,
          6,
          3,
          2,
          2
         ],
         "yaxis": "y"
        }
       ],
       "layout": {
        "barmode": "relative",
        "hovermode": false,
        "legend": {
         "tracegroupgap": 0
        },
        "margin": {
         "t": 60
        },
        "template": {
         "data": {
          "bar": [
           {
            "error_x": {
             "color": "#f2f5fa"
            },
            "error_y": {
             "color": "#f2f5fa"
            },
            "marker": {
             "line": {
              "color": "rgb(17,17,17)",
              "width": 0.5
             },
             "pattern": {
              "fillmode": "overlay",
              "size": 10,
              "solidity": 0.2
             }
            },
            "type": "bar"
           }
          ],
          "barpolar": [
           {
            "marker": {
             "line": {
              "color": "rgb(17,17,17)",
              "width": 0.5
             },
             "pattern": {
              "fillmode": "overlay",
              "size": 10,
              "solidity": 0.2
             }
            },
            "type": "barpolar"
           }
          ],
          "carpet": [
           {
            "aaxis": {
             "endlinecolor": "#A2B1C6",
             "gridcolor": "#506784",
             "linecolor": "#506784",
             "minorgridcolor": "#506784",
             "startlinecolor": "#A2B1C6"
            },
            "baxis": {
             "endlinecolor": "#A2B1C6",
             "gridcolor": "#506784",
             "linecolor": "#506784",
             "minorgridcolor": "#506784",
             "startlinecolor": "#A2B1C6"
            },
            "type": "carpet"
           }
          ],
          "choropleth": [
           {
            "colorbar": {
             "outlinewidth": 0,
             "ticks": ""
            },
            "type": "choropleth"
           }
          ],
          "contour": [
           {
            "colorbar": {
             "outlinewidth": 0,
             "ticks": ""
            },
            "colorscale": [
             [
              0,
              "#0d0887"
             ],
             [
              0.1111111111111111,
              "#46039f"
             ],
             [
              0.2222222222222222,
              "#7201a8"
             ],
             [
              0.3333333333333333,
              "#9c179e"
             ],
             [
              0.4444444444444444,
              "#bd3786"
             ],
             [
              0.5555555555555556,
              "#d8576b"
             ],
             [
              0.6666666666666666,
              "#ed7953"
             ],
             [
              0.7777777777777778,
              "#fb9f3a"
             ],
             [
              0.8888888888888888,
              "#fdca26"
             ],
             [
              1,
              "#f0f921"
             ]
            ],
            "type": "contour"
           }
          ],
          "contourcarpet": [
           {
            "colorbar": {
             "outlinewidth": 0,
             "ticks": ""
            },
            "type": "contourcarpet"
           }
          ],
          "heatmap": [
           {
            "colorbar": {
             "outlinewidth": 0,
             "ticks": ""
            },
            "colorscale": [
             [
              0,
              "#0d0887"
             ],
             [
              0.1111111111111111,
              "#46039f"
             ],
             [
              0.2222222222222222,
              "#7201a8"
             ],
             [
              0.3333333333333333,
              "#9c179e"
             ],
             [
              0.4444444444444444,
              "#bd3786"
             ],
             [
              0.5555555555555556,
              "#d8576b"
             ],
             [
              0.6666666666666666,
              "#ed7953"
             ],
             [
              0.7777777777777778,
              "#fb9f3a"
             ],
             [
              0.8888888888888888,
              "#fdca26"
             ],
             [
              1,
              "#f0f921"
             ]
            ],
            "type": "heatmap"
           }
          ],
          "heatmapgl": [
           {
            "colorbar": {
             "outlinewidth": 0,
             "ticks": ""
            },
            "colorscale": [
             [
              0,
              "#0d0887"
             ],
             [
              0.1111111111111111,
              "#46039f"
             ],
             [
              0.2222222222222222,
              "#7201a8"
             ],
             [
              0.3333333333333333,
              "#9c179e"
             ],
             [
              0.4444444444444444,
              "#bd3786"
             ],
             [
              0.5555555555555556,
              "#d8576b"
             ],
             [
              0.6666666666666666,
              "#ed7953"
             ],
             [
              0.7777777777777778,
              "#fb9f3a"
             ],
             [
              0.8888888888888888,
              "#fdca26"
             ],
             [
              1,
              "#f0f921"
             ]
            ],
            "type": "heatmapgl"
           }
          ],
          "histogram": [
           {
            "marker": {
             "pattern": {
              "fillmode": "overlay",
              "size": 10,
              "solidity": 0.2
             }
            },
            "type": "histogram"
           }
          ],
          "histogram2d": [
           {
            "colorbar": {
             "outlinewidth": 0,
             "ticks": ""
            },
            "colorscale": [
             [
              0,
              "#0d0887"
             ],
             [
              0.1111111111111111,
              "#46039f"
             ],
             [
              0.2222222222222222,
              "#7201a8"
             ],
             [
              0.3333333333333333,
              "#9c179e"
             ],
             [
              0.4444444444444444,
              "#bd3786"
             ],
             [
              0.5555555555555556,
              "#d8576b"
             ],
             [
              0.6666666666666666,
              "#ed7953"
             ],
             [
              0.7777777777777778,
              "#fb9f3a"
             ],
             [
              0.8888888888888888,
              "#fdca26"
             ],
             [
              1,
              "#f0f921"
             ]
            ],
            "type": "histogram2d"
           }
          ],
          "histogram2dcontour": [
           {
            "colorbar": {
             "outlinewidth": 0,
             "ticks": ""
            },
            "colorscale": [
             [
              0,
              "#0d0887"
             ],
             [
              0.1111111111111111,
              "#46039f"
             ],
             [
              0.2222222222222222,
              "#7201a8"
             ],
             [
              0.3333333333333333,
              "#9c179e"
             ],
             [
              0.4444444444444444,
              "#bd3786"
             ],
             [
              0.5555555555555556,
              "#d8576b"
             ],
             [
              0.6666666666666666,
              "#ed7953"
             ],
             [
              0.7777777777777778,
              "#fb9f3a"
             ],
             [
              0.8888888888888888,
              "#fdca26"
             ],
             [
              1,
              "#f0f921"
             ]
            ],
            "type": "histogram2dcontour"
           }
          ],
          "mesh3d": [
           {
            "colorbar": {
             "outlinewidth": 0,
             "ticks": ""
            },
            "type": "mesh3d"
           }
          ],
          "parcoords": [
           {
            "line": {
             "colorbar": {
              "outlinewidth": 0,
              "ticks": ""
             }
            },
            "type": "parcoords"
           }
          ],
          "pie": [
           {
            "automargin": true,
            "type": "pie"
           }
          ],
          "scatter": [
           {
            "marker": {
             "line": {
              "color": "#283442"
             }
            },
            "type": "scatter"
           }
          ],
          "scatter3d": [
           {
            "line": {
             "colorbar": {
              "outlinewidth": 0,
              "ticks": ""
             }
            },
            "marker": {
             "colorbar": {
              "outlinewidth": 0,
              "ticks": ""
             }
            },
            "type": "scatter3d"
           }
          ],
          "scattercarpet": [
           {
            "marker": {
             "colorbar": {
              "outlinewidth": 0,
              "ticks": ""
             }
            },
            "type": "scattercarpet"
           }
          ],
          "scattergeo": [
           {
            "marker": {
             "colorbar": {
              "outlinewidth": 0,
              "ticks": ""
             }
            },
            "type": "scattergeo"
           }
          ],
          "scattergl": [
           {
            "marker": {
             "line": {
              "color": "#283442"
             }
            },
            "type": "scattergl"
           }
          ],
          "scattermapbox": [
           {
            "marker": {
             "colorbar": {
              "outlinewidth": 0,
              "ticks": ""
             }
            },
            "type": "scattermapbox"
           }
          ],
          "scatterpolar": [
           {
            "marker": {
             "colorbar": {
              "outlinewidth": 0,
              "ticks": ""
             }
            },
            "type": "scatterpolar"
           }
          ],
          "scatterpolargl": [
           {
            "marker": {
             "colorbar": {
              "outlinewidth": 0,
              "ticks": ""
             }
            },
            "type": "scatterpolargl"
           }
          ],
          "scatterternary": [
           {
            "marker": {
             "colorbar": {
              "outlinewidth": 0,
              "ticks": ""
             }
            },
            "type": "scatterternary"
           }
          ],
          "surface": [
           {
            "colorbar": {
             "outlinewidth": 0,
             "ticks": ""
            },
            "colorscale": [
             [
              0,
              "#0d0887"
             ],
             [
              0.1111111111111111,
              "#46039f"
             ],
             [
              0.2222222222222222,
              "#7201a8"
             ],
             [
              0.3333333333333333,
              "#9c179e"
             ],
             [
              0.4444444444444444,
              "#bd3786"
             ],
             [
              0.5555555555555556,
              "#d8576b"
             ],
             [
              0.6666666666666666,
              "#ed7953"
             ],
             [
              0.7777777777777778,
              "#fb9f3a"
             ],
             [
              0.8888888888888888,
              "#fdca26"
             ],
             [
              1,
              "#f0f921"
             ]
            ],
            "type": "surface"
           }
          ],
          "table": [
           {
            "cells": {
             "fill": {
              "color": "#506784"
             },
             "line": {
              "color": "rgb(17,17,17)"
             }
            },
            "header": {
             "fill": {
              "color": "#2a3f5f"
             },
             "line": {
              "color": "rgb(17,17,17)"
             }
            },
            "type": "table"
           }
          ]
         },
         "layout": {
          "annotationdefaults": {
           "arrowcolor": "#f2f5fa",
           "arrowhead": 0,
           "arrowwidth": 1
          },
          "autotypenumbers": "strict",
          "coloraxis": {
           "colorbar": {
            "outlinewidth": 0,
            "ticks": ""
           }
          },
          "colorscale": {
           "diverging": [
            [
             0,
             "#8e0152"
            ],
            [
             0.1,
             "#c51b7d"
            ],
            [
             0.2,
             "#de77ae"
            ],
            [
             0.3,
             "#f1b6da"
            ],
            [
             0.4,
             "#fde0ef"
            ],
            [
             0.5,
             "#f7f7f7"
            ],
            [
             0.6,
             "#e6f5d0"
            ],
            [
             0.7,
             "#b8e186"
            ],
            [
             0.8,
             "#7fbc41"
            ],
            [
             0.9,
             "#4d9221"
            ],
            [
             1,
             "#276419"
            ]
           ],
           "sequential": [
            [
             0,
             "#0d0887"
            ],
            [
             0.1111111111111111,
             "#46039f"
            ],
            [
             0.2222222222222222,
             "#7201a8"
            ],
            [
             0.3333333333333333,
             "#9c179e"
            ],
            [
             0.4444444444444444,
             "#bd3786"
            ],
            [
             0.5555555555555556,
             "#d8576b"
            ],
            [
             0.6666666666666666,
             "#ed7953"
            ],
            [
             0.7777777777777778,
             "#fb9f3a"
            ],
            [
             0.8888888888888888,
             "#fdca26"
            ],
            [
             1,
             "#f0f921"
            ]
           ],
           "sequentialminus": [
            [
             0,
             "#0d0887"
            ],
            [
             0.1111111111111111,
             "#46039f"
            ],
            [
             0.2222222222222222,
             "#7201a8"
            ],
            [
             0.3333333333333333,
             "#9c179e"
            ],
            [
             0.4444444444444444,
             "#bd3786"
            ],
            [
             0.5555555555555556,
             "#d8576b"
            ],
            [
             0.6666666666666666,
             "#ed7953"
            ],
            [
             0.7777777777777778,
             "#fb9f3a"
            ],
            [
             0.8888888888888888,
             "#fdca26"
            ],
            [
             1,
             "#f0f921"
            ]
           ]
          },
          "colorway": [
           "#636efa",
           "#EF553B",
           "#00cc96",
           "#ab63fa",
           "#FFA15A",
           "#19d3f3",
           "#FF6692",
           "#B6E880",
           "#FF97FF",
           "#FECB52"
          ],
          "font": {
           "color": "#f2f5fa"
          },
          "geo": {
           "bgcolor": "rgb(17,17,17)",
           "lakecolor": "rgb(17,17,17)",
           "landcolor": "rgb(17,17,17)",
           "showlakes": true,
           "showland": true,
           "subunitcolor": "#506784"
          },
          "hoverlabel": {
           "align": "left"
          },
          "hovermode": "closest",
          "mapbox": {
           "style": "dark"
          },
          "paper_bgcolor": "rgb(17,17,17)",
          "plot_bgcolor": "rgb(17,17,17)",
          "polar": {
           "angularaxis": {
            "gridcolor": "#506784",
            "linecolor": "#506784",
            "ticks": ""
           },
           "bgcolor": "rgb(17,17,17)",
           "radialaxis": {
            "gridcolor": "#506784",
            "linecolor": "#506784",
            "ticks": ""
           }
          },
          "scene": {
           "xaxis": {
            "backgroundcolor": "rgb(17,17,17)",
            "gridcolor": "#506784",
            "gridwidth": 2,
            "linecolor": "#506784",
            "showbackground": true,
            "ticks": "",
            "zerolinecolor": "#C8D4E3"
           },
           "yaxis": {
            "backgroundcolor": "rgb(17,17,17)",
            "gridcolor": "#506784",
            "gridwidth": 2,
            "linecolor": "#506784",
            "showbackground": true,
            "ticks": "",
            "zerolinecolor": "#C8D4E3"
           },
           "zaxis": {
            "backgroundcolor": "rgb(17,17,17)",
            "gridcolor": "#506784",
            "gridwidth": 2,
            "linecolor": "#506784",
            "showbackground": true,
            "ticks": "",
            "zerolinecolor": "#C8D4E3"
           }
          },
          "shapedefaults": {
           "line": {
            "color": "#f2f5fa"
           }
          },
          "sliderdefaults": {
           "bgcolor": "#C8D4E3",
           "bordercolor": "rgb(17,17,17)",
           "borderwidth": 1,
           "tickwidth": 0
          },
          "ternary": {
           "aaxis": {
            "gridcolor": "#506784",
            "linecolor": "#506784",
            "ticks": ""
           },
           "baxis": {
            "gridcolor": "#506784",
            "linecolor": "#506784",
            "ticks": ""
           },
           "bgcolor": "rgb(17,17,17)",
           "caxis": {
            "gridcolor": "#506784",
            "linecolor": "#506784",
            "ticks": ""
           }
          },
          "title": {
           "x": 0.05
          },
          "updatemenudefaults": {
           "bgcolor": "#506784",
           "borderwidth": 0
          },
          "xaxis": {
           "automargin": true,
           "gridcolor": "#283442",
           "linecolor": "#506784",
           "ticks": "",
           "title": {
            "standoff": 15
           },
           "zerolinecolor": "#283442",
           "zerolinewidth": 2
          },
          "yaxis": {
           "automargin": true,
           "gridcolor": "#283442",
           "linecolor": "#506784",
           "ticks": "",
           "title": {
            "standoff": 15
           },
           "zerolinecolor": "#283442",
           "zerolinewidth": 2
          }
         }
        },
        "title": {
         "text": "Non-English Courses"
        },
        "xaxis": {
         "anchor": "y",
         "domain": [
          0,
          1
         ],
         "title": {
          "text": "Non-English languages"
         }
        },
        "yaxis": {
         "anchor": "x",
         "domain": [
          0,
          1
         ],
         "title": {
          "text": "Count"
         }
        }
       }
      }
     },
     "metadata": {},
     "output_type": "display_data"
    }
   ],
   "source": [
    "plot_lan(lang_df)"
   ]
  },
  {
   "cell_type": "code",
   "execution_count": 12,
   "metadata": {},
   "outputs": [
    {
     "data": {
      "text/html": [
       "<div>\n",
       "<style scoped>\n",
       "    .dataframe tbody tr th:only-of-type {\n",
       "        vertical-align: middle;\n",
       "    }\n",
       "\n",
       "    .dataframe tbody tr th {\n",
       "        vertical-align: top;\n",
       "    }\n",
       "\n",
       "    .dataframe thead th {\n",
       "        text-align: right;\n",
       "    }\n",
       "</style>\n",
       "<table border=\"1\" class=\"dataframe\">\n",
       "  <thead>\n",
       "    <tr style=\"text-align: right;\">\n",
       "      <th></th>\n",
       "      <th>language</th>\n",
       "      <th>worldwide</th>\n",
       "      <th>in dataset</th>\n",
       "    </tr>\n",
       "  </thead>\n",
       "  <tbody>\n",
       "    <tr>\n",
       "      <th>0</th>\n",
       "      <td>English</td>\n",
       "      <td>18.8</td>\n",
       "      <td>90.2</td>\n",
       "    </tr>\n",
       "    <tr>\n",
       "      <th>1</th>\n",
       "      <td>Spanish</td>\n",
       "      <td>6.9</td>\n",
       "      <td>4.9</td>\n",
       "    </tr>\n",
       "    <tr>\n",
       "      <th>2</th>\n",
       "      <td>French</td>\n",
       "      <td>3.4</td>\n",
       "      <td>1.1</td>\n",
       "    </tr>\n",
       "    <tr>\n",
       "      <th>3</th>\n",
       "      <td>Russian</td>\n",
       "      <td>3.2</td>\n",
       "      <td>1.6</td>\n",
       "    </tr>\n",
       "    <tr>\n",
       "      <th>4</th>\n",
       "      <td>Portugese</td>\n",
       "      <td>3.2</td>\n",
       "      <td>0.7</td>\n",
       "    </tr>\n",
       "  </tbody>\n",
       "</table>\n",
       "</div>"
      ],
      "text/plain": [
       "    language  worldwide  in dataset\n",
       "0    English       18.8        90.2\n",
       "1    Spanish        6.9         4.9\n",
       "2     French        3.4         1.1\n",
       "3    Russian        3.2         1.6\n",
       "4  Portugese        3.2         0.7"
      ]
     },
     "execution_count": 12,
     "metadata": {},
     "output_type": "execute_result"
    }
   ],
   "source": [
    "records = data.index.size\n",
    "en_count = data[data.language =='en'].index.size\n",
    "es_count = data[data.language =='es'].index.size\n",
    "fr_count = data[data.language =='fr'].index.size\n",
    "ru_count = data[data.language =='ru'].index.size\n",
    "pt_count = data[data.language =='pt'].index.size\n",
    "\n",
    "lang_raw = [\n",
    "    {'language': 'English', 'worldwide': 18.8, 'in dataset': round(en_count/records*100, 1)},\n",
    "    {'language': 'Spanish', 'worldwide': 6.9, 'in dataset': round(es_count/records*100, 1)},\n",
    "    {'language': 'French', 'worldwide': 3.4, 'in dataset': round(fr_count/records*100, 1)},\n",
    "    {'language': 'Russian', 'worldwide': 3.2, 'in dataset': round(ru_count/records*100, 1)},\n",
    "    {'language': 'Portugese', 'worldwide': 3.2, 'in dataset': round(pt_count/records*100, 1)},\n",
    "    ]\n",
    "\n",
    "#Source: https://en.wikipedia.org/wiki/List_of_languages_by_total_number_of_speakers\n",
    "\n",
    "lang_comparison = pd.DataFrame(lang_raw)\n",
    "lang_comparison\n"
   ]
  },
  {
   "cell_type": "code",
   "execution_count": 13,
   "metadata": {},
   "outputs": [
    {
     "data": {
      "application/vnd.plotly.v1+json": {
       "config": {
        "plotlyServerURL": "https://plot.ly"
       },
       "data": [
        {
         "name": "Worldwide %",
         "text": [
          18.8,
          6.9,
          3.4,
          3.2,
          3.2
         ],
         "type": "bar",
         "x": [
          "English",
          "Spanish",
          "French",
          "Russian",
          "Portugese"
         ],
         "y": [
          18.8,
          6.9,
          3.4,
          3.2,
          3.2
         ]
        },
        {
         "name": "In dataset %",
         "text": [
          90.2,
          4.9,
          1.1,
          1.6,
          0.7
         ],
         "type": "bar",
         "x": [
          "English",
          "Spanish",
          "French",
          "Russian",
          "Portugese"
         ],
         "y": [
          90.2,
          4.9,
          1.1,
          1.6,
          0.7
         ]
        }
       ],
       "layout": {
        "barmode": "group",
        "hovermode": false,
        "template": {
         "data": {
          "bar": [
           {
            "error_x": {
             "color": "#f2f5fa"
            },
            "error_y": {
             "color": "#f2f5fa"
            },
            "marker": {
             "line": {
              "color": "rgb(17,17,17)",
              "width": 0.5
             },
             "pattern": {
              "fillmode": "overlay",
              "size": 10,
              "solidity": 0.2
             }
            },
            "type": "bar"
           }
          ],
          "barpolar": [
           {
            "marker": {
             "line": {
              "color": "rgb(17,17,17)",
              "width": 0.5
             },
             "pattern": {
              "fillmode": "overlay",
              "size": 10,
              "solidity": 0.2
             }
            },
            "type": "barpolar"
           }
          ],
          "carpet": [
           {
            "aaxis": {
             "endlinecolor": "#A2B1C6",
             "gridcolor": "#506784",
             "linecolor": "#506784",
             "minorgridcolor": "#506784",
             "startlinecolor": "#A2B1C6"
            },
            "baxis": {
             "endlinecolor": "#A2B1C6",
             "gridcolor": "#506784",
             "linecolor": "#506784",
             "minorgridcolor": "#506784",
             "startlinecolor": "#A2B1C6"
            },
            "type": "carpet"
           }
          ],
          "choropleth": [
           {
            "colorbar": {
             "outlinewidth": 0,
             "ticks": ""
            },
            "type": "choropleth"
           }
          ],
          "contour": [
           {
            "colorbar": {
             "outlinewidth": 0,
             "ticks": ""
            },
            "colorscale": [
             [
              0,
              "#0d0887"
             ],
             [
              0.1111111111111111,
              "#46039f"
             ],
             [
              0.2222222222222222,
              "#7201a8"
             ],
             [
              0.3333333333333333,
              "#9c179e"
             ],
             [
              0.4444444444444444,
              "#bd3786"
             ],
             [
              0.5555555555555556,
              "#d8576b"
             ],
             [
              0.6666666666666666,
              "#ed7953"
             ],
             [
              0.7777777777777778,
              "#fb9f3a"
             ],
             [
              0.8888888888888888,
              "#fdca26"
             ],
             [
              1,
              "#f0f921"
             ]
            ],
            "type": "contour"
           }
          ],
          "contourcarpet": [
           {
            "colorbar": {
             "outlinewidth": 0,
             "ticks": ""
            },
            "type": "contourcarpet"
           }
          ],
          "heatmap": [
           {
            "colorbar": {
             "outlinewidth": 0,
             "ticks": ""
            },
            "colorscale": [
             [
              0,
              "#0d0887"
             ],
             [
              0.1111111111111111,
              "#46039f"
             ],
             [
              0.2222222222222222,
              "#7201a8"
             ],
             [
              0.3333333333333333,
              "#9c179e"
             ],
             [
              0.4444444444444444,
              "#bd3786"
             ],
             [
              0.5555555555555556,
              "#d8576b"
             ],
             [
              0.6666666666666666,
              "#ed7953"
             ],
             [
              0.7777777777777778,
              "#fb9f3a"
             ],
             [
              0.8888888888888888,
              "#fdca26"
             ],
             [
              1,
              "#f0f921"
             ]
            ],
            "type": "heatmap"
           }
          ],
          "heatmapgl": [
           {
            "colorbar": {
             "outlinewidth": 0,
             "ticks": ""
            },
            "colorscale": [
             [
              0,
              "#0d0887"
             ],
             [
              0.1111111111111111,
              "#46039f"
             ],
             [
              0.2222222222222222,
              "#7201a8"
             ],
             [
              0.3333333333333333,
              "#9c179e"
             ],
             [
              0.4444444444444444,
              "#bd3786"
             ],
             [
              0.5555555555555556,
              "#d8576b"
             ],
             [
              0.6666666666666666,
              "#ed7953"
             ],
             [
              0.7777777777777778,
              "#fb9f3a"
             ],
             [
              0.8888888888888888,
              "#fdca26"
             ],
             [
              1,
              "#f0f921"
             ]
            ],
            "type": "heatmapgl"
           }
          ],
          "histogram": [
           {
            "marker": {
             "pattern": {
              "fillmode": "overlay",
              "size": 10,
              "solidity": 0.2
             }
            },
            "type": "histogram"
           }
          ],
          "histogram2d": [
           {
            "colorbar": {
             "outlinewidth": 0,
             "ticks": ""
            },
            "colorscale": [
             [
              0,
              "#0d0887"
             ],
             [
              0.1111111111111111,
              "#46039f"
             ],
             [
              0.2222222222222222,
              "#7201a8"
             ],
             [
              0.3333333333333333,
              "#9c179e"
             ],
             [
              0.4444444444444444,
              "#bd3786"
             ],
             [
              0.5555555555555556,
              "#d8576b"
             ],
             [
              0.6666666666666666,
              "#ed7953"
             ],
             [
              0.7777777777777778,
              "#fb9f3a"
             ],
             [
              0.8888888888888888,
              "#fdca26"
             ],
             [
              1,
              "#f0f921"
             ]
            ],
            "type": "histogram2d"
           }
          ],
          "histogram2dcontour": [
           {
            "colorbar": {
             "outlinewidth": 0,
             "ticks": ""
            },
            "colorscale": [
             [
              0,
              "#0d0887"
             ],
             [
              0.1111111111111111,
              "#46039f"
             ],
             [
              0.2222222222222222,
              "#7201a8"
             ],
             [
              0.3333333333333333,
              "#9c179e"
             ],
             [
              0.4444444444444444,
              "#bd3786"
             ],
             [
              0.5555555555555556,
              "#d8576b"
             ],
             [
              0.6666666666666666,
              "#ed7953"
             ],
             [
              0.7777777777777778,
              "#fb9f3a"
             ],
             [
              0.8888888888888888,
              "#fdca26"
             ],
             [
              1,
              "#f0f921"
             ]
            ],
            "type": "histogram2dcontour"
           }
          ],
          "mesh3d": [
           {
            "colorbar": {
             "outlinewidth": 0,
             "ticks": ""
            },
            "type": "mesh3d"
           }
          ],
          "parcoords": [
           {
            "line": {
             "colorbar": {
              "outlinewidth": 0,
              "ticks": ""
             }
            },
            "type": "parcoords"
           }
          ],
          "pie": [
           {
            "automargin": true,
            "type": "pie"
           }
          ],
          "scatter": [
           {
            "marker": {
             "line": {
              "color": "#283442"
             }
            },
            "type": "scatter"
           }
          ],
          "scatter3d": [
           {
            "line": {
             "colorbar": {
              "outlinewidth": 0,
              "ticks": ""
             }
            },
            "marker": {
             "colorbar": {
              "outlinewidth": 0,
              "ticks": ""
             }
            },
            "type": "scatter3d"
           }
          ],
          "scattercarpet": [
           {
            "marker": {
             "colorbar": {
              "outlinewidth": 0,
              "ticks": ""
             }
            },
            "type": "scattercarpet"
           }
          ],
          "scattergeo": [
           {
            "marker": {
             "colorbar": {
              "outlinewidth": 0,
              "ticks": ""
             }
            },
            "type": "scattergeo"
           }
          ],
          "scattergl": [
           {
            "marker": {
             "line": {
              "color": "#283442"
             }
            },
            "type": "scattergl"
           }
          ],
          "scattermapbox": [
           {
            "marker": {
             "colorbar": {
              "outlinewidth": 0,
              "ticks": ""
             }
            },
            "type": "scattermapbox"
           }
          ],
          "scatterpolar": [
           {
            "marker": {
             "colorbar": {
              "outlinewidth": 0,
              "ticks": ""
             }
            },
            "type": "scatterpolar"
           }
          ],
          "scatterpolargl": [
           {
            "marker": {
             "colorbar": {
              "outlinewidth": 0,
              "ticks": ""
             }
            },
            "type": "scatterpolargl"
           }
          ],
          "scatterternary": [
           {
            "marker": {
             "colorbar": {
              "outlinewidth": 0,
              "ticks": ""
             }
            },
            "type": "scatterternary"
           }
          ],
          "surface": [
           {
            "colorbar": {
             "outlinewidth": 0,
             "ticks": ""
            },
            "colorscale": [
             [
              0,
              "#0d0887"
             ],
             [
              0.1111111111111111,
              "#46039f"
             ],
             [
              0.2222222222222222,
              "#7201a8"
             ],
             [
              0.3333333333333333,
              "#9c179e"
             ],
             [
              0.4444444444444444,
              "#bd3786"
             ],
             [
              0.5555555555555556,
              "#d8576b"
             ],
             [
              0.6666666666666666,
              "#ed7953"
             ],
             [
              0.7777777777777778,
              "#fb9f3a"
             ],
             [
              0.8888888888888888,
              "#fdca26"
             ],
             [
              1,
              "#f0f921"
             ]
            ],
            "type": "surface"
           }
          ],
          "table": [
           {
            "cells": {
             "fill": {
              "color": "#506784"
             },
             "line": {
              "color": "rgb(17,17,17)"
             }
            },
            "header": {
             "fill": {
              "color": "#2a3f5f"
             },
             "line": {
              "color": "rgb(17,17,17)"
             }
            },
            "type": "table"
           }
          ]
         },
         "layout": {
          "annotationdefaults": {
           "arrowcolor": "#f2f5fa",
           "arrowhead": 0,
           "arrowwidth": 1
          },
          "autotypenumbers": "strict",
          "coloraxis": {
           "colorbar": {
            "outlinewidth": 0,
            "ticks": ""
           }
          },
          "colorscale": {
           "diverging": [
            [
             0,
             "#8e0152"
            ],
            [
             0.1,
             "#c51b7d"
            ],
            [
             0.2,
             "#de77ae"
            ],
            [
             0.3,
             "#f1b6da"
            ],
            [
             0.4,
             "#fde0ef"
            ],
            [
             0.5,
             "#f7f7f7"
            ],
            [
             0.6,
             "#e6f5d0"
            ],
            [
             0.7,
             "#b8e186"
            ],
            [
             0.8,
             "#7fbc41"
            ],
            [
             0.9,
             "#4d9221"
            ],
            [
             1,
             "#276419"
            ]
           ],
           "sequential": [
            [
             0,
             "#0d0887"
            ],
            [
             0.1111111111111111,
             "#46039f"
            ],
            [
             0.2222222222222222,
             "#7201a8"
            ],
            [
             0.3333333333333333,
             "#9c179e"
            ],
            [
             0.4444444444444444,
             "#bd3786"
            ],
            [
             0.5555555555555556,
             "#d8576b"
            ],
            [
             0.6666666666666666,
             "#ed7953"
            ],
            [
             0.7777777777777778,
             "#fb9f3a"
            ],
            [
             0.8888888888888888,
             "#fdca26"
            ],
            [
             1,
             "#f0f921"
            ]
           ],
           "sequentialminus": [
            [
             0,
             "#0d0887"
            ],
            [
             0.1111111111111111,
             "#46039f"
            ],
            [
             0.2222222222222222,
             "#7201a8"
            ],
            [
             0.3333333333333333,
             "#9c179e"
            ],
            [
             0.4444444444444444,
             "#bd3786"
            ],
            [
             0.5555555555555556,
             "#d8576b"
            ],
            [
             0.6666666666666666,
             "#ed7953"
            ],
            [
             0.7777777777777778,
             "#fb9f3a"
            ],
            [
             0.8888888888888888,
             "#fdca26"
            ],
            [
             1,
             "#f0f921"
            ]
           ]
          },
          "colorway": [
           "#636efa",
           "#EF553B",
           "#00cc96",
           "#ab63fa",
           "#FFA15A",
           "#19d3f3",
           "#FF6692",
           "#B6E880",
           "#FF97FF",
           "#FECB52"
          ],
          "font": {
           "color": "#f2f5fa"
          },
          "geo": {
           "bgcolor": "rgb(17,17,17)",
           "lakecolor": "rgb(17,17,17)",
           "landcolor": "rgb(17,17,17)",
           "showlakes": true,
           "showland": true,
           "subunitcolor": "#506784"
          },
          "hoverlabel": {
           "align": "left"
          },
          "hovermode": "closest",
          "mapbox": {
           "style": "dark"
          },
          "paper_bgcolor": "rgb(17,17,17)",
          "plot_bgcolor": "rgb(17,17,17)",
          "polar": {
           "angularaxis": {
            "gridcolor": "#506784",
            "linecolor": "#506784",
            "ticks": ""
           },
           "bgcolor": "rgb(17,17,17)",
           "radialaxis": {
            "gridcolor": "#506784",
            "linecolor": "#506784",
            "ticks": ""
           }
          },
          "scene": {
           "xaxis": {
            "backgroundcolor": "rgb(17,17,17)",
            "gridcolor": "#506784",
            "gridwidth": 2,
            "linecolor": "#506784",
            "showbackground": true,
            "ticks": "",
            "zerolinecolor": "#C8D4E3"
           },
           "yaxis": {
            "backgroundcolor": "rgb(17,17,17)",
            "gridcolor": "#506784",
            "gridwidth": 2,
            "linecolor": "#506784",
            "showbackground": true,
            "ticks": "",
            "zerolinecolor": "#C8D4E3"
           },
           "zaxis": {
            "backgroundcolor": "rgb(17,17,17)",
            "gridcolor": "#506784",
            "gridwidth": 2,
            "linecolor": "#506784",
            "showbackground": true,
            "ticks": "",
            "zerolinecolor": "#C8D4E3"
           }
          },
          "shapedefaults": {
           "line": {
            "color": "#f2f5fa"
           }
          },
          "sliderdefaults": {
           "bgcolor": "#C8D4E3",
           "bordercolor": "rgb(17,17,17)",
           "borderwidth": 1,
           "tickwidth": 0
          },
          "ternary": {
           "aaxis": {
            "gridcolor": "#506784",
            "linecolor": "#506784",
            "ticks": ""
           },
           "baxis": {
            "gridcolor": "#506784",
            "linecolor": "#506784",
            "ticks": ""
           },
           "bgcolor": "rgb(17,17,17)",
           "caxis": {
            "gridcolor": "#506784",
            "linecolor": "#506784",
            "ticks": ""
           }
          },
          "title": {
           "x": 0.05
          },
          "updatemenudefaults": {
           "bgcolor": "#506784",
           "borderwidth": 0
          },
          "xaxis": {
           "automargin": true,
           "gridcolor": "#283442",
           "linecolor": "#506784",
           "ticks": "",
           "title": {
            "standoff": 15
           },
           "zerolinecolor": "#283442",
           "zerolinewidth": 2
          },
          "yaxis": {
           "automargin": true,
           "gridcolor": "#283442",
           "linecolor": "#506784",
           "ticks": "",
           "title": {
            "standoff": 15
           },
           "zerolinecolor": "#283442",
           "zerolinewidth": 2
          }
         }
        },
        "title": {
         "text": "Comparison of languages spoken worldwide and course languages"
        },
        "yaxis": {
         "ticksuffix": " %"
        }
       }
      }
     },
     "metadata": {},
     "output_type": "display_data"
    }
   ],
   "source": [
    "compare_lang(lang_comparison)"
   ]
  },
  {
   "cell_type": "markdown",
   "metadata": {},
   "source": [
    "> Based on this comparison, it seems practical to develop courses for English and Spanish speakers."
   ]
  },
  {
   "cell_type": "markdown",
   "metadata": {},
   "source": [
    "---"
   ]
  },
  {
   "cell_type": "markdown",
   "metadata": {},
   "source": [
    "# Exploratory data analysis\n",
    "\n",
    "Filtering for institutions that have more than x courses. \n",
    "\n",
    "From a business perspective it might be smart to target these institutions with our services, because they are more likely to have a budget to be able to develop their materials based on analytics provided by us.\n",
    "\n",
    "In the color coding the respective ratings of the institution reviews are also included.\n",
    "\n",
    "Modify x below as desired."
   ]
  },
  {
   "cell_type": "code",
   "execution_count": 39,
   "metadata": {},
   "outputs": [
    {
     "data": {
      "application/vnd.plotly.v1+json": {
       "config": {
        "plotlyServerURL": "https://plot.ly"
       },
       "data": [
        {
         "alignmentgroup": "True",
         "hovertemplate": "course_organization=%{x}<br>value=%{y}<br>Rating=%{marker.color}<extra></extra>",
         "legendgroup": "",
         "marker": {
          "color": [
           4.664285714285714,
           4.582352941176471,
           4.613636363636363,
           4.660714285714286,
           4.619047619047619,
           4.596296296296296,
           4.654545454545455,
           4.729268292682927,
           4.696610169491525
          ],
          "coloraxis": "coloraxis",
          "pattern": {
           "shape": ""
          }
         },
         "name": "",
         "offsetgroup": "",
         "orientation": "v",
         "showlegend": false,
         "textposition": "auto",
         "texttemplate": "%{y}",
         "type": "bar",
         "width": 0.45,
         "x": [
          "University of Pennsylvania",
          "University of Michigan",
          "Google Cloud",
          "Duke University",
          "Johns Hopkins University",
          "University of California, Irvine",
          "IBM",
          "University of Illinois at Urbana-Champaign",
          "University of California, Davis"
         ],
         "xaxis": "x",
         "y": [
          59,
          41,
          34,
          28,
          28,
          27,
          22,
          22,
          21
         ],
         "yaxis": "y"
        }
       ],
       "layout": {
        "barmode": "relative",
        "coloraxis": {
         "colorbar": {
          "title": {
           "text": "Rating"
          }
         },
         "colorscale": [
          [
           0,
           "#0d0887"
          ],
          [
           0.1111111111111111,
           "#46039f"
          ],
          [
           0.2222222222222222,
           "#7201a8"
          ],
          [
           0.3333333333333333,
           "#9c179e"
          ],
          [
           0.4444444444444444,
           "#bd3786"
          ],
          [
           0.5555555555555556,
           "#d8576b"
          ],
          [
           0.6666666666666666,
           "#ed7953"
          ],
          [
           0.7777777777777778,
           "#fb9f3a"
          ],
          [
           0.8888888888888888,
           "#fdca26"
          ],
          [
           1,
           "#f0f921"
          ]
         ]
        },
        "font": {
         "size": 16
        },
        "hovermode": false,
        "legend": {
         "tracegroupgap": 0
        },
        "margin": {
         "t": 60
        },
        "template": {
         "data": {
          "bar": [
           {
            "error_x": {
             "color": "#f2f5fa"
            },
            "error_y": {
             "color": "#f2f5fa"
            },
            "marker": {
             "line": {
              "color": "rgb(17,17,17)",
              "width": 0.5
             },
             "pattern": {
              "fillmode": "overlay",
              "size": 10,
              "solidity": 0.2
             }
            },
            "type": "bar"
           }
          ],
          "barpolar": [
           {
            "marker": {
             "line": {
              "color": "rgb(17,17,17)",
              "width": 0.5
             },
             "pattern": {
              "fillmode": "overlay",
              "size": 10,
              "solidity": 0.2
             }
            },
            "type": "barpolar"
           }
          ],
          "carpet": [
           {
            "aaxis": {
             "endlinecolor": "#A2B1C6",
             "gridcolor": "#506784",
             "linecolor": "#506784",
             "minorgridcolor": "#506784",
             "startlinecolor": "#A2B1C6"
            },
            "baxis": {
             "endlinecolor": "#A2B1C6",
             "gridcolor": "#506784",
             "linecolor": "#506784",
             "minorgridcolor": "#506784",
             "startlinecolor": "#A2B1C6"
            },
            "type": "carpet"
           }
          ],
          "choropleth": [
           {
            "colorbar": {
             "outlinewidth": 0,
             "ticks": ""
            },
            "type": "choropleth"
           }
          ],
          "contour": [
           {
            "colorbar": {
             "outlinewidth": 0,
             "ticks": ""
            },
            "colorscale": [
             [
              0,
              "#0d0887"
             ],
             [
              0.1111111111111111,
              "#46039f"
             ],
             [
              0.2222222222222222,
              "#7201a8"
             ],
             [
              0.3333333333333333,
              "#9c179e"
             ],
             [
              0.4444444444444444,
              "#bd3786"
             ],
             [
              0.5555555555555556,
              "#d8576b"
             ],
             [
              0.6666666666666666,
              "#ed7953"
             ],
             [
              0.7777777777777778,
              "#fb9f3a"
             ],
             [
              0.8888888888888888,
              "#fdca26"
             ],
             [
              1,
              "#f0f921"
             ]
            ],
            "type": "contour"
           }
          ],
          "contourcarpet": [
           {
            "colorbar": {
             "outlinewidth": 0,
             "ticks": ""
            },
            "type": "contourcarpet"
           }
          ],
          "heatmap": [
           {
            "colorbar": {
             "outlinewidth": 0,
             "ticks": ""
            },
            "colorscale": [
             [
              0,
              "#0d0887"
             ],
             [
              0.1111111111111111,
              "#46039f"
             ],
             [
              0.2222222222222222,
              "#7201a8"
             ],
             [
              0.3333333333333333,
              "#9c179e"
             ],
             [
              0.4444444444444444,
              "#bd3786"
             ],
             [
              0.5555555555555556,
              "#d8576b"
             ],
             [
              0.6666666666666666,
              "#ed7953"
             ],
             [
              0.7777777777777778,
              "#fb9f3a"
             ],
             [
              0.8888888888888888,
              "#fdca26"
             ],
             [
              1,
              "#f0f921"
             ]
            ],
            "type": "heatmap"
           }
          ],
          "heatmapgl": [
           {
            "colorbar": {
             "outlinewidth": 0,
             "ticks": ""
            },
            "colorscale": [
             [
              0,
              "#0d0887"
             ],
             [
              0.1111111111111111,
              "#46039f"
             ],
             [
              0.2222222222222222,
              "#7201a8"
             ],
             [
              0.3333333333333333,
              "#9c179e"
             ],
             [
              0.4444444444444444,
              "#bd3786"
             ],
             [
              0.5555555555555556,
              "#d8576b"
             ],
             [
              0.6666666666666666,
              "#ed7953"
             ],
             [
              0.7777777777777778,
              "#fb9f3a"
             ],
             [
              0.8888888888888888,
              "#fdca26"
             ],
             [
              1,
              "#f0f921"
             ]
            ],
            "type": "heatmapgl"
           }
          ],
          "histogram": [
           {
            "marker": {
             "pattern": {
              "fillmode": "overlay",
              "size": 10,
              "solidity": 0.2
             }
            },
            "type": "histogram"
           }
          ],
          "histogram2d": [
           {
            "colorbar": {
             "outlinewidth": 0,
             "ticks": ""
            },
            "colorscale": [
             [
              0,
              "#0d0887"
             ],
             [
              0.1111111111111111,
              "#46039f"
             ],
             [
              0.2222222222222222,
              "#7201a8"
             ],
             [
              0.3333333333333333,
              "#9c179e"
             ],
             [
              0.4444444444444444,
              "#bd3786"
             ],
             [
              0.5555555555555556,
              "#d8576b"
             ],
             [
              0.6666666666666666,
              "#ed7953"
             ],
             [
              0.7777777777777778,
              "#fb9f3a"
             ],
             [
              0.8888888888888888,
              "#fdca26"
             ],
             [
              1,
              "#f0f921"
             ]
            ],
            "type": "histogram2d"
           }
          ],
          "histogram2dcontour": [
           {
            "colorbar": {
             "outlinewidth": 0,
             "ticks": ""
            },
            "colorscale": [
             [
              0,
              "#0d0887"
             ],
             [
              0.1111111111111111,
              "#46039f"
             ],
             [
              0.2222222222222222,
              "#7201a8"
             ],
             [
              0.3333333333333333,
              "#9c179e"
             ],
             [
              0.4444444444444444,
              "#bd3786"
             ],
             [
              0.5555555555555556,
              "#d8576b"
             ],
             [
              0.6666666666666666,
              "#ed7953"
             ],
             [
              0.7777777777777778,
              "#fb9f3a"
             ],
             [
              0.8888888888888888,
              "#fdca26"
             ],
             [
              1,
              "#f0f921"
             ]
            ],
            "type": "histogram2dcontour"
           }
          ],
          "mesh3d": [
           {
            "colorbar": {
             "outlinewidth": 0,
             "ticks": ""
            },
            "type": "mesh3d"
           }
          ],
          "parcoords": [
           {
            "line": {
             "colorbar": {
              "outlinewidth": 0,
              "ticks": ""
             }
            },
            "type": "parcoords"
           }
          ],
          "pie": [
           {
            "automargin": true,
            "type": "pie"
           }
          ],
          "scatter": [
           {
            "marker": {
             "line": {
              "color": "#283442"
             }
            },
            "type": "scatter"
           }
          ],
          "scatter3d": [
           {
            "line": {
             "colorbar": {
              "outlinewidth": 0,
              "ticks": ""
             }
            },
            "marker": {
             "colorbar": {
              "outlinewidth": 0,
              "ticks": ""
             }
            },
            "type": "scatter3d"
           }
          ],
          "scattercarpet": [
           {
            "marker": {
             "colorbar": {
              "outlinewidth": 0,
              "ticks": ""
             }
            },
            "type": "scattercarpet"
           }
          ],
          "scattergeo": [
           {
            "marker": {
             "colorbar": {
              "outlinewidth": 0,
              "ticks": ""
             }
            },
            "type": "scattergeo"
           }
          ],
          "scattergl": [
           {
            "marker": {
             "line": {
              "color": "#283442"
             }
            },
            "type": "scattergl"
           }
          ],
          "scattermapbox": [
           {
            "marker": {
             "colorbar": {
              "outlinewidth": 0,
              "ticks": ""
             }
            },
            "type": "scattermapbox"
           }
          ],
          "scatterpolar": [
           {
            "marker": {
             "colorbar": {
              "outlinewidth": 0,
              "ticks": ""
             }
            },
            "type": "scatterpolar"
           }
          ],
          "scatterpolargl": [
           {
            "marker": {
             "colorbar": {
              "outlinewidth": 0,
              "ticks": ""
             }
            },
            "type": "scatterpolargl"
           }
          ],
          "scatterternary": [
           {
            "marker": {
             "colorbar": {
              "outlinewidth": 0,
              "ticks": ""
             }
            },
            "type": "scatterternary"
           }
          ],
          "surface": [
           {
            "colorbar": {
             "outlinewidth": 0,
             "ticks": ""
            },
            "colorscale": [
             [
              0,
              "#0d0887"
             ],
             [
              0.1111111111111111,
              "#46039f"
             ],
             [
              0.2222222222222222,
              "#7201a8"
             ],
             [
              0.3333333333333333,
              "#9c179e"
             ],
             [
              0.4444444444444444,
              "#bd3786"
             ],
             [
              0.5555555555555556,
              "#d8576b"
             ],
             [
              0.6666666666666666,
              "#ed7953"
             ],
             [
              0.7777777777777778,
              "#fb9f3a"
             ],
             [
              0.8888888888888888,
              "#fdca26"
             ],
             [
              1,
              "#f0f921"
             ]
            ],
            "type": "surface"
           }
          ],
          "table": [
           {
            "cells": {
             "fill": {
              "color": "#506784"
             },
             "line": {
              "color": "rgb(17,17,17)"
             }
            },
            "header": {
             "fill": {
              "color": "#2a3f5f"
             },
             "line": {
              "color": "rgb(17,17,17)"
             }
            },
            "type": "table"
           }
          ]
         },
         "layout": {
          "annotationdefaults": {
           "arrowcolor": "#f2f5fa",
           "arrowhead": 0,
           "arrowwidth": 1
          },
          "autotypenumbers": "strict",
          "coloraxis": {
           "colorbar": {
            "outlinewidth": 0,
            "ticks": ""
           }
          },
          "colorscale": {
           "diverging": [
            [
             0,
             "#8e0152"
            ],
            [
             0.1,
             "#c51b7d"
            ],
            [
             0.2,
             "#de77ae"
            ],
            [
             0.3,
             "#f1b6da"
            ],
            [
             0.4,
             "#fde0ef"
            ],
            [
             0.5,
             "#f7f7f7"
            ],
            [
             0.6,
             "#e6f5d0"
            ],
            [
             0.7,
             "#b8e186"
            ],
            [
             0.8,
             "#7fbc41"
            ],
            [
             0.9,
             "#4d9221"
            ],
            [
             1,
             "#276419"
            ]
           ],
           "sequential": [
            [
             0,
             "#0d0887"
            ],
            [
             0.1111111111111111,
             "#46039f"
            ],
            [
             0.2222222222222222,
             "#7201a8"
            ],
            [
             0.3333333333333333,
             "#9c179e"
            ],
            [
             0.4444444444444444,
             "#bd3786"
            ],
            [
             0.5555555555555556,
             "#d8576b"
            ],
            [
             0.6666666666666666,
             "#ed7953"
            ],
            [
             0.7777777777777778,
             "#fb9f3a"
            ],
            [
             0.8888888888888888,
             "#fdca26"
            ],
            [
             1,
             "#f0f921"
            ]
           ],
           "sequentialminus": [
            [
             0,
             "#0d0887"
            ],
            [
             0.1111111111111111,
             "#46039f"
            ],
            [
             0.2222222222222222,
             "#7201a8"
            ],
            [
             0.3333333333333333,
             "#9c179e"
            ],
            [
             0.4444444444444444,
             "#bd3786"
            ],
            [
             0.5555555555555556,
             "#d8576b"
            ],
            [
             0.6666666666666666,
             "#ed7953"
            ],
            [
             0.7777777777777778,
             "#fb9f3a"
            ],
            [
             0.8888888888888888,
             "#fdca26"
            ],
            [
             1,
             "#f0f921"
            ]
           ]
          },
          "colorway": [
           "#636efa",
           "#EF553B",
           "#00cc96",
           "#ab63fa",
           "#FFA15A",
           "#19d3f3",
           "#FF6692",
           "#B6E880",
           "#FF97FF",
           "#FECB52"
          ],
          "font": {
           "color": "#f2f5fa"
          },
          "geo": {
           "bgcolor": "rgb(17,17,17)",
           "lakecolor": "rgb(17,17,17)",
           "landcolor": "rgb(17,17,17)",
           "showlakes": true,
           "showland": true,
           "subunitcolor": "#506784"
          },
          "hoverlabel": {
           "align": "left"
          },
          "hovermode": "closest",
          "mapbox": {
           "style": "dark"
          },
          "paper_bgcolor": "rgb(17,17,17)",
          "plot_bgcolor": "rgb(17,17,17)",
          "polar": {
           "angularaxis": {
            "gridcolor": "#506784",
            "linecolor": "#506784",
            "ticks": ""
           },
           "bgcolor": "rgb(17,17,17)",
           "radialaxis": {
            "gridcolor": "#506784",
            "linecolor": "#506784",
            "ticks": ""
           }
          },
          "scene": {
           "xaxis": {
            "backgroundcolor": "rgb(17,17,17)",
            "gridcolor": "#506784",
            "gridwidth": 2,
            "linecolor": "#506784",
            "showbackground": true,
            "ticks": "",
            "zerolinecolor": "#C8D4E3"
           },
           "yaxis": {
            "backgroundcolor": "rgb(17,17,17)",
            "gridcolor": "#506784",
            "gridwidth": 2,
            "linecolor": "#506784",
            "showbackground": true,
            "ticks": "",
            "zerolinecolor": "#C8D4E3"
           },
           "zaxis": {
            "backgroundcolor": "rgb(17,17,17)",
            "gridcolor": "#506784",
            "gridwidth": 2,
            "linecolor": "#506784",
            "showbackground": true,
            "ticks": "",
            "zerolinecolor": "#C8D4E3"
           }
          },
          "shapedefaults": {
           "line": {
            "color": "#f2f5fa"
           }
          },
          "sliderdefaults": {
           "bgcolor": "#C8D4E3",
           "bordercolor": "rgb(17,17,17)",
           "borderwidth": 1,
           "tickwidth": 0
          },
          "ternary": {
           "aaxis": {
            "gridcolor": "#506784",
            "linecolor": "#506784",
            "ticks": ""
           },
           "baxis": {
            "gridcolor": "#506784",
            "linecolor": "#506784",
            "ticks": ""
           },
           "bgcolor": "rgb(17,17,17)",
           "caxis": {
            "gridcolor": "#506784",
            "linecolor": "#506784",
            "ticks": ""
           }
          },
          "title": {
           "x": 0.05
          },
          "updatemenudefaults": {
           "bgcolor": "#506784",
           "borderwidth": 0
          },
          "xaxis": {
           "automargin": true,
           "gridcolor": "#283442",
           "linecolor": "#506784",
           "ticks": "",
           "title": {
            "standoff": 15
           },
           "zerolinecolor": "#283442",
           "zerolinewidth": 2
          },
          "yaxis": {
           "automargin": true,
           "gridcolor": "#283442",
           "linecolor": "#506784",
           "ticks": "",
           "title": {
            "standoff": 15
           },
           "zerolinecolor": "#283442",
           "zerolinewidth": 2
          }
         }
        },
        "xaxis": {
         "anchor": "y",
         "domain": [
          0,
          1
         ],
         "tickangle": 20,
         "title": {
          "text": "Course organization"
         }
        },
        "yaxis": {
         "anchor": "x",
         "domain": [
          0,
          1
         ],
         "title": {
          "text": "Course count"
         }
        }
       }
      }
     },
     "metadata": {},
     "output_type": "display_data"
    }
   ],
   "source": [
    "x = 20\n",
    "\n",
    "course_count_rating_plot(data, x)\n"
   ]
  },
  {
   "cell_type": "markdown",
   "metadata": {},
   "source": [
    "---\n",
    "\n",
    "First I will display the basic statistical characteristics of both categorical and numerical features."
   ]
  },
  {
   "cell_type": "markdown",
   "metadata": {},
   "source": [
    "Filtering the numeric features into a new DataFrame, for straight-forward handling. \n"
   ]
  },
  {
   "cell_type": "code",
   "execution_count": 15,
   "metadata": {},
   "outputs": [],
   "source": [
    "num_cols = data.select_dtypes('number').columns\n",
    "numeric_data = data.loc[:, num_cols]"
   ]
  },
  {
   "cell_type": "markdown",
   "metadata": {},
   "source": [
    "I will take a look at the numeric statistical characteristics."
   ]
  },
  {
   "cell_type": "code",
   "execution_count": 16,
   "metadata": {},
   "outputs": [
    {
     "data": {
      "text/html": [
       "<div>\n",
       "<style scoped>\n",
       "    .dataframe tbody tr th:only-of-type {\n",
       "        vertical-align: middle;\n",
       "    }\n",
       "\n",
       "    .dataframe tbody tr th {\n",
       "        vertical-align: top;\n",
       "    }\n",
       "\n",
       "    .dataframe thead th {\n",
       "        text-align: right;\n",
       "    }\n",
       "</style>\n",
       "<table border=\"1\" class=\"dataframe\">\n",
       "  <thead>\n",
       "    <tr style=\"text-align: right;\">\n",
       "      <th></th>\n",
       "      <th>count</th>\n",
       "      <th>mean</th>\n",
       "      <th>std</th>\n",
       "      <th>min</th>\n",
       "      <th>25%</th>\n",
       "      <th>50%</th>\n",
       "      <th>75%</th>\n",
       "      <th>max</th>\n",
       "    </tr>\n",
       "  </thead>\n",
       "  <tbody>\n",
       "    <tr>\n",
       "      <th>Course rating</th>\n",
       "      <td>891.0</td>\n",
       "      <td>4.677329</td>\n",
       "      <td>0.162225</td>\n",
       "      <td>3.3</td>\n",
       "      <td>4.6</td>\n",
       "      <td>4.7</td>\n",
       "      <td>4.8</td>\n",
       "      <td>5.0</td>\n",
       "    </tr>\n",
       "    <tr>\n",
       "      <th>Course students enrolled</th>\n",
       "      <td>891.0</td>\n",
       "      <td>90552.076319</td>\n",
       "      <td>181936.453852</td>\n",
       "      <td>1500.0</td>\n",
       "      <td>17500.0</td>\n",
       "      <td>42000.0</td>\n",
       "      <td>99500.0</td>\n",
       "      <td>3200000.0</td>\n",
       "    </tr>\n",
       "  </tbody>\n",
       "</table>\n",
       "</div>"
      ],
      "text/plain": [
       "                          count          mean            std     min      25%  \\\n",
       "Course rating             891.0      4.677329       0.162225     3.3      4.6   \n",
       "Course students enrolled  891.0  90552.076319  181936.453852  1500.0  17500.0   \n",
       "\n",
       "                              50%      75%        max  \n",
       "Course rating                 4.7      4.8        5.0  \n",
       "Course students enrolled  42000.0  99500.0  3200000.0  "
      ]
     },
     "execution_count": 16,
     "metadata": {},
     "output_type": "execute_result"
    }
   ],
   "source": [
    "num_insights = numeric_data.describe().T\n",
    "num_insights.index = num_insights.index.map(capitalize_first_word)\n",
    "num_insights"
   ]
  },
  {
   "cell_type": "markdown",
   "metadata": {},
   "source": [
    "The average rating is relatively high at 4.68, so the site seems to accomodate quality content based on user reviews.\n",
    "\n",
    "The minimum value is extremely low, it might be a good idea to take a look into it.\n",
    "\n",
    "The number of enrolled students averages to 90k, but the max is comperatively much higher at 3.2m, it would be interesting to figure out why that course is so popular."
   ]
  },
  {
   "cell_type": "markdown",
   "metadata": {},
   "source": [
    "---\n",
    "\n",
    "Checking the corresponding basic statistical characteristics for categorical features."
   ]
  },
  {
   "cell_type": "code",
   "execution_count": 17,
   "metadata": {},
   "outputs": [
    {
     "data": {
      "text/html": [
       "<div>\n",
       "<style scoped>\n",
       "    .dataframe tbody tr th:only-of-type {\n",
       "        vertical-align: middle;\n",
       "    }\n",
       "\n",
       "    .dataframe tbody tr th {\n",
       "        vertical-align: top;\n",
       "    }\n",
       "\n",
       "    .dataframe thead th {\n",
       "        text-align: right;\n",
       "    }\n",
       "</style>\n",
       "<table border=\"1\" class=\"dataframe\">\n",
       "  <thead>\n",
       "    <tr style=\"text-align: right;\">\n",
       "      <th></th>\n",
       "      <th>count</th>\n",
       "      <th>unique</th>\n",
       "      <th>top</th>\n",
       "      <th>freq</th>\n",
       "    </tr>\n",
       "  </thead>\n",
       "  <tbody>\n",
       "    <tr>\n",
       "      <th>Course certificate type</th>\n",
       "      <td>891</td>\n",
       "      <td>3</td>\n",
       "      <td>COURSE</td>\n",
       "      <td>582</td>\n",
       "    </tr>\n",
       "    <tr>\n",
       "      <th>Course difficulty</th>\n",
       "      <td>891</td>\n",
       "      <td>4</td>\n",
       "      <td>Beginner</td>\n",
       "      <td>487</td>\n",
       "    </tr>\n",
       "    <tr>\n",
       "      <th>Language</th>\n",
       "      <td>891</td>\n",
       "      <td>14</td>\n",
       "      <td>en</td>\n",
       "      <td>804</td>\n",
       "    </tr>\n",
       "  </tbody>\n",
       "</table>\n",
       "</div>"
      ],
      "text/plain": [
       "                        count unique       top freq\n",
       "Course certificate type   891      3    COURSE  582\n",
       "Course difficulty         891      4  Beginner  487\n",
       "Language                  891     14        en  804"
      ]
     },
     "execution_count": 17,
     "metadata": {},
     "output_type": "execute_result"
    }
   ],
   "source": [
    "cat_cols=data.columns.drop(num_cols).drop(['course_title', 'course_organization'])\n",
    "cat_insights = data[cat_cols].describe().T\n",
    "cat_insights.index = cat_insights.index.map(capitalize_first_word)\n",
    "cat_insights"
   ]
  },
  {
   "cell_type": "markdown",
   "metadata": {},
   "source": [
    "Based on this dataset the audience at coursera is mostly interested in courses aimed at beginners, as rougly 500 of the 891 records represent. "
   ]
  },
  {
   "cell_type": "markdown",
   "metadata": {},
   "source": [
    "Visualization of the categorical features and their distributions to support the statement above."
   ]
  },
  {
   "cell_type": "code",
   "execution_count": 18,
   "metadata": {},
   "outputs": [
    {
     "data": {
      "application/vnd.plotly.v1+json": {
       "config": {
        "plotlyServerURL": "https://plot.ly"
       },
       "data": [
        {
         "name": "Course certificate type",
         "text": [
          582,
          297,
          12
         ],
         "type": "bar",
         "x": [
          "Course",
          "Specialization",
          "Professional certificate"
         ],
         "xaxis": "x",
         "y": [
          582,
          297,
          12
         ],
         "yaxis": "y"
        },
        {
         "name": "Course difficulty",
         "text": [
          487,
          198,
          187,
          19
         ],
         "type": "bar",
         "x": [
          "Beginner",
          "Intermediate",
          "Mixed",
          "Advanced"
         ],
         "xaxis": "x2",
         "y": [
          487,
          198,
          187,
          19
         ],
         "yaxis": "y2"
        },
        {
         "name": "Language",
         "text": [
          804,
          44,
          14,
          10,
          6,
          3,
          2,
          2,
          1,
          1,
          1,
          1,
          1,
          1
         ],
         "type": "bar",
         "x": [
          "En",
          "Es",
          "Ru",
          "Fr",
          "Pt",
          "Ro",
          "It",
          "De",
          "Ca",
          "No",
          "Nl",
          "Hu",
          "Da",
          "Bg"
         ],
         "xaxis": "x3",
         "y": [
          804,
          44,
          14,
          10,
          6,
          3,
          2,
          2,
          1,
          1,
          1,
          1,
          1,
          1
         ],
         "yaxis": "y3"
        }
       ],
       "layout": {
        "annotations": [
         {
          "font": {
           "size": 16
          },
          "showarrow": false,
          "text": "Course certificate type",
          "x": 0.14444444444444446,
          "xanchor": "center",
          "xref": "paper",
          "y": 1,
          "yanchor": "bottom",
          "yref": "paper"
         },
         {
          "font": {
           "size": 16
          },
          "showarrow": false,
          "text": "Course difficulty",
          "x": 0.5,
          "xanchor": "center",
          "xref": "paper",
          "y": 1,
          "yanchor": "bottom",
          "yref": "paper"
         },
         {
          "font": {
           "size": 16
          },
          "showarrow": false,
          "text": "Language",
          "x": 0.8555555555555556,
          "xanchor": "center",
          "xref": "paper",
          "y": 1,
          "yanchor": "bottom",
          "yref": "paper"
         }
        ],
        "font": {
         "size": 16
        },
        "height": 400,
        "hovermode": false,
        "showlegend": false,
        "template": {
         "data": {
          "bar": [
           {
            "error_x": {
             "color": "#f2f5fa"
            },
            "error_y": {
             "color": "#f2f5fa"
            },
            "marker": {
             "line": {
              "color": "rgb(17,17,17)",
              "width": 0.5
             },
             "pattern": {
              "fillmode": "overlay",
              "size": 10,
              "solidity": 0.2
             }
            },
            "type": "bar"
           }
          ],
          "barpolar": [
           {
            "marker": {
             "line": {
              "color": "rgb(17,17,17)",
              "width": 0.5
             },
             "pattern": {
              "fillmode": "overlay",
              "size": 10,
              "solidity": 0.2
             }
            },
            "type": "barpolar"
           }
          ],
          "carpet": [
           {
            "aaxis": {
             "endlinecolor": "#A2B1C6",
             "gridcolor": "#506784",
             "linecolor": "#506784",
             "minorgridcolor": "#506784",
             "startlinecolor": "#A2B1C6"
            },
            "baxis": {
             "endlinecolor": "#A2B1C6",
             "gridcolor": "#506784",
             "linecolor": "#506784",
             "minorgridcolor": "#506784",
             "startlinecolor": "#A2B1C6"
            },
            "type": "carpet"
           }
          ],
          "choropleth": [
           {
            "colorbar": {
             "outlinewidth": 0,
             "ticks": ""
            },
            "type": "choropleth"
           }
          ],
          "contour": [
           {
            "colorbar": {
             "outlinewidth": 0,
             "ticks": ""
            },
            "colorscale": [
             [
              0,
              "#0d0887"
             ],
             [
              0.1111111111111111,
              "#46039f"
             ],
             [
              0.2222222222222222,
              "#7201a8"
             ],
             [
              0.3333333333333333,
              "#9c179e"
             ],
             [
              0.4444444444444444,
              "#bd3786"
             ],
             [
              0.5555555555555556,
              "#d8576b"
             ],
             [
              0.6666666666666666,
              "#ed7953"
             ],
             [
              0.7777777777777778,
              "#fb9f3a"
             ],
             [
              0.8888888888888888,
              "#fdca26"
             ],
             [
              1,
              "#f0f921"
             ]
            ],
            "type": "contour"
           }
          ],
          "contourcarpet": [
           {
            "colorbar": {
             "outlinewidth": 0,
             "ticks": ""
            },
            "type": "contourcarpet"
           }
          ],
          "heatmap": [
           {
            "colorbar": {
             "outlinewidth": 0,
             "ticks": ""
            },
            "colorscale": [
             [
              0,
              "#0d0887"
             ],
             [
              0.1111111111111111,
              "#46039f"
             ],
             [
              0.2222222222222222,
              "#7201a8"
             ],
             [
              0.3333333333333333,
              "#9c179e"
             ],
             [
              0.4444444444444444,
              "#bd3786"
             ],
             [
              0.5555555555555556,
              "#d8576b"
             ],
             [
              0.6666666666666666,
              "#ed7953"
             ],
             [
              0.7777777777777778,
              "#fb9f3a"
             ],
             [
              0.8888888888888888,
              "#fdca26"
             ],
             [
              1,
              "#f0f921"
             ]
            ],
            "type": "heatmap"
           }
          ],
          "heatmapgl": [
           {
            "colorbar": {
             "outlinewidth": 0,
             "ticks": ""
            },
            "colorscale": [
             [
              0,
              "#0d0887"
             ],
             [
              0.1111111111111111,
              "#46039f"
             ],
             [
              0.2222222222222222,
              "#7201a8"
             ],
             [
              0.3333333333333333,
              "#9c179e"
             ],
             [
              0.4444444444444444,
              "#bd3786"
             ],
             [
              0.5555555555555556,
              "#d8576b"
             ],
             [
              0.6666666666666666,
              "#ed7953"
             ],
             [
              0.7777777777777778,
              "#fb9f3a"
             ],
             [
              0.8888888888888888,
              "#fdca26"
             ],
             [
              1,
              "#f0f921"
             ]
            ],
            "type": "heatmapgl"
           }
          ],
          "histogram": [
           {
            "marker": {
             "pattern": {
              "fillmode": "overlay",
              "size": 10,
              "solidity": 0.2
             }
            },
            "type": "histogram"
           }
          ],
          "histogram2d": [
           {
            "colorbar": {
             "outlinewidth": 0,
             "ticks": ""
            },
            "colorscale": [
             [
              0,
              "#0d0887"
             ],
             [
              0.1111111111111111,
              "#46039f"
             ],
             [
              0.2222222222222222,
              "#7201a8"
             ],
             [
              0.3333333333333333,
              "#9c179e"
             ],
             [
              0.4444444444444444,
              "#bd3786"
             ],
             [
              0.5555555555555556,
              "#d8576b"
             ],
             [
              0.6666666666666666,
              "#ed7953"
             ],
             [
              0.7777777777777778,
              "#fb9f3a"
             ],
             [
              0.8888888888888888,
              "#fdca26"
             ],
             [
              1,
              "#f0f921"
             ]
            ],
            "type": "histogram2d"
           }
          ],
          "histogram2dcontour": [
           {
            "colorbar": {
             "outlinewidth": 0,
             "ticks": ""
            },
            "colorscale": [
             [
              0,
              "#0d0887"
             ],
             [
              0.1111111111111111,
              "#46039f"
             ],
             [
              0.2222222222222222,
              "#7201a8"
             ],
             [
              0.3333333333333333,
              "#9c179e"
             ],
             [
              0.4444444444444444,
              "#bd3786"
             ],
             [
              0.5555555555555556,
              "#d8576b"
             ],
             [
              0.6666666666666666,
              "#ed7953"
             ],
             [
              0.7777777777777778,
              "#fb9f3a"
             ],
             [
              0.8888888888888888,
              "#fdca26"
             ],
             [
              1,
              "#f0f921"
             ]
            ],
            "type": "histogram2dcontour"
           }
          ],
          "mesh3d": [
           {
            "colorbar": {
             "outlinewidth": 0,
             "ticks": ""
            },
            "type": "mesh3d"
           }
          ],
          "parcoords": [
           {
            "line": {
             "colorbar": {
              "outlinewidth": 0,
              "ticks": ""
             }
            },
            "type": "parcoords"
           }
          ],
          "pie": [
           {
            "automargin": true,
            "type": "pie"
           }
          ],
          "scatter": [
           {
            "marker": {
             "line": {
              "color": "#283442"
             }
            },
            "type": "scatter"
           }
          ],
          "scatter3d": [
           {
            "line": {
             "colorbar": {
              "outlinewidth": 0,
              "ticks": ""
             }
            },
            "marker": {
             "colorbar": {
              "outlinewidth": 0,
              "ticks": ""
             }
            },
            "type": "scatter3d"
           }
          ],
          "scattercarpet": [
           {
            "marker": {
             "colorbar": {
              "outlinewidth": 0,
              "ticks": ""
             }
            },
            "type": "scattercarpet"
           }
          ],
          "scattergeo": [
           {
            "marker": {
             "colorbar": {
              "outlinewidth": 0,
              "ticks": ""
             }
            },
            "type": "scattergeo"
           }
          ],
          "scattergl": [
           {
            "marker": {
             "line": {
              "color": "#283442"
             }
            },
            "type": "scattergl"
           }
          ],
          "scattermapbox": [
           {
            "marker": {
             "colorbar": {
              "outlinewidth": 0,
              "ticks": ""
             }
            },
            "type": "scattermapbox"
           }
          ],
          "scatterpolar": [
           {
            "marker": {
             "colorbar": {
              "outlinewidth": 0,
              "ticks": ""
             }
            },
            "type": "scatterpolar"
           }
          ],
          "scatterpolargl": [
           {
            "marker": {
             "colorbar": {
              "outlinewidth": 0,
              "ticks": ""
             }
            },
            "type": "scatterpolargl"
           }
          ],
          "scatterternary": [
           {
            "marker": {
             "colorbar": {
              "outlinewidth": 0,
              "ticks": ""
             }
            },
            "type": "scatterternary"
           }
          ],
          "surface": [
           {
            "colorbar": {
             "outlinewidth": 0,
             "ticks": ""
            },
            "colorscale": [
             [
              0,
              "#0d0887"
             ],
             [
              0.1111111111111111,
              "#46039f"
             ],
             [
              0.2222222222222222,
              "#7201a8"
             ],
             [
              0.3333333333333333,
              "#9c179e"
             ],
             [
              0.4444444444444444,
              "#bd3786"
             ],
             [
              0.5555555555555556,
              "#d8576b"
             ],
             [
              0.6666666666666666,
              "#ed7953"
             ],
             [
              0.7777777777777778,
              "#fb9f3a"
             ],
             [
              0.8888888888888888,
              "#fdca26"
             ],
             [
              1,
              "#f0f921"
             ]
            ],
            "type": "surface"
           }
          ],
          "table": [
           {
            "cells": {
             "fill": {
              "color": "#506784"
             },
             "line": {
              "color": "rgb(17,17,17)"
             }
            },
            "header": {
             "fill": {
              "color": "#2a3f5f"
             },
             "line": {
              "color": "rgb(17,17,17)"
             }
            },
            "type": "table"
           }
          ]
         },
         "layout": {
          "annotationdefaults": {
           "arrowcolor": "#f2f5fa",
           "arrowhead": 0,
           "arrowwidth": 1
          },
          "autotypenumbers": "strict",
          "coloraxis": {
           "colorbar": {
            "outlinewidth": 0,
            "ticks": ""
           }
          },
          "colorscale": {
           "diverging": [
            [
             0,
             "#8e0152"
            ],
            [
             0.1,
             "#c51b7d"
            ],
            [
             0.2,
             "#de77ae"
            ],
            [
             0.3,
             "#f1b6da"
            ],
            [
             0.4,
             "#fde0ef"
            ],
            [
             0.5,
             "#f7f7f7"
            ],
            [
             0.6,
             "#e6f5d0"
            ],
            [
             0.7,
             "#b8e186"
            ],
            [
             0.8,
             "#7fbc41"
            ],
            [
             0.9,
             "#4d9221"
            ],
            [
             1,
             "#276419"
            ]
           ],
           "sequential": [
            [
             0,
             "#0d0887"
            ],
            [
             0.1111111111111111,
             "#46039f"
            ],
            [
             0.2222222222222222,
             "#7201a8"
            ],
            [
             0.3333333333333333,
             "#9c179e"
            ],
            [
             0.4444444444444444,
             "#bd3786"
            ],
            [
             0.5555555555555556,
             "#d8576b"
            ],
            [
             0.6666666666666666,
             "#ed7953"
            ],
            [
             0.7777777777777778,
             "#fb9f3a"
            ],
            [
             0.8888888888888888,
             "#fdca26"
            ],
            [
             1,
             "#f0f921"
            ]
           ],
           "sequentialminus": [
            [
             0,
             "#0d0887"
            ],
            [
             0.1111111111111111,
             "#46039f"
            ],
            [
             0.2222222222222222,
             "#7201a8"
            ],
            [
             0.3333333333333333,
             "#9c179e"
            ],
            [
             0.4444444444444444,
             "#bd3786"
            ],
            [
             0.5555555555555556,
             "#d8576b"
            ],
            [
             0.6666666666666666,
             "#ed7953"
            ],
            [
             0.7777777777777778,
             "#fb9f3a"
            ],
            [
             0.8888888888888888,
             "#fdca26"
            ],
            [
             1,
             "#f0f921"
            ]
           ]
          },
          "colorway": [
           "#636efa",
           "#EF553B",
           "#00cc96",
           "#ab63fa",
           "#FFA15A",
           "#19d3f3",
           "#FF6692",
           "#B6E880",
           "#FF97FF",
           "#FECB52"
          ],
          "font": {
           "color": "#f2f5fa"
          },
          "geo": {
           "bgcolor": "rgb(17,17,17)",
           "lakecolor": "rgb(17,17,17)",
           "landcolor": "rgb(17,17,17)",
           "showlakes": true,
           "showland": true,
           "subunitcolor": "#506784"
          },
          "hoverlabel": {
           "align": "left"
          },
          "hovermode": "closest",
          "mapbox": {
           "style": "dark"
          },
          "paper_bgcolor": "rgb(17,17,17)",
          "plot_bgcolor": "rgb(17,17,17)",
          "polar": {
           "angularaxis": {
            "gridcolor": "#506784",
            "linecolor": "#506784",
            "ticks": ""
           },
           "bgcolor": "rgb(17,17,17)",
           "radialaxis": {
            "gridcolor": "#506784",
            "linecolor": "#506784",
            "ticks": ""
           }
          },
          "scene": {
           "xaxis": {
            "backgroundcolor": "rgb(17,17,17)",
            "gridcolor": "#506784",
            "gridwidth": 2,
            "linecolor": "#506784",
            "showbackground": true,
            "ticks": "",
            "zerolinecolor": "#C8D4E3"
           },
           "yaxis": {
            "backgroundcolor": "rgb(17,17,17)",
            "gridcolor": "#506784",
            "gridwidth": 2,
            "linecolor": "#506784",
            "showbackground": true,
            "ticks": "",
            "zerolinecolor": "#C8D4E3"
           },
           "zaxis": {
            "backgroundcolor": "rgb(17,17,17)",
            "gridcolor": "#506784",
            "gridwidth": 2,
            "linecolor": "#506784",
            "showbackground": true,
            "ticks": "",
            "zerolinecolor": "#C8D4E3"
           }
          },
          "shapedefaults": {
           "line": {
            "color": "#f2f5fa"
           }
          },
          "sliderdefaults": {
           "bgcolor": "#C8D4E3",
           "bordercolor": "rgb(17,17,17)",
           "borderwidth": 1,
           "tickwidth": 0
          },
          "ternary": {
           "aaxis": {
            "gridcolor": "#506784",
            "linecolor": "#506784",
            "ticks": ""
           },
           "baxis": {
            "gridcolor": "#506784",
            "linecolor": "#506784",
            "ticks": ""
           },
           "bgcolor": "rgb(17,17,17)",
           "caxis": {
            "gridcolor": "#506784",
            "linecolor": "#506784",
            "ticks": ""
           }
          },
          "title": {
           "x": 0.05
          },
          "updatemenudefaults": {
           "bgcolor": "#506784",
           "borderwidth": 0
          },
          "xaxis": {
           "automargin": true,
           "gridcolor": "#283442",
           "linecolor": "#506784",
           "ticks": "",
           "title": {
            "standoff": 15
           },
           "zerolinecolor": "#283442",
           "zerolinewidth": 2
          },
          "yaxis": {
           "automargin": true,
           "gridcolor": "#283442",
           "linecolor": "#506784",
           "ticks": "",
           "title": {
            "standoff": 15
           },
           "zerolinecolor": "#283442",
           "zerolinewidth": 2
          }
         }
        },
        "title": {
         "text": "Bar plots of categorical features"
        },
        "width": 1800,
        "xaxis": {
         "anchor": "y",
         "domain": [
          0,
          0.2888888888888889
         ]
        },
        "xaxis2": {
         "anchor": "y2",
         "domain": [
          0.35555555555555557,
          0.6444444444444445
         ]
        },
        "xaxis3": {
         "anchor": "y3",
         "domain": [
          0.7111111111111111,
          1
         ]
        },
        "yaxis": {
         "anchor": "x",
         "domain": [
          0,
          1
         ]
        },
        "yaxis2": {
         "anchor": "x2",
         "domain": [
          0,
          1
         ]
        },
        "yaxis3": {
         "anchor": "x3",
         "domain": [
          0,
          1
         ]
        }
       }
      }
     },
     "metadata": {},
     "output_type": "display_data"
    }
   ],
   "source": [
    "bar_plot(data, cat_cols)"
   ]
  },
  {
   "cell_type": "markdown",
   "metadata": {},
   "source": [
    "\n",
    "---\n",
    "\n",
    "I will continue with the thorough analysis of the numerical features."
   ]
  },
  {
   "cell_type": "markdown",
   "metadata": {},
   "source": [
    "### Outlier detection\n",
    "\n",
    "> Calculating the limit for each feature and checking if the difference of the values from the mean is within the tolerance of 3 standard deviations.\n",
    ">\n",
    "> ![alt text](norm_dist.jpg)\n",
    ">\n",
    "> Source: Adobe Stock"
   ]
  },
  {
   "cell_type": "markdown",
   "metadata": {},
   "source": [
    "The result is a bool DataFrame of the same structure as the filtered numerical data."
   ]
  },
  {
   "cell_type": "code",
   "execution_count": 19,
   "metadata": {},
   "outputs": [],
   "source": [
    "lim = abs((numeric_data - numeric_data.mean())/numeric_data.std(ddof = 0)) <3"
   ]
  },
  {
   "cell_type": "markdown",
   "metadata": {},
   "source": [
    "Filtering the dataset to check if the row has any outliers.\n",
    "\n",
    "If it does, it gets indicated in the bool Series called filter, which then filters the whole, original dataset to retrieve the records that have outliers."
   ]
  },
  {
   "cell_type": "code",
   "execution_count": 20,
   "metadata": {},
   "outputs": [],
   "source": [
    "filter = lim.all(axis = 1)\n",
    "outlier_records = data[~filter]"
   ]
  },
  {
   "cell_type": "markdown",
   "metadata": {},
   "source": [
    "If we want to check which values are outliers, we can use the lim bool DataFrame to filter."
   ]
  },
  {
   "cell_type": "code",
   "execution_count": 21,
   "metadata": {},
   "outputs": [],
   "source": [
    "outlier_items = numeric_data[~lim]\n",
    "outlier_items = outlier_items.dropna(how='all').dropna(axis = 1, how='all')"
   ]
  },
  {
   "cell_type": "markdown",
   "metadata": {},
   "source": [
    "After filtering the outlier items I am creating a new DataFrame to display them."
   ]
  },
  {
   "cell_type": "code",
   "execution_count": 22,
   "metadata": {},
   "outputs": [],
   "source": [
    "outlier_stack = outlier_items.stack().reset_index().set_index(\"level_1\")\n",
    "outlier_df=pd.DataFrame(outlier_stack).rename(columns={\"level_0\": \"at_index\", 0: \"value\"}).rename_axis(\"feature\")"
   ]
  },
  {
   "cell_type": "markdown",
   "metadata": {},
   "source": [
    "Creating scatter plots for visualization of the values, the outliers and the tolerance zone for each feature that has outliers."
   ]
  },
  {
   "cell_type": "code",
   "execution_count": 23,
   "metadata": {},
   "outputs": [
    {
     "data": {
      "application/vnd.plotly.v1+json": {
       "config": {
        "plotlyServerURL": "https://plot.ly"
       },
       "data": [
        {
         "hovertemplate": "index=%{x}<br>course_rating=%{marker.color}<extra></extra>",
         "legendgroup": "",
         "marker": {
          "color": [
           4.6,
           4.6,
           4.9,
           4.8,
           4.8,
           4.8,
           4.9,
           4.7,
           4.6,
           4.7,
           4.7,
           4.9,
           4.6,
           4.5,
           4.8,
           4.6,
           4.5,
           4.6,
           4.7,
           4.7,
           4.7,
           4.9,
           4.6,
           4.5,
           4.6,
           4.7,
           4.5,
           4.7,
           4.6,
           4.9,
           4.7,
           4.6,
           4.8,
           4.8,
           4.6,
           4.7,
           4.7,
           4.8,
           4.6,
           4.6,
           4.8,
           4.8,
           4.7,
           4.6,
           4.4,
           4.6,
           4.7,
           4.8,
           4.7,
           4.6,
           4.7,
           4.7,
           4.7,
           4.7,
           4.8,
           4.6,
           4.9,
           4.8,
           4.7,
           4.6,
           4.7,
           4.7,
           4.9,
           4.7,
           4.6,
           4.6,
           4.6,
           4.9,
           4.7,
           4.9,
           4.5,
           4.7,
           4.9,
           4.7,
           4.6,
           4.7,
           4.4,
           4.7,
           4.8,
           4.8,
           4.7,
           4.8,
           4.7,
           4.7,
           4.7,
           4.8,
           4.6,
           4.6,
           4.7,
           4.7,
           4.7,
           4.7,
           4.9,
           4.7,
           4.8,
           4.7,
           4.7,
           4.8,
           4.5,
           4.8,
           4.6,
           4.7,
           4.8,
           4.5,
           4.7,
           4.7,
           4.9,
           4.7,
           4.7,
           4.7,
           4.8,
           4.9,
           4.6,
           4.9,
           4.8,
           4.7,
           4.7,
           4.8,
           4.8,
           4.8,
           4.8,
           4.8,
           4.8,
           4.9,
           4.8,
           4.5,
           4.7,
           4.6,
           4.5,
           4.7,
           4.7,
           4.8,
           4.7,
           4.7,
           4.7,
           4.7,
           4.8,
           4.5,
           4.5,
           4.7,
           4.6,
           4.6,
           4.7,
           4.7,
           4.7,
           4.8,
           4.6,
           4.6,
           4.4,
           4.7,
           4.7,
           4.6,
           4.6,
           4.6,
           4.7,
           4.8,
           4.9,
           4.4,
           4.6,
           4.8,
           4.8,
           4.7,
           4.8,
           4.7,
           4.8,
           4.6,
           4.7,
           4.7,
           4.7,
           4.7,
           4.7,
           4.8,
           4.7,
           4.8,
           4.7,
           4.8,
           4.8,
           4.6,
           3.9,
           4.8,
           4.7,
           4.6,
           4.8,
           4.7,
           4.7,
           4.8,
           4.6,
           4.5,
           4.8,
           4.8,
           4.7,
           4.8,
           4.6,
           4.9,
           4.8,
           4.5,
           4.4,
           4.8,
           4.6,
           4.8,
           4.7,
           4.8,
           4.7,
           4.6,
           4.7,
           4.8,
           4.7,
           4.9,
           4.6,
           4.8,
           4.6,
           4.4,
           4.7,
           4.7,
           4.9,
           4.8,
           4.8,
           4.5,
           4.9,
           4.5,
           4.3,
           4.8,
           4.7,
           4.7,
           4.8,
           4.8,
           4.7,
           4.6,
           4.8,
           4.9,
           4.7,
           4.7,
           4.7,
           4.5,
           4.9,
           4.6,
           4.5,
           4.6,
           4.6,
           4.4,
           4.8,
           4.8,
           4.8,
           4.6,
           4.5,
           4.8,
           4.8,
           4.5,
           4.6,
           4.9,
           4.8,
           4.6,
           4.8,
           4.8,
           4.3,
           4.7,
           4.8,
           4.8,
           4.3,
           4.5,
           4.8,
           4.5,
           4.7,
           4.7,
           4.6,
           4.7,
           4.7,
           4.7,
           4.8,
           4.4,
           4.7,
           4.8,
           4.6,
           4.5,
           4.8,
           4.8,
           4.7,
           4.7,
           4.9,
           4.8,
           4.8,
           4.7,
           4.6,
           4.6,
           4.7,
           4.8,
           4.8,
           4.8,
           4.5,
           4.5,
           4.8,
           4.7,
           4.5,
           4.7,
           4.7,
           4.6,
           4.8,
           4.3,
           4.8,
           4.6,
           4.7,
           4.6,
           4.8,
           4.8,
           4.5,
           4.8,
           4.6,
           4.7,
           4.8,
           4.8,
           4.7,
           4.9,
           4.8,
           4.7,
           4.8,
           4.4,
           4.6,
           4.6,
           4.9,
           4.8,
           4.7,
           4.7,
           4.9,
           4.8,
           4.5,
           4.7,
           4.8,
           4.4,
           4.8,
           4.8,
           4.8,
           4.5,
           4.6,
           4.7,
           4.6,
           4.8,
           4.6,
           4.8,
           4.6,
           4.2,
           4.8,
           4.8,
           4.6,
           4.8,
           4.3,
           4.2,
           4.8,
           4.7,
           4.8,
           4.4,
           4.8,
           4.6,
           3.7,
           4.8,
           4.7,
           4.6,
           4.7,
           4.8,
           4.7,
           4.5,
           4.8,
           4.8,
           4.5,
           4.9,
           4.6,
           4.6,
           4.6,
           4.4,
           4.8,
           4.6,
           4.6,
           4.7,
           4.5,
           4.7,
           4.4,
           4.5,
           4.6,
           4.9,
           4.8,
           4.6,
           4.5,
           4.7,
           4.8,
           4.7,
           4.7,
           4.7,
           4.9,
           4.5,
           4.8,
           4.8,
           4.5,
           4.6,
           4.6,
           4.6,
           4.5,
           4.9,
           4.5,
           4.7,
           4.7,
           4.5,
           4.7,
           5,
           4.6,
           4.7,
           4.8,
           4.5,
           4.7,
           4.7,
           4.8,
           4.7,
           4.7,
           4.6,
           4.8,
           4.7,
           4.9,
           4.7,
           4.4,
           4.8,
           4.8,
           4.8,
           4.6,
           4.9,
           4.5,
           4.4,
           4.6,
           4.8,
           4.7,
           4.7,
           4.5,
           4.6,
           4.6,
           4.6,
           4.6,
           4.8,
           4.4,
           4.7,
           4.6,
           4.5,
           4.9,
           4.3,
           4.6,
           4.6,
           4.8,
           4.8,
           4.8,
           4.5,
           4.7,
           4.5,
           4.6,
           4.7,
           4.8,
           4.5,
           4.8,
           4.7,
           4.7,
           4.8,
           4.6,
           4.6,
           4.8,
           4.7,
           4.6,
           4.8,
           4.6,
           4.3,
           4.7,
           4.7,
           4.8,
           4.9,
           4.8,
           4.5,
           4.8,
           4.7,
           4.2,
           4.7,
           4.7,
           4.8,
           4.8,
           4.7,
           4.7,
           4.8,
           4.5,
           4.9,
           4.7,
           4.7,
           4.4,
           4.7,
           4.7,
           4.7,
           4.8,
           4.9,
           4.5,
           4.6,
           4.6,
           4.8,
           4.8,
           4.7,
           4.8,
           4.6,
           4.5,
           4.8,
           4.9,
           4.8,
           4.6,
           4.7,
           4.6,
           4.8,
           4.8,
           4.8,
           4.8,
           4.8,
           4.7,
           4.8,
           4.8,
           4.7,
           4.8,
           4.8,
           4.7,
           4.7,
           4.6,
           4.8,
           4.5,
           4.8,
           4.7,
           4.7,
           4.9,
           4.7,
           4.6,
           4.8,
           4.7,
           4.8,
           4.7,
           4.6,
           4.7,
           4.5,
           4.7,
           4.8,
           4.6,
           4.6,
           4.9,
           4.8,
           4.7,
           4.7,
           4.4,
           4.8,
           4.8,
           4.5,
           4.7,
           4.6,
           4.7,
           4.6,
           4.2,
           4.9,
           4.8,
           4.3,
           4.8,
           4.8,
           4.7,
           4.8,
           4.5,
           4.9,
           4.7,
           4.7,
           4.7,
           4.3,
           4.7,
           4.4,
           4.7,
           4.8,
           4.5,
           4.2,
           4.7,
           4.4,
           4.5,
           4.5,
           4.8,
           4.6,
           4.9,
           4.7,
           4.6,
           4.8,
           4.8,
           4.7,
           4.6,
           4.6,
           4.6,
           4.6,
           4.5,
           4.9,
           4.8,
           4.8,
           4.7,
           4.7,
           4.5,
           4.6,
           4.6,
           4.8,
           4.6,
           4.8,
           4.8,
           4.8,
           4.8,
           4.4,
           4.8,
           4.7,
           4.5,
           4.8,
           4.8,
           4.5,
           4.7,
           4.1,
           4.3,
           4.7,
           4.6,
           4.6,
           4.6,
           4.6,
           4.7,
           4.8,
           4.2,
           4.9,
           4.9,
           4.6,
           4.8,
           4.8,
           4.8,
           4.7,
           4.8,
           4.4,
           4.7,
           4.7,
           4.6,
           4.3,
           4.9,
           4.6,
           4.7,
           4.8,
           4.9,
           4.7,
           4.9,
           4.6,
           4.6,
           4.7,
           4.6,
           4.5,
           4.8,
           4.9,
           4.6,
           4.9,
           4.3,
           4.5,
           4.7,
           4.6,
           4.9,
           4.5,
           4.7,
           4.7,
           4.8,
           4.9,
           4.7,
           4,
           4.6,
           4.7,
           4.5,
           4.5,
           4.8,
           4.7,
           4.8,
           4.7,
           4.9,
           4.8,
           4.5,
           4.8,
           4.8,
           4.8,
           4.6,
           4.6,
           4.8,
           4.6,
           4.8,
           4.4,
           4.7,
           4.5,
           4.8,
           4.7,
           4.4,
           4.8,
           4.7,
           4.6,
           4.9,
           4.8,
           4.7,
           4.6,
           4.6,
           4.5,
           4.3,
           4.7,
           4.8,
           4.9,
           4.8,
           4.8,
           4.7,
           4.4,
           4.7,
           4.6,
           4.7,
           4.6,
           4.6,
           4.7,
           4.8,
           4.7,
           4.7,
           4.9,
           4.7,
           4.7,
           4.8,
           4.6,
           4.7,
           4.8,
           4.7,
           4.7,
           4.6,
           4.8,
           4.5,
           4.7,
           4.7,
           4.8,
           4.7,
           4.8,
           4.7,
           4.8,
           4.8,
           4.2,
           4.7,
           4.6,
           4.6,
           4.8,
           4.8,
           4.8,
           4.7,
           4.5,
           4.8,
           4.9,
           4.6,
           4.7,
           4.8,
           4.7,
           4.8,
           4.8,
           4.4,
           4.6,
           4.6,
           4.8,
           4.6,
           4.7,
           4.8,
           4.7,
           4.8,
           4.8,
           4.7,
           4.8,
           4.8,
           4.6,
           4.6,
           4.8,
           4.8,
           4.8,
           4.7,
           3.3,
           4.7,
           4.7,
           4.4,
           4.8,
           4.8,
           4.9,
           4.5,
           4.8,
           4.7,
           4.5,
           4.4,
           3.9,
           4.3,
           4.7,
           4.8,
           4.7,
           4.9,
           4.8,
           4.3,
           4.8,
           4.8,
           5,
           4.8,
           4.6,
           4.7,
           4.7,
           4.8,
           4.7,
           4.6,
           4.8,
           4.8,
           4.6,
           4.8,
           4.7,
           4.7,
           4.2,
           4.8,
           4.4,
           4.7,
           4.4,
           4.7,
           4.7,
           4.6,
           4.8,
           4.4,
           4.6,
           4.8,
           4.8,
           4.6,
           4.6,
           4.6,
           4.7,
           4.6,
           4.2,
           4.7,
           4.7,
           4.5,
           4.8,
           4.6,
           4.9,
           4.5,
           4.7,
           4.8,
           4.6,
           4.8,
           4.7,
           4.8,
           4.6,
           4.4,
           4.6,
           4.8,
           4.5,
           4.7,
           4.9,
           4.8,
           4.6,
           4.8,
           4.8,
           4.9,
           4.7,
           4.8,
           4.7,
           4.8,
           4.9,
           4.4,
           4.7,
           4.8,
           4.5,
           4.9,
           4.6,
           4.7,
           4.7,
           4.5,
           4.7,
           4.6,
           4.7,
           4.8,
           4.5,
           4.9,
           4.7,
           4.6,
           4.7,
           4.8,
           4.7,
           4.5,
           4,
           4.5,
           4.6,
           4.6,
           4.9,
           4.6,
           4.8,
           4.8,
           4.8,
           4.8,
           4.8,
           4.6,
           4.8,
           4.4,
           4.7,
           4.2,
           4.7,
           4.9
          ],
          "coloraxis": "coloraxis",
          "symbol": "circle"
         },
         "mode": "markers",
         "name": "",
         "orientation": "v",
         "showlegend": false,
         "type": "scatter",
         "x": [
          0,
          1,
          2,
          3,
          4,
          5,
          6,
          7,
          8,
          9,
          10,
          11,
          12,
          13,
          14,
          15,
          16,
          17,
          18,
          19,
          20,
          21,
          22,
          23,
          24,
          25,
          26,
          27,
          28,
          29,
          30,
          31,
          32,
          33,
          34,
          35,
          36,
          37,
          38,
          39,
          40,
          41,
          42,
          43,
          44,
          45,
          46,
          47,
          48,
          49,
          50,
          51,
          52,
          53,
          54,
          55,
          56,
          57,
          58,
          59,
          60,
          61,
          62,
          63,
          64,
          65,
          66,
          67,
          68,
          69,
          70,
          71,
          72,
          73,
          74,
          75,
          76,
          77,
          78,
          79,
          80,
          81,
          82,
          83,
          84,
          85,
          86,
          87,
          88,
          89,
          90,
          91,
          92,
          93,
          94,
          95,
          96,
          97,
          98,
          99,
          100,
          101,
          102,
          103,
          104,
          105,
          106,
          107,
          108,
          109,
          110,
          111,
          112,
          113,
          114,
          115,
          116,
          117,
          118,
          119,
          120,
          121,
          122,
          123,
          124,
          125,
          126,
          127,
          128,
          129,
          130,
          131,
          132,
          133,
          134,
          135,
          136,
          137,
          138,
          139,
          140,
          141,
          142,
          143,
          144,
          145,
          146,
          147,
          148,
          149,
          150,
          151,
          152,
          153,
          154,
          155,
          156,
          157,
          158,
          159,
          160,
          161,
          162,
          163,
          164,
          165,
          166,
          167,
          168,
          169,
          170,
          171,
          172,
          173,
          174,
          175,
          176,
          177,
          178,
          179,
          180,
          181,
          182,
          183,
          184,
          185,
          186,
          187,
          188,
          189,
          190,
          191,
          192,
          193,
          194,
          195,
          196,
          197,
          198,
          199,
          200,
          201,
          202,
          203,
          204,
          205,
          206,
          207,
          208,
          209,
          210,
          211,
          212,
          213,
          214,
          215,
          216,
          217,
          218,
          219,
          220,
          221,
          222,
          223,
          224,
          225,
          226,
          227,
          228,
          229,
          230,
          231,
          232,
          233,
          234,
          235,
          236,
          237,
          238,
          239,
          240,
          241,
          242,
          243,
          244,
          245,
          246,
          247,
          248,
          249,
          250,
          251,
          252,
          253,
          254,
          255,
          256,
          257,
          258,
          259,
          260,
          261,
          262,
          263,
          264,
          265,
          266,
          267,
          268,
          269,
          270,
          271,
          272,
          273,
          274,
          275,
          276,
          277,
          278,
          279,
          280,
          281,
          282,
          283,
          284,
          285,
          286,
          287,
          288,
          289,
          290,
          291,
          292,
          293,
          294,
          295,
          296,
          297,
          298,
          299,
          300,
          301,
          302,
          303,
          304,
          305,
          306,
          307,
          308,
          309,
          310,
          311,
          312,
          313,
          314,
          315,
          316,
          317,
          318,
          319,
          320,
          321,
          322,
          323,
          324,
          325,
          326,
          327,
          328,
          329,
          330,
          331,
          332,
          333,
          334,
          335,
          336,
          337,
          338,
          339,
          340,
          341,
          342,
          343,
          344,
          345,
          346,
          347,
          348,
          349,
          350,
          351,
          352,
          353,
          354,
          355,
          356,
          357,
          358,
          359,
          360,
          361,
          362,
          363,
          364,
          365,
          366,
          367,
          368,
          369,
          370,
          371,
          372,
          373,
          374,
          375,
          376,
          377,
          378,
          379,
          380,
          381,
          382,
          383,
          384,
          385,
          386,
          387,
          388,
          389,
          390,
          391,
          392,
          393,
          394,
          395,
          396,
          397,
          398,
          399,
          400,
          401,
          402,
          403,
          404,
          405,
          406,
          407,
          408,
          409,
          410,
          411,
          412,
          413,
          414,
          415,
          416,
          417,
          418,
          419,
          420,
          421,
          422,
          423,
          424,
          425,
          426,
          427,
          428,
          429,
          430,
          431,
          432,
          433,
          434,
          435,
          436,
          437,
          438,
          439,
          440,
          441,
          442,
          443,
          444,
          445,
          446,
          447,
          448,
          449,
          450,
          451,
          452,
          453,
          454,
          455,
          456,
          457,
          458,
          459,
          460,
          461,
          462,
          463,
          464,
          465,
          466,
          467,
          468,
          469,
          470,
          471,
          472,
          473,
          474,
          475,
          476,
          477,
          478,
          479,
          480,
          481,
          482,
          483,
          484,
          485,
          486,
          487,
          488,
          489,
          490,
          491,
          492,
          493,
          494,
          495,
          496,
          497,
          498,
          499,
          500,
          501,
          502,
          503,
          504,
          505,
          506,
          507,
          508,
          509,
          510,
          511,
          512,
          513,
          514,
          515,
          516,
          517,
          518,
          519,
          520,
          521,
          522,
          523,
          524,
          525,
          526,
          527,
          528,
          529,
          530,
          531,
          532,
          533,
          534,
          535,
          536,
          537,
          538,
          539,
          540,
          541,
          542,
          543,
          544,
          545,
          546,
          547,
          548,
          549,
          550,
          551,
          552,
          553,
          554,
          555,
          556,
          557,
          558,
          559,
          560,
          561,
          562,
          563,
          564,
          565,
          566,
          567,
          568,
          569,
          570,
          571,
          572,
          573,
          574,
          575,
          576,
          577,
          578,
          579,
          580,
          581,
          582,
          583,
          584,
          585,
          586,
          587,
          588,
          589,
          590,
          591,
          592,
          593,
          594,
          595,
          596,
          597,
          598,
          599,
          600,
          601,
          602,
          603,
          604,
          605,
          606,
          607,
          608,
          609,
          610,
          611,
          612,
          613,
          614,
          615,
          616,
          617,
          618,
          619,
          620,
          621,
          622,
          623,
          624,
          625,
          626,
          627,
          628,
          629,
          630,
          631,
          632,
          633,
          634,
          635,
          636,
          637,
          638,
          639,
          640,
          641,
          642,
          643,
          644,
          645,
          646,
          647,
          648,
          649,
          650,
          651,
          652,
          653,
          654,
          655,
          656,
          657,
          658,
          659,
          660,
          661,
          662,
          663,
          664,
          665,
          666,
          667,
          668,
          669,
          670,
          671,
          672,
          673,
          674,
          675,
          676,
          677,
          678,
          679,
          680,
          681,
          682,
          683,
          684,
          685,
          686,
          687,
          688,
          689,
          690,
          691,
          692,
          693,
          694,
          695,
          696,
          697,
          698,
          699,
          700,
          701,
          702,
          703,
          704,
          705,
          706,
          707,
          708,
          709,
          710,
          711,
          712,
          713,
          714,
          715,
          716,
          717,
          718,
          719,
          720,
          721,
          722,
          723,
          724,
          725,
          726,
          727,
          728,
          729,
          730,
          731,
          732,
          733,
          734,
          735,
          736,
          737,
          738,
          739,
          740,
          741,
          742,
          743,
          744,
          745,
          746,
          747,
          748,
          749,
          750,
          751,
          752,
          753,
          754,
          755,
          756,
          757,
          758,
          759,
          760,
          761,
          762,
          763,
          764,
          765,
          766,
          767,
          768,
          769,
          770,
          771,
          772,
          773,
          774,
          775,
          776,
          777,
          778,
          779,
          780,
          781,
          782,
          783,
          784,
          785,
          786,
          787,
          788,
          789,
          790,
          791,
          792,
          793,
          794,
          795,
          796,
          797,
          798,
          799,
          800,
          801,
          802,
          803,
          804,
          805,
          806,
          807,
          808,
          809,
          810,
          811,
          812,
          813,
          814,
          815,
          816,
          817,
          818,
          819,
          820,
          821,
          822,
          823,
          824,
          825,
          826,
          827,
          828,
          829,
          830,
          831,
          832,
          833,
          834,
          835,
          836,
          837,
          838,
          839,
          840,
          841,
          842,
          843,
          844,
          845,
          846,
          847,
          848,
          849,
          850,
          851,
          852,
          853,
          854,
          855,
          856,
          857,
          858,
          859,
          860,
          861,
          862,
          863,
          864,
          865,
          866,
          867,
          868,
          869,
          870,
          871,
          872,
          873,
          874,
          875,
          876,
          877,
          878,
          879,
          880,
          881,
          882,
          883,
          884,
          885,
          886,
          887,
          888,
          889,
          890
         ],
         "xaxis": "x",
         "y": [
          4.6,
          4.6,
          4.9,
          4.8,
          4.8,
          4.8,
          4.9,
          4.7,
          4.6,
          4.7,
          4.7,
          4.9,
          4.6,
          4.5,
          4.8,
          4.6,
          4.5,
          4.6,
          4.7,
          4.7,
          4.7,
          4.9,
          4.6,
          4.5,
          4.6,
          4.7,
          4.5,
          4.7,
          4.6,
          4.9,
          4.7,
          4.6,
          4.8,
          4.8,
          4.6,
          4.7,
          4.7,
          4.8,
          4.6,
          4.6,
          4.8,
          4.8,
          4.7,
          4.6,
          4.4,
          4.6,
          4.7,
          4.8,
          4.7,
          4.6,
          4.7,
          4.7,
          4.7,
          4.7,
          4.8,
          4.6,
          4.9,
          4.8,
          4.7,
          4.6,
          4.7,
          4.7,
          4.9,
          4.7,
          4.6,
          4.6,
          4.6,
          4.9,
          4.7,
          4.9,
          4.5,
          4.7,
          4.9,
          4.7,
          4.6,
          4.7,
          4.4,
          4.7,
          4.8,
          4.8,
          4.7,
          4.8,
          4.7,
          4.7,
          4.7,
          4.8,
          4.6,
          4.6,
          4.7,
          4.7,
          4.7,
          4.7,
          4.9,
          4.7,
          4.8,
          4.7,
          4.7,
          4.8,
          4.5,
          4.8,
          4.6,
          4.7,
          4.8,
          4.5,
          4.7,
          4.7,
          4.9,
          4.7,
          4.7,
          4.7,
          4.8,
          4.9,
          4.6,
          4.9,
          4.8,
          4.7,
          4.7,
          4.8,
          4.8,
          4.8,
          4.8,
          4.8,
          4.8,
          4.9,
          4.8,
          4.5,
          4.7,
          4.6,
          4.5,
          4.7,
          4.7,
          4.8,
          4.7,
          4.7,
          4.7,
          4.7,
          4.8,
          4.5,
          4.5,
          4.7,
          4.6,
          4.6,
          4.7,
          4.7,
          4.7,
          4.8,
          4.6,
          4.6,
          4.4,
          4.7,
          4.7,
          4.6,
          4.6,
          4.6,
          4.7,
          4.8,
          4.9,
          4.4,
          4.6,
          4.8,
          4.8,
          4.7,
          4.8,
          4.7,
          4.8,
          4.6,
          4.7,
          4.7,
          4.7,
          4.7,
          4.7,
          4.8,
          4.7,
          4.8,
          4.7,
          4.8,
          4.8,
          4.6,
          3.9,
          4.8,
          4.7,
          4.6,
          4.8,
          4.7,
          4.7,
          4.8,
          4.6,
          4.5,
          4.8,
          4.8,
          4.7,
          4.8,
          4.6,
          4.9,
          4.8,
          4.5,
          4.4,
          4.8,
          4.6,
          4.8,
          4.7,
          4.8,
          4.7,
          4.6,
          4.7,
          4.8,
          4.7,
          4.9,
          4.6,
          4.8,
          4.6,
          4.4,
          4.7,
          4.7,
          4.9,
          4.8,
          4.8,
          4.5,
          4.9,
          4.5,
          4.3,
          4.8,
          4.7,
          4.7,
          4.8,
          4.8,
          4.7,
          4.6,
          4.8,
          4.9,
          4.7,
          4.7,
          4.7,
          4.5,
          4.9,
          4.6,
          4.5,
          4.6,
          4.6,
          4.4,
          4.8,
          4.8,
          4.8,
          4.6,
          4.5,
          4.8,
          4.8,
          4.5,
          4.6,
          4.9,
          4.8,
          4.6,
          4.8,
          4.8,
          4.3,
          4.7,
          4.8,
          4.8,
          4.3,
          4.5,
          4.8,
          4.5,
          4.7,
          4.7,
          4.6,
          4.7,
          4.7,
          4.7,
          4.8,
          4.4,
          4.7,
          4.8,
          4.6,
          4.5,
          4.8,
          4.8,
          4.7,
          4.7,
          4.9,
          4.8,
          4.8,
          4.7,
          4.6,
          4.6,
          4.7,
          4.8,
          4.8,
          4.8,
          4.5,
          4.5,
          4.8,
          4.7,
          4.5,
          4.7,
          4.7,
          4.6,
          4.8,
          4.3,
          4.8,
          4.6,
          4.7,
          4.6,
          4.8,
          4.8,
          4.5,
          4.8,
          4.6,
          4.7,
          4.8,
          4.8,
          4.7,
          4.9,
          4.8,
          4.7,
          4.8,
          4.4,
          4.6,
          4.6,
          4.9,
          4.8,
          4.7,
          4.7,
          4.9,
          4.8,
          4.5,
          4.7,
          4.8,
          4.4,
          4.8,
          4.8,
          4.8,
          4.5,
          4.6,
          4.7,
          4.6,
          4.8,
          4.6,
          4.8,
          4.6,
          4.2,
          4.8,
          4.8,
          4.6,
          4.8,
          4.3,
          4.2,
          4.8,
          4.7,
          4.8,
          4.4,
          4.8,
          4.6,
          3.7,
          4.8,
          4.7,
          4.6,
          4.7,
          4.8,
          4.7,
          4.5,
          4.8,
          4.8,
          4.5,
          4.9,
          4.6,
          4.6,
          4.6,
          4.4,
          4.8,
          4.6,
          4.6,
          4.7,
          4.5,
          4.7,
          4.4,
          4.5,
          4.6,
          4.9,
          4.8,
          4.6,
          4.5,
          4.7,
          4.8,
          4.7,
          4.7,
          4.7,
          4.9,
          4.5,
          4.8,
          4.8,
          4.5,
          4.6,
          4.6,
          4.6,
          4.5,
          4.9,
          4.5,
          4.7,
          4.7,
          4.5,
          4.7,
          5,
          4.6,
          4.7,
          4.8,
          4.5,
          4.7,
          4.7,
          4.8,
          4.7,
          4.7,
          4.6,
          4.8,
          4.7,
          4.9,
          4.7,
          4.4,
          4.8,
          4.8,
          4.8,
          4.6,
          4.9,
          4.5,
          4.4,
          4.6,
          4.8,
          4.7,
          4.7,
          4.5,
          4.6,
          4.6,
          4.6,
          4.6,
          4.8,
          4.4,
          4.7,
          4.6,
          4.5,
          4.9,
          4.3,
          4.6,
          4.6,
          4.8,
          4.8,
          4.8,
          4.5,
          4.7,
          4.5,
          4.6,
          4.7,
          4.8,
          4.5,
          4.8,
          4.7,
          4.7,
          4.8,
          4.6,
          4.6,
          4.8,
          4.7,
          4.6,
          4.8,
          4.6,
          4.3,
          4.7,
          4.7,
          4.8,
          4.9,
          4.8,
          4.5,
          4.8,
          4.7,
          4.2,
          4.7,
          4.7,
          4.8,
          4.8,
          4.7,
          4.7,
          4.8,
          4.5,
          4.9,
          4.7,
          4.7,
          4.4,
          4.7,
          4.7,
          4.7,
          4.8,
          4.9,
          4.5,
          4.6,
          4.6,
          4.8,
          4.8,
          4.7,
          4.8,
          4.6,
          4.5,
          4.8,
          4.9,
          4.8,
          4.6,
          4.7,
          4.6,
          4.8,
          4.8,
          4.8,
          4.8,
          4.8,
          4.7,
          4.8,
          4.8,
          4.7,
          4.8,
          4.8,
          4.7,
          4.7,
          4.6,
          4.8,
          4.5,
          4.8,
          4.7,
          4.7,
          4.9,
          4.7,
          4.6,
          4.8,
          4.7,
          4.8,
          4.7,
          4.6,
          4.7,
          4.5,
          4.7,
          4.8,
          4.6,
          4.6,
          4.9,
          4.8,
          4.7,
          4.7,
          4.4,
          4.8,
          4.8,
          4.5,
          4.7,
          4.6,
          4.7,
          4.6,
          4.2,
          4.9,
          4.8,
          4.3,
          4.8,
          4.8,
          4.7,
          4.8,
          4.5,
          4.9,
          4.7,
          4.7,
          4.7,
          4.3,
          4.7,
          4.4,
          4.7,
          4.8,
          4.5,
          4.2,
          4.7,
          4.4,
          4.5,
          4.5,
          4.8,
          4.6,
          4.9,
          4.7,
          4.6,
          4.8,
          4.8,
          4.7,
          4.6,
          4.6,
          4.6,
          4.6,
          4.5,
          4.9,
          4.8,
          4.8,
          4.7,
          4.7,
          4.5,
          4.6,
          4.6,
          4.8,
          4.6,
          4.8,
          4.8,
          4.8,
          4.8,
          4.4,
          4.8,
          4.7,
          4.5,
          4.8,
          4.8,
          4.5,
          4.7,
          4.1,
          4.3,
          4.7,
          4.6,
          4.6,
          4.6,
          4.6,
          4.7,
          4.8,
          4.2,
          4.9,
          4.9,
          4.6,
          4.8,
          4.8,
          4.8,
          4.7,
          4.8,
          4.4,
          4.7,
          4.7,
          4.6,
          4.3,
          4.9,
          4.6,
          4.7,
          4.8,
          4.9,
          4.7,
          4.9,
          4.6,
          4.6,
          4.7,
          4.6,
          4.5,
          4.8,
          4.9,
          4.6,
          4.9,
          4.3,
          4.5,
          4.7,
          4.6,
          4.9,
          4.5,
          4.7,
          4.7,
          4.8,
          4.9,
          4.7,
          4,
          4.6,
          4.7,
          4.5,
          4.5,
          4.8,
          4.7,
          4.8,
          4.7,
          4.9,
          4.8,
          4.5,
          4.8,
          4.8,
          4.8,
          4.6,
          4.6,
          4.8,
          4.6,
          4.8,
          4.4,
          4.7,
          4.5,
          4.8,
          4.7,
          4.4,
          4.8,
          4.7,
          4.6,
          4.9,
          4.8,
          4.7,
          4.6,
          4.6,
          4.5,
          4.3,
          4.7,
          4.8,
          4.9,
          4.8,
          4.8,
          4.7,
          4.4,
          4.7,
          4.6,
          4.7,
          4.6,
          4.6,
          4.7,
          4.8,
          4.7,
          4.7,
          4.9,
          4.7,
          4.7,
          4.8,
          4.6,
          4.7,
          4.8,
          4.7,
          4.7,
          4.6,
          4.8,
          4.5,
          4.7,
          4.7,
          4.8,
          4.7,
          4.8,
          4.7,
          4.8,
          4.8,
          4.2,
          4.7,
          4.6,
          4.6,
          4.8,
          4.8,
          4.8,
          4.7,
          4.5,
          4.8,
          4.9,
          4.6,
          4.7,
          4.8,
          4.7,
          4.8,
          4.8,
          4.4,
          4.6,
          4.6,
          4.8,
          4.6,
          4.7,
          4.8,
          4.7,
          4.8,
          4.8,
          4.7,
          4.8,
          4.8,
          4.6,
          4.6,
          4.8,
          4.8,
          4.8,
          4.7,
          3.3,
          4.7,
          4.7,
          4.4,
          4.8,
          4.8,
          4.9,
          4.5,
          4.8,
          4.7,
          4.5,
          4.4,
          3.9,
          4.3,
          4.7,
          4.8,
          4.7,
          4.9,
          4.8,
          4.3,
          4.8,
          4.8,
          5,
          4.8,
          4.6,
          4.7,
          4.7,
          4.8,
          4.7,
          4.6,
          4.8,
          4.8,
          4.6,
          4.8,
          4.7,
          4.7,
          4.2,
          4.8,
          4.4,
          4.7,
          4.4,
          4.7,
          4.7,
          4.6,
          4.8,
          4.4,
          4.6,
          4.8,
          4.8,
          4.6,
          4.6,
          4.6,
          4.7,
          4.6,
          4.2,
          4.7,
          4.7,
          4.5,
          4.8,
          4.6,
          4.9,
          4.5,
          4.7,
          4.8,
          4.6,
          4.8,
          4.7,
          4.8,
          4.6,
          4.4,
          4.6,
          4.8,
          4.5,
          4.7,
          4.9,
          4.8,
          4.6,
          4.8,
          4.8,
          4.9,
          4.7,
          4.8,
          4.7,
          4.8,
          4.9,
          4.4,
          4.7,
          4.8,
          4.5,
          4.9,
          4.6,
          4.7,
          4.7,
          4.5,
          4.7,
          4.6,
          4.7,
          4.8,
          4.5,
          4.9,
          4.7,
          4.6,
          4.7,
          4.8,
          4.7,
          4.5,
          4,
          4.5,
          4.6,
          4.6,
          4.9,
          4.6,
          4.8,
          4.8,
          4.8,
          4.8,
          4.8,
          4.6,
          4.8,
          4.4,
          4.7,
          4.2,
          4.7,
          4.9
         ],
         "yaxis": "y"
        },
        {
         "hoverinfo": "skip",
         "marker": {
          "color": "red",
          "size": 10,
          "symbol": "x"
         },
         "mode": "markers",
         "name": "Outlier",
         "type": "scatter",
         "x": [
          178,
          352,
          609,
          659,
          767,
          779,
          873
         ],
         "y": [
          3.9,
          3.7,
          4.1,
          4,
          3.3,
          3.9,
          4
         ]
        },
        {
         "hoverinfo": "skip",
         "line": {
          "color": "blue"
         },
         "mode": "lines",
         "name": "Normal Distribution",
         "showlegend": false,
         "type": "scatter",
         "x": [
          -1.9796817621327038e-14,
          -4.8357571580385924e-14,
          -1.168066395219712e-13,
          -2.7900020414131744e-13,
          -6.589848913148248e-13,
          -1.5391478469745705e-12,
          -3.5548326950156565e-12,
          -8.118801769217517e-12,
          -1.8335748973996424e-11,
          -4.094862437024519e-11,
          -9.043029003890533e-11,
          -1.974797078241141e-10,
          -4.2644691141655517e-10,
          -9.106288720810272e-10,
          -1.9228783219113748e-9,
          -4.015097870831219e-9,
          -8.290379547411581e-9,
          -1.6927258894657242e-8,
          -3.4176910770523274e-8,
          -6.82358989871774e-8,
          -1.347184184752051e-7,
          -2.630116459088582e-7,
          -5.077581786162726e-7,
          -9.693326045134499e-7,
          -0.000001829880206665231,
          -0.0000034159101850694675,
          -0.000006305567397054387,
          -0.00001151001384180288,
          -0.000020775977434136996,
          -0.00003708352665864313,
          -0.00006545375073494716,
          -0.0001142409990891015,
          -0.00019717116021677282,
          -0.0003365105903553146,
          -0.0005679211284792573,
          -0.000947788120223631,
          -0.0015641141346611756,
          -0.002552463648147935,
          -0.004118932127979655,
          -0.0065726975899246705,
          -0.010371381535376053,
          -0.016183167024262795,
          -0.024970334888361857,
          -0.038099490020090436,
          -0.05748412209500406,
          -0.08576509814214488,
          -0.1265339949306477,
          -0.18460259248145652,
          -0.2663191014566102,
          -0.3799275465096569,
          -0.5359610069090043,
          -0.7476520884022827,
          -1.0313352274602587,
          -1.4068056338352355,
          -1.897589596065482,
          -2.5310715799633745,
          -3.338416431761544,
          -4.354221684861943,
          -5.615837188630217,
          -7.162298644247761,
          -9.032839385583852,
          -11.26497145250767,
          -13.89216228595123,
          -16.941175662849453,
          -20.42919192207496,
          -24.360868995043496,
          -28.725547122317884,
          -33.49483072517156,
          -38.62079509757819,
          -44.035058613822436,
          -49.6489298653601,
          -55.35478274732154,
          -61.028733058555375,
          -66.5345927397932,
          -71.7289703482038,
          -76.46727882269249,
          -80.61031525012842,
          -84.03100326210662,
          -86.62084637306448,
          -88.29563662293198,
          -89,
          -88.71043649390776,
          -87.43662198639572,
          -85.22087137955783,
          -82.1358045111814,
          -78.28039443754696,
          -73.77469799619391,
          -68.75365973913657,
          -63.36043434606005,
          -57.73968577891333,
          -52.031294573529145,
          -46.364842852070616,
          -40.85515832068459,
          -35.59909427007474,
          -30.673613744912238,
          -26.13514328447212,
          -22.020073868491906,
          -18.34622023806608,
          -15.115007917527029,
          -12.314140385822625
         ],
         "y": [
          3.3,
          3.317171717171717,
          3.334343434343434,
          3.3515151515151516,
          3.3686868686868685,
          3.385858585858586,
          3.403030303030303,
          3.4202020202020202,
          3.437373737373737,
          3.4545454545454546,
          3.4717171717171715,
          3.488888888888889,
          3.506060606060606,
          3.5232323232323233,
          3.54040404040404,
          3.5575757575757576,
          3.5747474747474746,
          3.591919191919192,
          3.609090909090909,
          3.6262626262626263,
          3.6434343434343432,
          3.6606060606060606,
          3.6777777777777776,
          3.694949494949495,
          3.712121212121212,
          3.7292929292929293,
          3.7464646464646463,
          3.7636363636363637,
          3.7808080808080806,
          3.797979797979798,
          3.815151515151515,
          3.8323232323232324,
          3.8494949494949493,
          3.8666666666666667,
          3.8838383838383836,
          3.901010101010101,
          3.918181818181818,
          3.9353535353535354,
          3.9525252525252523,
          3.9696969696969697,
          3.9868686868686867,
          4.004040404040404,
          4.0212121212121215,
          4.038383838383838,
          4.055555555555555,
          4.072727272727272,
          4.08989898989899,
          4.107070707070707,
          4.124242424242424,
          4.141414141414142,
          4.158585858585859,
          4.175757575757576,
          4.192929292929293,
          4.21010101010101,
          4.2272727272727275,
          4.2444444444444445,
          4.261616161616161,
          4.278787878787879,
          4.295959595959596,
          4.313131313131313,
          4.33030303030303,
          4.347474747474747,
          4.364646464646465,
          4.381818181818182,
          4.398989898989899,
          4.416161616161617,
          4.433333333333334,
          4.4505050505050505,
          4.4676767676767675,
          4.484848484848484,
          4.502020202020202,
          4.519191919191919,
          4.536363636363636,
          4.553535353535354,
          4.570707070707071,
          4.587878787878788,
          4.605050505050505,
          4.622222222222222,
          4.63939393939394,
          4.656565656565657,
          4.6737373737373735,
          4.690909090909091,
          4.708080808080808,
          4.725252525252525,
          4.742424242424242,
          4.759595959595959,
          4.776767676767677,
          4.793939393939394,
          4.811111111111111,
          4.828282828282829,
          4.845454545454546,
          4.862626262626263,
          4.87979797979798,
          4.8969696969696965,
          4.914141414141414,
          4.931313131313131,
          4.948484848484849,
          4.965656565656566,
          4.982828282828283,
          5
         ]
        }
       ],
       "layout": {
        "annotations": [
         {
          "showarrow": false,
          "text": "Mean: 4.68",
          "x": 1,
          "xanchor": "left",
          "xref": "x domain",
          "y": 4.677328843995511,
          "yanchor": "middle",
          "yref": "y"
         },
         {
          "showarrow": false,
          "text": "Lower tolerance: 4.19",
          "x": 1,
          "xanchor": "left",
          "xref": "x domain",
          "y": 4.190654294966758,
          "yanchor": "middle",
          "yref": "y"
         },
         {
          "showarrow": false,
          "text": "Upper tolerance: 5.16",
          "x": 1,
          "xanchor": "left",
          "xref": "x domain",
          "y": 5.164003393024264,
          "yanchor": "middle",
          "yref": "y"
         },
         {
          "showarrow": false,
          "text": "Max valid value: 5",
          "x": 1,
          "xanchor": "left",
          "xref": "x domain",
          "y": 5,
          "yanchor": "middle",
          "yref": "y"
         }
        ],
        "coloraxis": {
         "colorbar": {
          "title": {
           "text": "course_rating"
          }
         },
         "colorscale": [
          [
           0,
           "rgb(165,0,38)"
          ],
          [
           0.1,
           "rgb(215,48,39)"
          ],
          [
           0.2,
           "rgb(244,109,67)"
          ],
          [
           0.3,
           "rgb(253,174,97)"
          ],
          [
           0.4,
           "rgb(254,224,139)"
          ],
          [
           0.5,
           "rgb(255,255,191)"
          ],
          [
           0.6,
           "rgb(217,239,139)"
          ],
          [
           0.7,
           "rgb(166,217,106)"
          ],
          [
           0.8,
           "rgb(102,189,99)"
          ],
          [
           0.9,
           "rgb(26,152,80)"
          ],
          [
           1,
           "rgb(0,104,55)"
          ]
         ],
         "showscale": false
        },
        "height": 600,
        "legend": {
         "tracegroupgap": 0
        },
        "margin": {
         "l": 100,
         "r": 200,
         "t": 60
        },
        "shapes": [
         {
          "line": {
           "color": "orange"
          },
          "type": "line",
          "x0": 0,
          "x1": 1,
          "xref": "x domain",
          "y0": 4.677328843995511,
          "y1": 4.677328843995511,
          "yref": "y"
         },
         {
          "line": {
           "color": "grey",
           "dash": "dash"
          },
          "type": "line",
          "x0": 0,
          "x1": 1,
          "xref": "x domain",
          "y0": 4.190654294966758,
          "y1": 4.190654294966758,
          "yref": "y"
         },
         {
          "line": {
           "color": "grey",
           "dash": "dash"
          },
          "type": "line",
          "x0": 0,
          "x1": 1,
          "xref": "x domain",
          "y0": 5.164003393024264,
          "y1": 5.164003393024264,
          "yref": "y"
         },
         {
          "line": {
           "color": "violet",
           "dash": "dot",
           "width": 2
          },
          "type": "line",
          "x0": 0,
          "x1": 1,
          "xref": "x domain",
          "y0": 5,
          "y1": 5,
          "yref": "y"
         }
        ],
        "showlegend": false,
        "template": {
         "data": {
          "bar": [
           {
            "error_x": {
             "color": "#f2f5fa"
            },
            "error_y": {
             "color": "#f2f5fa"
            },
            "marker": {
             "line": {
              "color": "rgb(17,17,17)",
              "width": 0.5
             },
             "pattern": {
              "fillmode": "overlay",
              "size": 10,
              "solidity": 0.2
             }
            },
            "type": "bar"
           }
          ],
          "barpolar": [
           {
            "marker": {
             "line": {
              "color": "rgb(17,17,17)",
              "width": 0.5
             },
             "pattern": {
              "fillmode": "overlay",
              "size": 10,
              "solidity": 0.2
             }
            },
            "type": "barpolar"
           }
          ],
          "carpet": [
           {
            "aaxis": {
             "endlinecolor": "#A2B1C6",
             "gridcolor": "#506784",
             "linecolor": "#506784",
             "minorgridcolor": "#506784",
             "startlinecolor": "#A2B1C6"
            },
            "baxis": {
             "endlinecolor": "#A2B1C6",
             "gridcolor": "#506784",
             "linecolor": "#506784",
             "minorgridcolor": "#506784",
             "startlinecolor": "#A2B1C6"
            },
            "type": "carpet"
           }
          ],
          "choropleth": [
           {
            "colorbar": {
             "outlinewidth": 0,
             "ticks": ""
            },
            "type": "choropleth"
           }
          ],
          "contour": [
           {
            "colorbar": {
             "outlinewidth": 0,
             "ticks": ""
            },
            "colorscale": [
             [
              0,
              "#0d0887"
             ],
             [
              0.1111111111111111,
              "#46039f"
             ],
             [
              0.2222222222222222,
              "#7201a8"
             ],
             [
              0.3333333333333333,
              "#9c179e"
             ],
             [
              0.4444444444444444,
              "#bd3786"
             ],
             [
              0.5555555555555556,
              "#d8576b"
             ],
             [
              0.6666666666666666,
              "#ed7953"
             ],
             [
              0.7777777777777778,
              "#fb9f3a"
             ],
             [
              0.8888888888888888,
              "#fdca26"
             ],
             [
              1,
              "#f0f921"
             ]
            ],
            "type": "contour"
           }
          ],
          "contourcarpet": [
           {
            "colorbar": {
             "outlinewidth": 0,
             "ticks": ""
            },
            "type": "contourcarpet"
           }
          ],
          "heatmap": [
           {
            "colorbar": {
             "outlinewidth": 0,
             "ticks": ""
            },
            "colorscale": [
             [
              0,
              "#0d0887"
             ],
             [
              0.1111111111111111,
              "#46039f"
             ],
             [
              0.2222222222222222,
              "#7201a8"
             ],
             [
              0.3333333333333333,
              "#9c179e"
             ],
             [
              0.4444444444444444,
              "#bd3786"
             ],
             [
              0.5555555555555556,
              "#d8576b"
             ],
             [
              0.6666666666666666,
              "#ed7953"
             ],
             [
              0.7777777777777778,
              "#fb9f3a"
             ],
             [
              0.8888888888888888,
              "#fdca26"
             ],
             [
              1,
              "#f0f921"
             ]
            ],
            "type": "heatmap"
           }
          ],
          "heatmapgl": [
           {
            "colorbar": {
             "outlinewidth": 0,
             "ticks": ""
            },
            "colorscale": [
             [
              0,
              "#0d0887"
             ],
             [
              0.1111111111111111,
              "#46039f"
             ],
             [
              0.2222222222222222,
              "#7201a8"
             ],
             [
              0.3333333333333333,
              "#9c179e"
             ],
             [
              0.4444444444444444,
              "#bd3786"
             ],
             [
              0.5555555555555556,
              "#d8576b"
             ],
             [
              0.6666666666666666,
              "#ed7953"
             ],
             [
              0.7777777777777778,
              "#fb9f3a"
             ],
             [
              0.8888888888888888,
              "#fdca26"
             ],
             [
              1,
              "#f0f921"
             ]
            ],
            "type": "heatmapgl"
           }
          ],
          "histogram": [
           {
            "marker": {
             "pattern": {
              "fillmode": "overlay",
              "size": 10,
              "solidity": 0.2
             }
            },
            "type": "histogram"
           }
          ],
          "histogram2d": [
           {
            "colorbar": {
             "outlinewidth": 0,
             "ticks": ""
            },
            "colorscale": [
             [
              0,
              "#0d0887"
             ],
             [
              0.1111111111111111,
              "#46039f"
             ],
             [
              0.2222222222222222,
              "#7201a8"
             ],
             [
              0.3333333333333333,
              "#9c179e"
             ],
             [
              0.4444444444444444,
              "#bd3786"
             ],
             [
              0.5555555555555556,
              "#d8576b"
             ],
             [
              0.6666666666666666,
              "#ed7953"
             ],
             [
              0.7777777777777778,
              "#fb9f3a"
             ],
             [
              0.8888888888888888,
              "#fdca26"
             ],
             [
              1,
              "#f0f921"
             ]
            ],
            "type": "histogram2d"
           }
          ],
          "histogram2dcontour": [
           {
            "colorbar": {
             "outlinewidth": 0,
             "ticks": ""
            },
            "colorscale": [
             [
              0,
              "#0d0887"
             ],
             [
              0.1111111111111111,
              "#46039f"
             ],
             [
              0.2222222222222222,
              "#7201a8"
             ],
             [
              0.3333333333333333,
              "#9c179e"
             ],
             [
              0.4444444444444444,
              "#bd3786"
             ],
             [
              0.5555555555555556,
              "#d8576b"
             ],
             [
              0.6666666666666666,
              "#ed7953"
             ],
             [
              0.7777777777777778,
              "#fb9f3a"
             ],
             [
              0.8888888888888888,
              "#fdca26"
             ],
             [
              1,
              "#f0f921"
             ]
            ],
            "type": "histogram2dcontour"
           }
          ],
          "mesh3d": [
           {
            "colorbar": {
             "outlinewidth": 0,
             "ticks": ""
            },
            "type": "mesh3d"
           }
          ],
          "parcoords": [
           {
            "line": {
             "colorbar": {
              "outlinewidth": 0,
              "ticks": ""
             }
            },
            "type": "parcoords"
           }
          ],
          "pie": [
           {
            "automargin": true,
            "type": "pie"
           }
          ],
          "scatter": [
           {
            "marker": {
             "line": {
              "color": "#283442"
             }
            },
            "type": "scatter"
           }
          ],
          "scatter3d": [
           {
            "line": {
             "colorbar": {
              "outlinewidth": 0,
              "ticks": ""
             }
            },
            "marker": {
             "colorbar": {
              "outlinewidth": 0,
              "ticks": ""
             }
            },
            "type": "scatter3d"
           }
          ],
          "scattercarpet": [
           {
            "marker": {
             "colorbar": {
              "outlinewidth": 0,
              "ticks": ""
             }
            },
            "type": "scattercarpet"
           }
          ],
          "scattergeo": [
           {
            "marker": {
             "colorbar": {
              "outlinewidth": 0,
              "ticks": ""
             }
            },
            "type": "scattergeo"
           }
          ],
          "scattergl": [
           {
            "marker": {
             "line": {
              "color": "#283442"
             }
            },
            "type": "scattergl"
           }
          ],
          "scattermapbox": [
           {
            "marker": {
             "colorbar": {
              "outlinewidth": 0,
              "ticks": ""
             }
            },
            "type": "scattermapbox"
           }
          ],
          "scatterpolar": [
           {
            "marker": {
             "colorbar": {
              "outlinewidth": 0,
              "ticks": ""
             }
            },
            "type": "scatterpolar"
           }
          ],
          "scatterpolargl": [
           {
            "marker": {
             "colorbar": {
              "outlinewidth": 0,
              "ticks": ""
             }
            },
            "type": "scatterpolargl"
           }
          ],
          "scatterternary": [
           {
            "marker": {
             "colorbar": {
              "outlinewidth": 0,
              "ticks": ""
             }
            },
            "type": "scatterternary"
           }
          ],
          "surface": [
           {
            "colorbar": {
             "outlinewidth": 0,
             "ticks": ""
            },
            "colorscale": [
             [
              0,
              "#0d0887"
             ],
             [
              0.1111111111111111,
              "#46039f"
             ],
             [
              0.2222222222222222,
              "#7201a8"
             ],
             [
              0.3333333333333333,
              "#9c179e"
             ],
             [
              0.4444444444444444,
              "#bd3786"
             ],
             [
              0.5555555555555556,
              "#d8576b"
             ],
             [
              0.6666666666666666,
              "#ed7953"
             ],
             [
              0.7777777777777778,
              "#fb9f3a"
             ],
             [
              0.8888888888888888,
              "#fdca26"
             ],
             [
              1,
              "#f0f921"
             ]
            ],
            "type": "surface"
           }
          ],
          "table": [
           {
            "cells": {
             "fill": {
              "color": "#506784"
             },
             "line": {
              "color": "rgb(17,17,17)"
             }
            },
            "header": {
             "fill": {
              "color": "#2a3f5f"
             },
             "line": {
              "color": "rgb(17,17,17)"
             }
            },
            "type": "table"
           }
          ]
         },
         "layout": {
          "annotationdefaults": {
           "arrowcolor": "#f2f5fa",
           "arrowhead": 0,
           "arrowwidth": 1
          },
          "autotypenumbers": "strict",
          "coloraxis": {
           "colorbar": {
            "outlinewidth": 0,
            "ticks": ""
           }
          },
          "colorscale": {
           "diverging": [
            [
             0,
             "#8e0152"
            ],
            [
             0.1,
             "#c51b7d"
            ],
            [
             0.2,
             "#de77ae"
            ],
            [
             0.3,
             "#f1b6da"
            ],
            [
             0.4,
             "#fde0ef"
            ],
            [
             0.5,
             "#f7f7f7"
            ],
            [
             0.6,
             "#e6f5d0"
            ],
            [
             0.7,
             "#b8e186"
            ],
            [
             0.8,
             "#7fbc41"
            ],
            [
             0.9,
             "#4d9221"
            ],
            [
             1,
             "#276419"
            ]
           ],
           "sequential": [
            [
             0,
             "#0d0887"
            ],
            [
             0.1111111111111111,
             "#46039f"
            ],
            [
             0.2222222222222222,
             "#7201a8"
            ],
            [
             0.3333333333333333,
             "#9c179e"
            ],
            [
             0.4444444444444444,
             "#bd3786"
            ],
            [
             0.5555555555555556,
             "#d8576b"
            ],
            [
             0.6666666666666666,
             "#ed7953"
            ],
            [
             0.7777777777777778,
             "#fb9f3a"
            ],
            [
             0.8888888888888888,
             "#fdca26"
            ],
            [
             1,
             "#f0f921"
            ]
           ],
           "sequentialminus": [
            [
             0,
             "#0d0887"
            ],
            [
             0.1111111111111111,
             "#46039f"
            ],
            [
             0.2222222222222222,
             "#7201a8"
            ],
            [
             0.3333333333333333,
             "#9c179e"
            ],
            [
             0.4444444444444444,
             "#bd3786"
            ],
            [
             0.5555555555555556,
             "#d8576b"
            ],
            [
             0.6666666666666666,
             "#ed7953"
            ],
            [
             0.7777777777777778,
             "#fb9f3a"
            ],
            [
             0.8888888888888888,
             "#fdca26"
            ],
            [
             1,
             "#f0f921"
            ]
           ]
          },
          "colorway": [
           "#636efa",
           "#EF553B",
           "#00cc96",
           "#ab63fa",
           "#FFA15A",
           "#19d3f3",
           "#FF6692",
           "#B6E880",
           "#FF97FF",
           "#FECB52"
          ],
          "font": {
           "color": "#f2f5fa"
          },
          "geo": {
           "bgcolor": "rgb(17,17,17)",
           "lakecolor": "rgb(17,17,17)",
           "landcolor": "rgb(17,17,17)",
           "showlakes": true,
           "showland": true,
           "subunitcolor": "#506784"
          },
          "hoverlabel": {
           "align": "left"
          },
          "hovermode": "closest",
          "mapbox": {
           "style": "dark"
          },
          "paper_bgcolor": "rgb(17,17,17)",
          "plot_bgcolor": "rgb(17,17,17)",
          "polar": {
           "angularaxis": {
            "gridcolor": "#506784",
            "linecolor": "#506784",
            "ticks": ""
           },
           "bgcolor": "rgb(17,17,17)",
           "radialaxis": {
            "gridcolor": "#506784",
            "linecolor": "#506784",
            "ticks": ""
           }
          },
          "scene": {
           "xaxis": {
            "backgroundcolor": "rgb(17,17,17)",
            "gridcolor": "#506784",
            "gridwidth": 2,
            "linecolor": "#506784",
            "showbackground": true,
            "ticks": "",
            "zerolinecolor": "#C8D4E3"
           },
           "yaxis": {
            "backgroundcolor": "rgb(17,17,17)",
            "gridcolor": "#506784",
            "gridwidth": 2,
            "linecolor": "#506784",
            "showbackground": true,
            "ticks": "",
            "zerolinecolor": "#C8D4E3"
           },
           "zaxis": {
            "backgroundcolor": "rgb(17,17,17)",
            "gridcolor": "#506784",
            "gridwidth": 2,
            "linecolor": "#506784",
            "showbackground": true,
            "ticks": "",
            "zerolinecolor": "#C8D4E3"
           }
          },
          "shapedefaults": {
           "line": {
            "color": "#f2f5fa"
           }
          },
          "sliderdefaults": {
           "bgcolor": "#C8D4E3",
           "bordercolor": "rgb(17,17,17)",
           "borderwidth": 1,
           "tickwidth": 0
          },
          "ternary": {
           "aaxis": {
            "gridcolor": "#506784",
            "linecolor": "#506784",
            "ticks": ""
           },
           "baxis": {
            "gridcolor": "#506784",
            "linecolor": "#506784",
            "ticks": ""
           },
           "bgcolor": "rgb(17,17,17)",
           "caxis": {
            "gridcolor": "#506784",
            "linecolor": "#506784",
            "ticks": ""
           }
          },
          "title": {
           "x": 0.05
          },
          "updatemenudefaults": {
           "bgcolor": "#506784",
           "borderwidth": 0
          },
          "xaxis": {
           "automargin": true,
           "gridcolor": "#283442",
           "linecolor": "#506784",
           "ticks": "",
           "title": {
            "standoff": 15
           },
           "zerolinecolor": "#283442",
           "zerolinewidth": 2
          },
          "yaxis": {
           "automargin": true,
           "gridcolor": "#283442",
           "linecolor": "#506784",
           "ticks": "",
           "title": {
            "standoff": 15
           },
           "zerolinecolor": "#283442",
           "zerolinewidth": 2
          }
         }
        },
        "width": 1200,
        "xaxis": {
         "anchor": "y",
         "domain": [
          0,
          1
         ],
         "range": [
          -100,
          900
         ],
         "title": {
          "text": "Course index"
         }
        },
        "yaxis": {
         "anchor": "x",
         "domain": [
          0,
          1
         ],
         "ticklabelposition": "outside left",
         "title": {
          "text": "Course rating"
         }
        }
       }
      }
     },
     "metadata": {},
     "output_type": "display_data"
    },
    {
     "data": {
      "application/vnd.plotly.v1+json": {
       "config": {
        "plotlyServerURL": "https://plot.ly"
       },
       "data": [
        {
         "hovertemplate": "index=%{x}<br>course_students_enrolled=%{marker.color}<extra></extra>",
         "legendgroup": "",
         "marker": {
          "color": [
           480000,
           310000,
           2500000,
           1500000,
           350000,
           690000,
           3200000,
           510000,
           220000,
           310000,
           310000,
           240000,
           220000,
           830000,
           470000,
           740000,
           260000,
           280000,
           300000,
           300000,
           290000,
           220000,
           120000,
           160000,
           120000,
           93000,
           480000,
           170000,
           380000,
           270000,
           230000,
           440000,
           89000,
           110000,
           140000,
           13000,
           610000,
           190000,
           490000,
           220000,
           750000,
           280000,
           280000,
           130000,
           790000,
           380000,
           68000,
           1300000,
           61000,
           130000,
           82000,
           110000,
           98000,
           140000,
           350000,
           150000,
           150000,
           280000,
           61000,
           140000,
           31000,
           220000,
           630000,
           540000,
           110000,
           22000,
           20000,
           100000,
           370000,
           140000,
           96000,
           150000,
           57000,
           120000,
           160000,
           94000,
           80000,
           120000,
           150000,
           97000,
           99000,
           120000,
           23000,
           220000,
           220000,
           65000,
           330000,
           260000,
           260000,
           140000,
           68000,
           23000,
           200000,
           100000,
           70000,
           57000,
           110000,
           84000,
           35000,
           180000,
           240000,
           310000,
           57000,
           190000,
           89000,
           160000,
           210000,
           340000,
           150000,
           36000,
           51000,
           420000,
           80000,
           400000,
           79000,
           10000,
           92000,
           23000,
           320000,
           30000,
           8700,
           140000,
           110000,
           270000,
           56000,
           72000,
           24000,
           34000,
           150000,
           12000,
           20000,
           14000,
           77000,
           23000,
           5300,
           130000,
           220000,
           170000,
           100000,
           67000,
           93000,
           260000,
           22000,
           21000,
           120000,
           9400,
           120000,
           14000,
           210000,
           76000,
           220000,
           270000,
           170000,
           44000,
           39000,
           43000,
           68000,
           320000,
           100000,
           23000,
           370000,
           30000,
           290000,
           38000,
           200000,
           110000,
           110000,
           18000,
           120000,
           180000,
           16000,
           14000,
           120000,
           24000,
           42000,
           760000,
           100000,
           28000,
           15000,
           81000,
           7000,
           290000,
           120000,
           32000,
           97000,
           190000,
           60000,
           390000,
           42000,
           220000,
           82000,
           190000,
           79000,
           35000,
           110000,
           49000,
           75000,
           51000,
           89000,
           310000,
           12000,
           71000,
           68000,
           26000,
           200000,
           54000,
           100000,
           240000,
           18000,
           64000,
           56000,
           57000,
           40000,
           270000,
           170000,
           20000,
           72000,
           12000,
           76000,
           72000,
           68000,
           33000,
           36000,
           140000,
           22000,
           230000,
           22000,
           120000,
           41000,
           83000,
           150000,
           43000,
           32000,
           67000,
           62000,
           370000,
           52000,
           37000,
           26000,
           9000,
           50000,
           81000,
           14000,
           420000,
           8100,
           12000,
           86000,
           78000,
           17000,
           130000,
           67000,
           68000,
           100000,
           25000,
           32000,
           250000,
           11000,
           69000,
           13000,
           60000,
           180000,
           120000,
           63000,
           110000,
           58000,
           69000,
           29000,
           37000,
           110000,
           55000,
           270000,
           52000,
           180000,
           27000,
           84000,
           32000,
           37000,
           110000,
           86000,
           110000,
           19000,
           110000,
           47000,
           4000,
           190000,
           14000,
           140000,
           260000,
           140000,
           170000,
           43000,
           180000,
           7900,
           49000,
           28000,
           39000,
           14000,
           23000,
           90000,
           47000,
           220000,
           10000,
           36000,
           130000,
           16000,
           43000,
           29000,
           220000,
           270000,
           8800,
           310000,
           120000,
           69000,
           31000,
           4100,
           120000,
           76000,
           480000,
           79000,
           31000,
           10000,
           120000,
           18000,
           57000,
           35000,
           39000,
           15000,
           100000,
           50000,
           240000,
           9200,
           33000,
           160000,
           21000,
           430000,
           4800,
           130000,
           14000,
           16000,
           76000,
           270000,
           95000,
           39000,
           5300,
           45000,
           12000,
           20000,
           83000,
           67000,
           110000,
           220000,
           130000,
           29000,
           78000,
           34000,
           3800,
           6500,
           130000,
           46000,
           17000,
           39000,
           26000,
           84000,
           8800,
           250000,
           40000,
           30000,
           60000,
           9100,
           56000,
           4900,
           120000,
           99000,
           1700,
           41000,
           73000,
           120000,
           47000,
           130000,
           94000,
           22000,
           58000,
           24000,
           42000,
           66000,
           430000,
           17000,
           3900,
           110000,
           68000,
           120000,
           5800,
           150000,
           2600,
           78000,
           95000,
           10000,
           54000,
           80000,
           140000,
           29000,
           1600,
           34000,
           62000,
           22000,
           19000,
           43000,
           37000,
           3300,
           55000,
           13000,
           18000,
           53000,
           91000,
           36000,
           18000,
           13000,
           82000,
           54000,
           39000,
           66000,
           150000,
           75000,
           36000,
           52000,
           86000,
           6400,
           44000,
           87000,
           39000,
           19000,
           40000,
           4900,
           16000,
           140000,
           43000,
           54000,
           4200,
           5400,
           66000,
           78000,
           30000,
           9700,
           85000,
           7200,
           30000,
           68000,
           2200,
           26000,
           49000,
           32000,
           22000,
           31000,
           12000,
           14000,
           38000,
           2300,
           4800,
           56000,
           5200,
           130000,
           14000,
           1600,
           140000,
           34000,
           30000,
           49000,
           11000,
           9200,
           30000,
           230000,
           41000,
           6200,
           160000,
           350000,
           22000,
           62000,
           34000,
           10000,
           79000,
           12000,
           40000,
           69000,
           7900,
           48000,
           16000,
           84000,
           17000,
           2400,
           73000,
           35000,
           97000,
           14000,
           91000,
           18000,
           140000,
           38000,
           23000,
           8800,
           74000,
           89000,
           89000,
           69000,
           83000,
           71000,
           130000,
           42000,
           47000,
           20000,
           18000,
           21000,
           34000,
           200000,
           10000,
           11000,
           17000,
           8000,
           120000,
           160000,
           150000,
           81000,
           3200,
           97000,
           9100,
           13000,
           130000,
           9100,
           45000,
           51000,
           45000,
           110000,
           13000,
           24000,
           87000,
           120000,
           35000,
           82000,
           10000,
           22000,
           48000,
           14000,
           10000,
           140000,
           6200,
           43000,
           30000,
           37000,
           42000,
           99000,
           32000,
           280000,
           180000,
           310000,
           29000,
           170000,
           26000,
           71000,
           72000,
           27000,
           81000,
           23000,
           220000,
           23000,
           52000,
           57000,
           88000,
           18000,
           34000,
           73000,
           27000,
           23000,
           3500,
           34000,
           3900,
           4200,
           8400,
           9400,
           34000,
           22000,
           36000,
           16000,
           49000,
           66000,
           9400,
           200000,
           19000,
           22000,
           29000,
           11000,
           40000,
           9700,
           39000,
           9200,
           11000,
           2600,
           25000,
           5500,
           59000,
           110000,
           44000,
           68000,
           5600,
           29000,
           19000,
           80000,
           24000,
           23000,
           69000,
           16000,
           34000,
           24000,
           38000,
           2900,
           200000,
           43000,
           26000,
           33000,
           11000,
           12000,
           12000,
           27000,
           27000,
           15000,
           20000,
           5600,
           76000,
           39000,
           8200,
           150000,
           47000,
           150000,
           11000,
           30000,
           180000,
           5200,
           320000,
           46000,
           42000,
           3900,
           4400,
           2200,
           110000,
           180000,
           10000,
           4000,
           9500,
           40000,
           33000,
           60000,
           41000,
           47000,
           15000,
           44000,
           7300,
           17000,
           120000,
           16000,
           28000,
           35000,
           13000,
           22000,
           39000,
           31000,
           11000,
           84000,
           79000,
           28000,
           36000,
           8900,
           58000,
           22000,
           47000,
           61000,
           25000,
           17000,
           4000,
           29000,
           19000,
           26000,
           3000,
           17000,
           59000,
           12000,
           68000,
           18000,
           21000,
           130000,
           35000,
           15000,
           6000,
           12000,
           75000,
           39000,
           1800,
           19000,
           61000,
           59000,
           40000,
           52000,
           23000,
           5500,
           25000,
           22000,
           83000,
           31000,
           47000,
           36000,
           16000,
           35000,
           15000,
           62000,
           21000,
           14000,
           14000,
           7800,
           36000,
           14000,
           44000,
           23000,
           31000,
           8000,
           63000,
           16000,
           27000,
           150000,
           10000,
           19000,
           9900,
           19000,
           39000,
           22000,
           70000,
           19000,
           17000,
           59000,
           4100,
           31000,
           22000,
           77000,
           5400,
           7600,
           4500,
           25000,
           17000,
           16000,
           110000,
           49000,
           10000,
           18000,
           11000,
           6300,
           1900,
           7900,
           66000,
           12000,
           5900,
           41000,
           210000,
           33000,
           11000,
           24000,
           3600,
           6500,
           6800,
           23000,
           3200,
           12000,
           140000,
           23000,
           14000,
           2400,
           7700,
           110000,
           3400,
           54000,
           62000,
           6500,
           37000,
           12000,
           76000,
           20000,
           16000,
           33000,
           19000,
           34000,
           62000,
           22000,
           17000,
           53000,
           1500,
           170000,
           78000,
           15000,
           150000,
           15000,
           12000,
           47000,
           8100,
           30000,
           63000,
           55000,
           58000,
           14000,
           7400,
           60000,
           12000,
           4500,
           8500,
           22000,
           4200,
           12000,
           67000,
           100000,
           31000,
           20000,
           49000,
           13000,
           13000,
           50000,
           6600,
           5500,
           140000,
           9500,
           69000,
           67000,
           14000,
           1700,
           3000,
           13000,
           35000,
           60000,
           240000,
           7100,
           3200,
           38000,
           37000,
           6400,
           9700,
           23000,
           7200,
           48000,
           41000,
           17000,
           29000,
           46000,
           46000,
           12000,
           27000,
           51000,
           36000,
           79000,
           4400,
           57000,
           21000,
           15000,
           21000,
           1700,
           56000,
           25000,
           60000,
           12000,
           27000,
           160000,
           45000,
           7200,
           6100,
           120000,
           22000,
           7200,
           21000,
           12000,
           18000,
           42000,
           33000,
           130000,
           9800,
           16000,
           10000,
           42000,
           46000,
           28000,
           13000,
           9500,
           21000,
           5800,
           7300,
           11000,
           33000,
           6600,
           45000,
           6400
          ],
          "coloraxis": "coloraxis",
          "symbol": "circle"
         },
         "mode": "markers",
         "name": "",
         "orientation": "v",
         "showlegend": false,
         "type": "scatter",
         "x": [
          0,
          1,
          2,
          3,
          4,
          5,
          6,
          7,
          8,
          9,
          10,
          11,
          12,
          13,
          14,
          15,
          16,
          17,
          18,
          19,
          20,
          21,
          22,
          23,
          24,
          25,
          26,
          27,
          28,
          29,
          30,
          31,
          32,
          33,
          34,
          35,
          36,
          37,
          38,
          39,
          40,
          41,
          42,
          43,
          44,
          45,
          46,
          47,
          48,
          49,
          50,
          51,
          52,
          53,
          54,
          55,
          56,
          57,
          58,
          59,
          60,
          61,
          62,
          63,
          64,
          65,
          66,
          67,
          68,
          69,
          70,
          71,
          72,
          73,
          74,
          75,
          76,
          77,
          78,
          79,
          80,
          81,
          82,
          83,
          84,
          85,
          86,
          87,
          88,
          89,
          90,
          91,
          92,
          93,
          94,
          95,
          96,
          97,
          98,
          99,
          100,
          101,
          102,
          103,
          104,
          105,
          106,
          107,
          108,
          109,
          110,
          111,
          112,
          113,
          114,
          115,
          116,
          117,
          118,
          119,
          120,
          121,
          122,
          123,
          124,
          125,
          126,
          127,
          128,
          129,
          130,
          131,
          132,
          133,
          134,
          135,
          136,
          137,
          138,
          139,
          140,
          141,
          142,
          143,
          144,
          145,
          146,
          147,
          148,
          149,
          150,
          151,
          152,
          153,
          154,
          155,
          156,
          157,
          158,
          159,
          160,
          161,
          162,
          163,
          164,
          165,
          166,
          167,
          168,
          169,
          170,
          171,
          172,
          173,
          174,
          175,
          176,
          177,
          178,
          179,
          180,
          181,
          182,
          183,
          184,
          185,
          186,
          187,
          188,
          189,
          190,
          191,
          192,
          193,
          194,
          195,
          196,
          197,
          198,
          199,
          200,
          201,
          202,
          203,
          204,
          205,
          206,
          207,
          208,
          209,
          210,
          211,
          212,
          213,
          214,
          215,
          216,
          217,
          218,
          219,
          220,
          221,
          222,
          223,
          224,
          225,
          226,
          227,
          228,
          229,
          230,
          231,
          232,
          233,
          234,
          235,
          236,
          237,
          238,
          239,
          240,
          241,
          242,
          243,
          244,
          245,
          246,
          247,
          248,
          249,
          250,
          251,
          252,
          253,
          254,
          255,
          256,
          257,
          258,
          259,
          260,
          261,
          262,
          263,
          264,
          265,
          266,
          267,
          268,
          269,
          270,
          271,
          272,
          273,
          274,
          275,
          276,
          277,
          278,
          279,
          280,
          281,
          282,
          283,
          284,
          285,
          286,
          287,
          288,
          289,
          290,
          291,
          292,
          293,
          294,
          295,
          296,
          297,
          298,
          299,
          300,
          301,
          302,
          303,
          304,
          305,
          306,
          307,
          308,
          309,
          310,
          311,
          312,
          313,
          314,
          315,
          316,
          317,
          318,
          319,
          320,
          321,
          322,
          323,
          324,
          325,
          326,
          327,
          328,
          329,
          330,
          331,
          332,
          333,
          334,
          335,
          336,
          337,
          338,
          339,
          340,
          341,
          342,
          343,
          344,
          345,
          346,
          347,
          348,
          349,
          350,
          351,
          352,
          353,
          354,
          355,
          356,
          357,
          358,
          359,
          360,
          361,
          362,
          363,
          364,
          365,
          366,
          367,
          368,
          369,
          370,
          371,
          372,
          373,
          374,
          375,
          376,
          377,
          378,
          379,
          380,
          381,
          382,
          383,
          384,
          385,
          386,
          387,
          388,
          389,
          390,
          391,
          392,
          393,
          394,
          395,
          396,
          397,
          398,
          399,
          400,
          401,
          402,
          403,
          404,
          405,
          406,
          407,
          408,
          409,
          410,
          411,
          412,
          413,
          414,
          415,
          416,
          417,
          418,
          419,
          420,
          421,
          422,
          423,
          424,
          425,
          426,
          427,
          428,
          429,
          430,
          431,
          432,
          433,
          434,
          435,
          436,
          437,
          438,
          439,
          440,
          441,
          442,
          443,
          444,
          445,
          446,
          447,
          448,
          449,
          450,
          451,
          452,
          453,
          454,
          455,
          456,
          457,
          458,
          459,
          460,
          461,
          462,
          463,
          464,
          465,
          466,
          467,
          468,
          469,
          470,
          471,
          472,
          473,
          474,
          475,
          476,
          477,
          478,
          479,
          480,
          481,
          482,
          483,
          484,
          485,
          486,
          487,
          488,
          489,
          490,
          491,
          492,
          493,
          494,
          495,
          496,
          497,
          498,
          499,
          500,
          501,
          502,
          503,
          504,
          505,
          506,
          507,
          508,
          509,
          510,
          511,
          512,
          513,
          514,
          515,
          516,
          517,
          518,
          519,
          520,
          521,
          522,
          523,
          524,
          525,
          526,
          527,
          528,
          529,
          530,
          531,
          532,
          533,
          534,
          535,
          536,
          537,
          538,
          539,
          540,
          541,
          542,
          543,
          544,
          545,
          546,
          547,
          548,
          549,
          550,
          551,
          552,
          553,
          554,
          555,
          556,
          557,
          558,
          559,
          560,
          561,
          562,
          563,
          564,
          565,
          566,
          567,
          568,
          569,
          570,
          571,
          572,
          573,
          574,
          575,
          576,
          577,
          578,
          579,
          580,
          581,
          582,
          583,
          584,
          585,
          586,
          587,
          588,
          589,
          590,
          591,
          592,
          593,
          594,
          595,
          596,
          597,
          598,
          599,
          600,
          601,
          602,
          603,
          604,
          605,
          606,
          607,
          608,
          609,
          610,
          611,
          612,
          613,
          614,
          615,
          616,
          617,
          618,
          619,
          620,
          621,
          622,
          623,
          624,
          625,
          626,
          627,
          628,
          629,
          630,
          631,
          632,
          633,
          634,
          635,
          636,
          637,
          638,
          639,
          640,
          641,
          642,
          643,
          644,
          645,
          646,
          647,
          648,
          649,
          650,
          651,
          652,
          653,
          654,
          655,
          656,
          657,
          658,
          659,
          660,
          661,
          662,
          663,
          664,
          665,
          666,
          667,
          668,
          669,
          670,
          671,
          672,
          673,
          674,
          675,
          676,
          677,
          678,
          679,
          680,
          681,
          682,
          683,
          684,
          685,
          686,
          687,
          688,
          689,
          690,
          691,
          692,
          693,
          694,
          695,
          696,
          697,
          698,
          699,
          700,
          701,
          702,
          703,
          704,
          705,
          706,
          707,
          708,
          709,
          710,
          711,
          712,
          713,
          714,
          715,
          716,
          717,
          718,
          719,
          720,
          721,
          722,
          723,
          724,
          725,
          726,
          727,
          728,
          729,
          730,
          731,
          732,
          733,
          734,
          735,
          736,
          737,
          738,
          739,
          740,
          741,
          742,
          743,
          744,
          745,
          746,
          747,
          748,
          749,
          750,
          751,
          752,
          753,
          754,
          755,
          756,
          757,
          758,
          759,
          760,
          761,
          762,
          763,
          764,
          765,
          766,
          767,
          768,
          769,
          770,
          771,
          772,
          773,
          774,
          775,
          776,
          777,
          778,
          779,
          780,
          781,
          782,
          783,
          784,
          785,
          786,
          787,
          788,
          789,
          790,
          791,
          792,
          793,
          794,
          795,
          796,
          797,
          798,
          799,
          800,
          801,
          802,
          803,
          804,
          805,
          806,
          807,
          808,
          809,
          810,
          811,
          812,
          813,
          814,
          815,
          816,
          817,
          818,
          819,
          820,
          821,
          822,
          823,
          824,
          825,
          826,
          827,
          828,
          829,
          830,
          831,
          832,
          833,
          834,
          835,
          836,
          837,
          838,
          839,
          840,
          841,
          842,
          843,
          844,
          845,
          846,
          847,
          848,
          849,
          850,
          851,
          852,
          853,
          854,
          855,
          856,
          857,
          858,
          859,
          860,
          861,
          862,
          863,
          864,
          865,
          866,
          867,
          868,
          869,
          870,
          871,
          872,
          873,
          874,
          875,
          876,
          877,
          878,
          879,
          880,
          881,
          882,
          883,
          884,
          885,
          886,
          887,
          888,
          889,
          890
         ],
         "xaxis": "x",
         "y": [
          480000,
          310000,
          2500000,
          1500000,
          350000,
          690000,
          3200000,
          510000,
          220000,
          310000,
          310000,
          240000,
          220000,
          830000,
          470000,
          740000,
          260000,
          280000,
          300000,
          300000,
          290000,
          220000,
          120000,
          160000,
          120000,
          93000,
          480000,
          170000,
          380000,
          270000,
          230000,
          440000,
          89000,
          110000,
          140000,
          13000,
          610000,
          190000,
          490000,
          220000,
          750000,
          280000,
          280000,
          130000,
          790000,
          380000,
          68000,
          1300000,
          61000,
          130000,
          82000,
          110000,
          98000,
          140000,
          350000,
          150000,
          150000,
          280000,
          61000,
          140000,
          31000,
          220000,
          630000,
          540000,
          110000,
          22000,
          20000,
          100000,
          370000,
          140000,
          96000,
          150000,
          57000,
          120000,
          160000,
          94000,
          80000,
          120000,
          150000,
          97000,
          99000,
          120000,
          23000,
          220000,
          220000,
          65000,
          330000,
          260000,
          260000,
          140000,
          68000,
          23000,
          200000,
          100000,
          70000,
          57000,
          110000,
          84000,
          35000,
          180000,
          240000,
          310000,
          57000,
          190000,
          89000,
          160000,
          210000,
          340000,
          150000,
          36000,
          51000,
          420000,
          80000,
          400000,
          79000,
          10000,
          92000,
          23000,
          320000,
          30000,
          8700,
          140000,
          110000,
          270000,
          56000,
          72000,
          24000,
          34000,
          150000,
          12000,
          20000,
          14000,
          77000,
          23000,
          5300,
          130000,
          220000,
          170000,
          100000,
          67000,
          93000,
          260000,
          22000,
          21000,
          120000,
          9400,
          120000,
          14000,
          210000,
          76000,
          220000,
          270000,
          170000,
          44000,
          39000,
          43000,
          68000,
          320000,
          100000,
          23000,
          370000,
          30000,
          290000,
          38000,
          200000,
          110000,
          110000,
          18000,
          120000,
          180000,
          16000,
          14000,
          120000,
          24000,
          42000,
          760000,
          100000,
          28000,
          15000,
          81000,
          7000,
          290000,
          120000,
          32000,
          97000,
          190000,
          60000,
          390000,
          42000,
          220000,
          82000,
          190000,
          79000,
          35000,
          110000,
          49000,
          75000,
          51000,
          89000,
          310000,
          12000,
          71000,
          68000,
          26000,
          200000,
          54000,
          100000,
          240000,
          18000,
          64000,
          56000,
          57000,
          40000,
          270000,
          170000,
          20000,
          72000,
          12000,
          76000,
          72000,
          68000,
          33000,
          36000,
          140000,
          22000,
          230000,
          22000,
          120000,
          41000,
          83000,
          150000,
          43000,
          32000,
          67000,
          62000,
          370000,
          52000,
          37000,
          26000,
          9000,
          50000,
          81000,
          14000,
          420000,
          8100,
          12000,
          86000,
          78000,
          17000,
          130000,
          67000,
          68000,
          100000,
          25000,
          32000,
          250000,
          11000,
          69000,
          13000,
          60000,
          180000,
          120000,
          63000,
          110000,
          58000,
          69000,
          29000,
          37000,
          110000,
          55000,
          270000,
          52000,
          180000,
          27000,
          84000,
          32000,
          37000,
          110000,
          86000,
          110000,
          19000,
          110000,
          47000,
          4000,
          190000,
          14000,
          140000,
          260000,
          140000,
          170000,
          43000,
          180000,
          7900,
          49000,
          28000,
          39000,
          14000,
          23000,
          90000,
          47000,
          220000,
          10000,
          36000,
          130000,
          16000,
          43000,
          29000,
          220000,
          270000,
          8800,
          310000,
          120000,
          69000,
          31000,
          4100,
          120000,
          76000,
          480000,
          79000,
          31000,
          10000,
          120000,
          18000,
          57000,
          35000,
          39000,
          15000,
          100000,
          50000,
          240000,
          9200,
          33000,
          160000,
          21000,
          430000,
          4800,
          130000,
          14000,
          16000,
          76000,
          270000,
          95000,
          39000,
          5300,
          45000,
          12000,
          20000,
          83000,
          67000,
          110000,
          220000,
          130000,
          29000,
          78000,
          34000,
          3800,
          6500,
          130000,
          46000,
          17000,
          39000,
          26000,
          84000,
          8800,
          250000,
          40000,
          30000,
          60000,
          9100,
          56000,
          4900,
          120000,
          99000,
          1700,
          41000,
          73000,
          120000,
          47000,
          130000,
          94000,
          22000,
          58000,
          24000,
          42000,
          66000,
          430000,
          17000,
          3900,
          110000,
          68000,
          120000,
          5800,
          150000,
          2600,
          78000,
          95000,
          10000,
          54000,
          80000,
          140000,
          29000,
          1600,
          34000,
          62000,
          22000,
          19000,
          43000,
          37000,
          3300,
          55000,
          13000,
          18000,
          53000,
          91000,
          36000,
          18000,
          13000,
          82000,
          54000,
          39000,
          66000,
          150000,
          75000,
          36000,
          52000,
          86000,
          6400,
          44000,
          87000,
          39000,
          19000,
          40000,
          4900,
          16000,
          140000,
          43000,
          54000,
          4200,
          5400,
          66000,
          78000,
          30000,
          9700,
          85000,
          7200,
          30000,
          68000,
          2200,
          26000,
          49000,
          32000,
          22000,
          31000,
          12000,
          14000,
          38000,
          2300,
          4800,
          56000,
          5200,
          130000,
          14000,
          1600,
          140000,
          34000,
          30000,
          49000,
          11000,
          9200,
          30000,
          230000,
          41000,
          6200,
          160000,
          350000,
          22000,
          62000,
          34000,
          10000,
          79000,
          12000,
          40000,
          69000,
          7900,
          48000,
          16000,
          84000,
          17000,
          2400,
          73000,
          35000,
          97000,
          14000,
          91000,
          18000,
          140000,
          38000,
          23000,
          8800,
          74000,
          89000,
          89000,
          69000,
          83000,
          71000,
          130000,
          42000,
          47000,
          20000,
          18000,
          21000,
          34000,
          200000,
          10000,
          11000,
          17000,
          8000,
          120000,
          160000,
          150000,
          81000,
          3200,
          97000,
          9100,
          13000,
          130000,
          9100,
          45000,
          51000,
          45000,
          110000,
          13000,
          24000,
          87000,
          120000,
          35000,
          82000,
          10000,
          22000,
          48000,
          14000,
          10000,
          140000,
          6200,
          43000,
          30000,
          37000,
          42000,
          99000,
          32000,
          280000,
          180000,
          310000,
          29000,
          170000,
          26000,
          71000,
          72000,
          27000,
          81000,
          23000,
          220000,
          23000,
          52000,
          57000,
          88000,
          18000,
          34000,
          73000,
          27000,
          23000,
          3500,
          34000,
          3900,
          4200,
          8400,
          9400,
          34000,
          22000,
          36000,
          16000,
          49000,
          66000,
          9400,
          200000,
          19000,
          22000,
          29000,
          11000,
          40000,
          9700,
          39000,
          9200,
          11000,
          2600,
          25000,
          5500,
          59000,
          110000,
          44000,
          68000,
          5600,
          29000,
          19000,
          80000,
          24000,
          23000,
          69000,
          16000,
          34000,
          24000,
          38000,
          2900,
          200000,
          43000,
          26000,
          33000,
          11000,
          12000,
          12000,
          27000,
          27000,
          15000,
          20000,
          5600,
          76000,
          39000,
          8200,
          150000,
          47000,
          150000,
          11000,
          30000,
          180000,
          5200,
          320000,
          46000,
          42000,
          3900,
          4400,
          2200,
          110000,
          180000,
          10000,
          4000,
          9500,
          40000,
          33000,
          60000,
          41000,
          47000,
          15000,
          44000,
          7300,
          17000,
          120000,
          16000,
          28000,
          35000,
          13000,
          22000,
          39000,
          31000,
          11000,
          84000,
          79000,
          28000,
          36000,
          8900,
          58000,
          22000,
          47000,
          61000,
          25000,
          17000,
          4000,
          29000,
          19000,
          26000,
          3000,
          17000,
          59000,
          12000,
          68000,
          18000,
          21000,
          130000,
          35000,
          15000,
          6000,
          12000,
          75000,
          39000,
          1800,
          19000,
          61000,
          59000,
          40000,
          52000,
          23000,
          5500,
          25000,
          22000,
          83000,
          31000,
          47000,
          36000,
          16000,
          35000,
          15000,
          62000,
          21000,
          14000,
          14000,
          7800,
          36000,
          14000,
          44000,
          23000,
          31000,
          8000,
          63000,
          16000,
          27000,
          150000,
          10000,
          19000,
          9900,
          19000,
          39000,
          22000,
          70000,
          19000,
          17000,
          59000,
          4100,
          31000,
          22000,
          77000,
          5400,
          7600,
          4500,
          25000,
          17000,
          16000,
          110000,
          49000,
          10000,
          18000,
          11000,
          6300,
          1900,
          7900,
          66000,
          12000,
          5900,
          41000,
          210000,
          33000,
          11000,
          24000,
          3600,
          6500,
          6800,
          23000,
          3200,
          12000,
          140000,
          23000,
          14000,
          2400,
          7700,
          110000,
          3400,
          54000,
          62000,
          6500,
          37000,
          12000,
          76000,
          20000,
          16000,
          33000,
          19000,
          34000,
          62000,
          22000,
          17000,
          53000,
          1500,
          170000,
          78000,
          15000,
          150000,
          15000,
          12000,
          47000,
          8100,
          30000,
          63000,
          55000,
          58000,
          14000,
          7400,
          60000,
          12000,
          4500,
          8500,
          22000,
          4200,
          12000,
          67000,
          100000,
          31000,
          20000,
          49000,
          13000,
          13000,
          50000,
          6600,
          5500,
          140000,
          9500,
          69000,
          67000,
          14000,
          1700,
          3000,
          13000,
          35000,
          60000,
          240000,
          7100,
          3200,
          38000,
          37000,
          6400,
          9700,
          23000,
          7200,
          48000,
          41000,
          17000,
          29000,
          46000,
          46000,
          12000,
          27000,
          51000,
          36000,
          79000,
          4400,
          57000,
          21000,
          15000,
          21000,
          1700,
          56000,
          25000,
          60000,
          12000,
          27000,
          160000,
          45000,
          7200,
          6100,
          120000,
          22000,
          7200,
          21000,
          12000,
          18000,
          42000,
          33000,
          130000,
          9800,
          16000,
          10000,
          42000,
          46000,
          28000,
          13000,
          9500,
          21000,
          5800,
          7300,
          11000,
          33000,
          6600,
          45000,
          6400
         ],
         "yaxis": "y"
        },
        {
         "hoverinfo": "skip",
         "marker": {
          "color": "red",
          "size": 10,
          "symbol": "x"
         },
         "mode": "markers",
         "name": "Outlier",
         "type": "scatter",
         "x": [
          2,
          3,
          5,
          6,
          13,
          15,
          40,
          44,
          47,
          175
         ],
         "y": [
          2500000,
          1500000,
          690000,
          3200000,
          830000,
          740000,
          750000,
          790000,
          1300000,
          760000
         ]
        },
        {
         "hoverinfo": "skip",
         "line": {
          "color": "blue"
         },
         "mode": "lines",
         "name": "Normal Distribution",
         "showlegend": false,
         "type": "scatter",
         "x": [
          -79.0264803210463,
          -84.85424838577234,
          -88.28346696221537,
          -89,
          -86.937164459524,
          -82.28596628365112,
          -75.46592740291764,
          -67.06267788611306,
          -57.745175671357295,
          -48.17873138921089,
          -38.94931744292193,
          -30.51048984683559,
          -23.158122505267727,
          -17.031870700967424,
          -12.137414781626067,
          -8.380981339635825,
          -5.607488498461339,
          -3.6353543303156677,
          -2.2836520882370004,
          -1.3900101497374358,
          -0.8198055239474862,
          -0.468498869177636,
          -0.25942456153081916,
          -0.13919334562048324,
          -0.07236535443034761,
          -0.03645421505314716,
          -0.017793838592596697,
          -0.00841581887542221,
          -0.003856807394353281,
          -0.0017126332048231462,
          -0.0007368949945662372,
          -0.0003072215605983507,
          -0.00012410881045776427,
          -0.000048580096480785864,
          -0.000018425486798627298,
          -0.000006771492567999211,
          -0.00000241131906217654,
          -8.320123837075912e-7,
          -2.781696468674057e-7,
          -9.011446853849288e-8,
          -2.828682151041979e-8,
          -8.603568328626223e-9,
          -2.5355834711726423e-9,
          -7.240724937483862e-10,
          -2.0035077426675976e-10,
          -5.3716145104422066e-11,
          -1.3954795910435651e-11,
          -3.5127478612922686e-12,
          -8.567918062355211e-13,
          -2.0249227925956367e-13,
          -4.6371000988353786e-14,
          -1.0289382467908628e-14,
          -2.212264184348405e-15,
          -4.608817419951939e-16,
          -9.303510602076476e-17,
          -1.819738769454929e-17,
          -3.448864059191138e-18,
          -6.333560785354946e-19,
          -1.1270018974177518e-19,
          -1.9431493839545942e-20,
          -3.2463292813152353e-21,
          -5.255133904090691e-22,
          -8.24289640845231e-23,
          -1.2527970874434379e-23,
          -1.8449579232289767e-24,
          -2.6326736979720473e-25,
          -3.640092677533413e-26,
          -4.876774620836591e-27,
          -6.3307879521154375e-28,
          -7.963201165213762e-29,
          -9.705601247901927e-30,
          -1.1462043168364332e-30,
          -1.3116152962522576e-31,
          -1.454305825172437e-32,
          -1.562463397503387e-33,
          -1.6265551710279606e-34,
          -1.6407128626610796e-35,
          -1.6036190426583515e-36,
          -1.5187093421984028e-37,
          -1.3936475702249355e-38,
          -1.2391848557435323e-39,
          -1.067638115979737e-40,
          -8.912855817425341e-42,
          -7.209655771320148e-43,
          -5.650892114746562e-44,
          -4.291650431402841e-45,
          -3.1581772586769148e-46,
          -2.2519228186061863e-47,
          -1.5558772802842352e-48,
          -1.0416025016064381e-49,
          -6.756682742178815e-51,
          -4.246878907527755e-52,
          -2.586491565570931e-53,
          -1.5263604094716634e-54,
          -8.727863730181465e-56,
          -4.8357479764869873e-57,
          -2.596116625352165e-58,
          -1.3504844122324067e-59,
          -6.807063327273009e-61,
          -3.3245651181217255e-62
         ],
         "y": [
          1500,
          33808.080808080806,
          66116.16161616161,
          98424.24242424243,
          130732.32323232324,
          163040.40404040404,
          195348.48484848486,
          227656.56565656565,
          259964.64646464647,
          292272.7272727273,
          324580.8080808081,
          356888.8888888889,
          389196.9696969697,
          421505.0505050505,
          453813.1313131313,
          486121.21212121216,
          518429.29292929295,
          550737.3737373737,
          583045.4545454546,
          615353.5353535353,
          647661.6161616162,
          679969.696969697,
          712277.7777777778,
          744585.8585858586,
          776893.9393939395,
          809202.0202020202,
          841510.101010101,
          873818.1818181819,
          906126.2626262626,
          938434.3434343435,
          970742.4242424243,
          1003050.505050505,
          1035358.5858585859,
          1067666.6666666667,
          1099974.7474747475,
          1132282.8282828282,
          1164590.9090909092,
          1196898.98989899,
          1229207.0707070706,
          1261515.1515151516,
          1293823.2323232323,
          1326131.313131313,
          1358439.393939394,
          1390747.4747474748,
          1423055.5555555555,
          1455363.6363636365,
          1487671.7171717172,
          1519979.797979798,
          1552287.878787879,
          1584595.9595959596,
          1616904.0404040404,
          1649212.1212121213,
          1681520.202020202,
          1713828.2828282828,
          1746136.3636363638,
          1778444.4444444445,
          1810752.5252525252,
          1843060.6060606062,
          1875368.686868687,
          1907676.7676767677,
          1939984.8484848486,
          1972292.9292929294,
          2004601.01010101,
          2036909.090909091,
          2069217.1717171718,
          2101525.2525252528,
          2133833.3333333335,
          2166141.414141414,
          2198449.494949495,
          2230757.5757575757,
          2263065.6565656564,
          2295373.7373737376,
          2327681.8181818184,
          2359989.898989899,
          2392297.97979798,
          2424606.0606060605,
          2456914.1414141413,
          2489222.2222222225,
          2521530.303030303,
          2553838.383838384,
          2586146.4646464647,
          2618454.5454545454,
          2650762.626262626,
          2683070.7070707073,
          2715378.787878788,
          2747686.868686869,
          2779994.9494949495,
          2812303.0303030303,
          2844611.111111111,
          2876919.191919192,
          2909227.272727273,
          2941535.3535353537,
          2973843.4343434344,
          3006151.515151515,
          3038459.595959596,
          3070767.676767677,
          3103075.757575758,
          3135383.8383838385,
          3167691.9191919193,
          3200000
         ]
        }
       ],
       "layout": {
        "annotations": [
         {
          "showarrow": false,
          "text": "Mean: 90552.08",
          "x": 1,
          "xanchor": "left",
          "xref": "x domain",
          "y": 90552.07631874298,
          "yanchor": "middle",
          "yref": "y"
         },
         {
          "showarrow": false,
          "text": "Lower tolerance: -455257.29",
          "x": 1,
          "xanchor": "left",
          "xref": "x domain",
          "y": -455257.2852358146,
          "yanchor": "middle",
          "yref": "y"
         },
         {
          "showarrow": false,
          "text": "Upper tolerance: 636361.44",
          "x": 1,
          "xanchor": "left",
          "xref": "x domain",
          "y": 636361.4378733005,
          "yanchor": "middle",
          "yref": "y"
         },
         {
          "showarrow": false,
          "text": "Min valid value: 0",
          "x": 1,
          "xanchor": "left",
          "xref": "x domain",
          "y": 0,
          "yanchor": "middle",
          "yref": "y"
         }
        ],
        "coloraxis": {
         "colorbar": {
          "title": {
           "text": "course_students_enrolled"
          }
         },
         "colorscale": [
          [
           0,
           "rgb(0, 155, 158)"
          ],
          [
           0.16666666666666666,
           "rgb(66, 183, 185)"
          ],
          [
           0.3333333333333333,
           "rgb(167, 211, 212)"
          ],
          [
           0.5,
           "rgb(241, 241, 241)"
          ],
          [
           0.6666666666666666,
           "rgb(228, 193, 217)"
          ],
          [
           0.8333333333333334,
           "rgb(214, 145, 193)"
          ],
          [
           1,
           "rgb(199, 93, 171)"
          ]
         ],
         "showscale": false
        },
        "height": 600,
        "legend": {
         "tracegroupgap": 0
        },
        "margin": {
         "l": 100,
         "r": 200,
         "t": 60
        },
        "shapes": [
         {
          "line": {
           "color": "orange"
          },
          "type": "line",
          "x0": 0,
          "x1": 1,
          "xref": "x domain",
          "y0": 90552.07631874298,
          "y1": 90552.07631874298,
          "yref": "y"
         },
         {
          "line": {
           "color": "grey",
           "dash": "dash"
          },
          "type": "line",
          "x0": 0,
          "x1": 1,
          "xref": "x domain",
          "y0": -455257.2852358146,
          "y1": -455257.2852358146,
          "yref": "y"
         },
         {
          "line": {
           "color": "grey",
           "dash": "dash"
          },
          "type": "line",
          "x0": 0,
          "x1": 1,
          "xref": "x domain",
          "y0": 636361.4378733005,
          "y1": 636361.4378733005,
          "yref": "y"
         },
         {
          "line": {
           "color": "violet",
           "dash": "dot",
           "width": 2
          },
          "type": "line",
          "x0": 0,
          "x1": 1,
          "xref": "x domain",
          "y0": 0,
          "y1": 0,
          "yref": "y"
         }
        ],
        "showlegend": false,
        "template": {
         "data": {
          "bar": [
           {
            "error_x": {
             "color": "#f2f5fa"
            },
            "error_y": {
             "color": "#f2f5fa"
            },
            "marker": {
             "line": {
              "color": "rgb(17,17,17)",
              "width": 0.5
             },
             "pattern": {
              "fillmode": "overlay",
              "size": 10,
              "solidity": 0.2
             }
            },
            "type": "bar"
           }
          ],
          "barpolar": [
           {
            "marker": {
             "line": {
              "color": "rgb(17,17,17)",
              "width": 0.5
             },
             "pattern": {
              "fillmode": "overlay",
              "size": 10,
              "solidity": 0.2
             }
            },
            "type": "barpolar"
           }
          ],
          "carpet": [
           {
            "aaxis": {
             "endlinecolor": "#A2B1C6",
             "gridcolor": "#506784",
             "linecolor": "#506784",
             "minorgridcolor": "#506784",
             "startlinecolor": "#A2B1C6"
            },
            "baxis": {
             "endlinecolor": "#A2B1C6",
             "gridcolor": "#506784",
             "linecolor": "#506784",
             "minorgridcolor": "#506784",
             "startlinecolor": "#A2B1C6"
            },
            "type": "carpet"
           }
          ],
          "choropleth": [
           {
            "colorbar": {
             "outlinewidth": 0,
             "ticks": ""
            },
            "type": "choropleth"
           }
          ],
          "contour": [
           {
            "colorbar": {
             "outlinewidth": 0,
             "ticks": ""
            },
            "colorscale": [
             [
              0,
              "#0d0887"
             ],
             [
              0.1111111111111111,
              "#46039f"
             ],
             [
              0.2222222222222222,
              "#7201a8"
             ],
             [
              0.3333333333333333,
              "#9c179e"
             ],
             [
              0.4444444444444444,
              "#bd3786"
             ],
             [
              0.5555555555555556,
              "#d8576b"
             ],
             [
              0.6666666666666666,
              "#ed7953"
             ],
             [
              0.7777777777777778,
              "#fb9f3a"
             ],
             [
              0.8888888888888888,
              "#fdca26"
             ],
             [
              1,
              "#f0f921"
             ]
            ],
            "type": "contour"
           }
          ],
          "contourcarpet": [
           {
            "colorbar": {
             "outlinewidth": 0,
             "ticks": ""
            },
            "type": "contourcarpet"
           }
          ],
          "heatmap": [
           {
            "colorbar": {
             "outlinewidth": 0,
             "ticks": ""
            },
            "colorscale": [
             [
              0,
              "#0d0887"
             ],
             [
              0.1111111111111111,
              "#46039f"
             ],
             [
              0.2222222222222222,
              "#7201a8"
             ],
             [
              0.3333333333333333,
              "#9c179e"
             ],
             [
              0.4444444444444444,
              "#bd3786"
             ],
             [
              0.5555555555555556,
              "#d8576b"
             ],
             [
              0.6666666666666666,
              "#ed7953"
             ],
             [
              0.7777777777777778,
              "#fb9f3a"
             ],
             [
              0.8888888888888888,
              "#fdca26"
             ],
             [
              1,
              "#f0f921"
             ]
            ],
            "type": "heatmap"
           }
          ],
          "heatmapgl": [
           {
            "colorbar": {
             "outlinewidth": 0,
             "ticks": ""
            },
            "colorscale": [
             [
              0,
              "#0d0887"
             ],
             [
              0.1111111111111111,
              "#46039f"
             ],
             [
              0.2222222222222222,
              "#7201a8"
             ],
             [
              0.3333333333333333,
              "#9c179e"
             ],
             [
              0.4444444444444444,
              "#bd3786"
             ],
             [
              0.5555555555555556,
              "#d8576b"
             ],
             [
              0.6666666666666666,
              "#ed7953"
             ],
             [
              0.7777777777777778,
              "#fb9f3a"
             ],
             [
              0.8888888888888888,
              "#fdca26"
             ],
             [
              1,
              "#f0f921"
             ]
            ],
            "type": "heatmapgl"
           }
          ],
          "histogram": [
           {
            "marker": {
             "pattern": {
              "fillmode": "overlay",
              "size": 10,
              "solidity": 0.2
             }
            },
            "type": "histogram"
           }
          ],
          "histogram2d": [
           {
            "colorbar": {
             "outlinewidth": 0,
             "ticks": ""
            },
            "colorscale": [
             [
              0,
              "#0d0887"
             ],
             [
              0.1111111111111111,
              "#46039f"
             ],
             [
              0.2222222222222222,
              "#7201a8"
             ],
             [
              0.3333333333333333,
              "#9c179e"
             ],
             [
              0.4444444444444444,
              "#bd3786"
             ],
             [
              0.5555555555555556,
              "#d8576b"
             ],
             [
              0.6666666666666666,
              "#ed7953"
             ],
             [
              0.7777777777777778,
              "#fb9f3a"
             ],
             [
              0.8888888888888888,
              "#fdca26"
             ],
             [
              1,
              "#f0f921"
             ]
            ],
            "type": "histogram2d"
           }
          ],
          "histogram2dcontour": [
           {
            "colorbar": {
             "outlinewidth": 0,
             "ticks": ""
            },
            "colorscale": [
             [
              0,
              "#0d0887"
             ],
             [
              0.1111111111111111,
              "#46039f"
             ],
             [
              0.2222222222222222,
              "#7201a8"
             ],
             [
              0.3333333333333333,
              "#9c179e"
             ],
             [
              0.4444444444444444,
              "#bd3786"
             ],
             [
              0.5555555555555556,
              "#d8576b"
             ],
             [
              0.6666666666666666,
              "#ed7953"
             ],
             [
              0.7777777777777778,
              "#fb9f3a"
             ],
             [
              0.8888888888888888,
              "#fdca26"
             ],
             [
              1,
              "#f0f921"
             ]
            ],
            "type": "histogram2dcontour"
           }
          ],
          "mesh3d": [
           {
            "colorbar": {
             "outlinewidth": 0,
             "ticks": ""
            },
            "type": "mesh3d"
           }
          ],
          "parcoords": [
           {
            "line": {
             "colorbar": {
              "outlinewidth": 0,
              "ticks": ""
             }
            },
            "type": "parcoords"
           }
          ],
          "pie": [
           {
            "automargin": true,
            "type": "pie"
           }
          ],
          "scatter": [
           {
            "marker": {
             "line": {
              "color": "#283442"
             }
            },
            "type": "scatter"
           }
          ],
          "scatter3d": [
           {
            "line": {
             "colorbar": {
              "outlinewidth": 0,
              "ticks": ""
             }
            },
            "marker": {
             "colorbar": {
              "outlinewidth": 0,
              "ticks": ""
             }
            },
            "type": "scatter3d"
           }
          ],
          "scattercarpet": [
           {
            "marker": {
             "colorbar": {
              "outlinewidth": 0,
              "ticks": ""
             }
            },
            "type": "scattercarpet"
           }
          ],
          "scattergeo": [
           {
            "marker": {
             "colorbar": {
              "outlinewidth": 0,
              "ticks": ""
             }
            },
            "type": "scattergeo"
           }
          ],
          "scattergl": [
           {
            "marker": {
             "line": {
              "color": "#283442"
             }
            },
            "type": "scattergl"
           }
          ],
          "scattermapbox": [
           {
            "marker": {
             "colorbar": {
              "outlinewidth": 0,
              "ticks": ""
             }
            },
            "type": "scattermapbox"
           }
          ],
          "scatterpolar": [
           {
            "marker": {
             "colorbar": {
              "outlinewidth": 0,
              "ticks": ""
             }
            },
            "type": "scatterpolar"
           }
          ],
          "scatterpolargl": [
           {
            "marker": {
             "colorbar": {
              "outlinewidth": 0,
              "ticks": ""
             }
            },
            "type": "scatterpolargl"
           }
          ],
          "scatterternary": [
           {
            "marker": {
             "colorbar": {
              "outlinewidth": 0,
              "ticks": ""
             }
            },
            "type": "scatterternary"
           }
          ],
          "surface": [
           {
            "colorbar": {
             "outlinewidth": 0,
             "ticks": ""
            },
            "colorscale": [
             [
              0,
              "#0d0887"
             ],
             [
              0.1111111111111111,
              "#46039f"
             ],
             [
              0.2222222222222222,
              "#7201a8"
             ],
             [
              0.3333333333333333,
              "#9c179e"
             ],
             [
              0.4444444444444444,
              "#bd3786"
             ],
             [
              0.5555555555555556,
              "#d8576b"
             ],
             [
              0.6666666666666666,
              "#ed7953"
             ],
             [
              0.7777777777777778,
              "#fb9f3a"
             ],
             [
              0.8888888888888888,
              "#fdca26"
             ],
             [
              1,
              "#f0f921"
             ]
            ],
            "type": "surface"
           }
          ],
          "table": [
           {
            "cells": {
             "fill": {
              "color": "#506784"
             },
             "line": {
              "color": "rgb(17,17,17)"
             }
            },
            "header": {
             "fill": {
              "color": "#2a3f5f"
             },
             "line": {
              "color": "rgb(17,17,17)"
             }
            },
            "type": "table"
           }
          ]
         },
         "layout": {
          "annotationdefaults": {
           "arrowcolor": "#f2f5fa",
           "arrowhead": 0,
           "arrowwidth": 1
          },
          "autotypenumbers": "strict",
          "coloraxis": {
           "colorbar": {
            "outlinewidth": 0,
            "ticks": ""
           }
          },
          "colorscale": {
           "diverging": [
            [
             0,
             "#8e0152"
            ],
            [
             0.1,
             "#c51b7d"
            ],
            [
             0.2,
             "#de77ae"
            ],
            [
             0.3,
             "#f1b6da"
            ],
            [
             0.4,
             "#fde0ef"
            ],
            [
             0.5,
             "#f7f7f7"
            ],
            [
             0.6,
             "#e6f5d0"
            ],
            [
             0.7,
             "#b8e186"
            ],
            [
             0.8,
             "#7fbc41"
            ],
            [
             0.9,
             "#4d9221"
            ],
            [
             1,
             "#276419"
            ]
           ],
           "sequential": [
            [
             0,
             "#0d0887"
            ],
            [
             0.1111111111111111,
             "#46039f"
            ],
            [
             0.2222222222222222,
             "#7201a8"
            ],
            [
             0.3333333333333333,
             "#9c179e"
            ],
            [
             0.4444444444444444,
             "#bd3786"
            ],
            [
             0.5555555555555556,
             "#d8576b"
            ],
            [
             0.6666666666666666,
             "#ed7953"
            ],
            [
             0.7777777777777778,
             "#fb9f3a"
            ],
            [
             0.8888888888888888,
             "#fdca26"
            ],
            [
             1,
             "#f0f921"
            ]
           ],
           "sequentialminus": [
            [
             0,
             "#0d0887"
            ],
            [
             0.1111111111111111,
             "#46039f"
            ],
            [
             0.2222222222222222,
             "#7201a8"
            ],
            [
             0.3333333333333333,
             "#9c179e"
            ],
            [
             0.4444444444444444,
             "#bd3786"
            ],
            [
             0.5555555555555556,
             "#d8576b"
            ],
            [
             0.6666666666666666,
             "#ed7953"
            ],
            [
             0.7777777777777778,
             "#fb9f3a"
            ],
            [
             0.8888888888888888,
             "#fdca26"
            ],
            [
             1,
             "#f0f921"
            ]
           ]
          },
          "colorway": [
           "#636efa",
           "#EF553B",
           "#00cc96",
           "#ab63fa",
           "#FFA15A",
           "#19d3f3",
           "#FF6692",
           "#B6E880",
           "#FF97FF",
           "#FECB52"
          ],
          "font": {
           "color": "#f2f5fa"
          },
          "geo": {
           "bgcolor": "rgb(17,17,17)",
           "lakecolor": "rgb(17,17,17)",
           "landcolor": "rgb(17,17,17)",
           "showlakes": true,
           "showland": true,
           "subunitcolor": "#506784"
          },
          "hoverlabel": {
           "align": "left"
          },
          "hovermode": "closest",
          "mapbox": {
           "style": "dark"
          },
          "paper_bgcolor": "rgb(17,17,17)",
          "plot_bgcolor": "rgb(17,17,17)",
          "polar": {
           "angularaxis": {
            "gridcolor": "#506784",
            "linecolor": "#506784",
            "ticks": ""
           },
           "bgcolor": "rgb(17,17,17)",
           "radialaxis": {
            "gridcolor": "#506784",
            "linecolor": "#506784",
            "ticks": ""
           }
          },
          "scene": {
           "xaxis": {
            "backgroundcolor": "rgb(17,17,17)",
            "gridcolor": "#506784",
            "gridwidth": 2,
            "linecolor": "#506784",
            "showbackground": true,
            "ticks": "",
            "zerolinecolor": "#C8D4E3"
           },
           "yaxis": {
            "backgroundcolor": "rgb(17,17,17)",
            "gridcolor": "#506784",
            "gridwidth": 2,
            "linecolor": "#506784",
            "showbackground": true,
            "ticks": "",
            "zerolinecolor": "#C8D4E3"
           },
           "zaxis": {
            "backgroundcolor": "rgb(17,17,17)",
            "gridcolor": "#506784",
            "gridwidth": 2,
            "linecolor": "#506784",
            "showbackground": true,
            "ticks": "",
            "zerolinecolor": "#C8D4E3"
           }
          },
          "shapedefaults": {
           "line": {
            "color": "#f2f5fa"
           }
          },
          "sliderdefaults": {
           "bgcolor": "#C8D4E3",
           "bordercolor": "rgb(17,17,17)",
           "borderwidth": 1,
           "tickwidth": 0
          },
          "ternary": {
           "aaxis": {
            "gridcolor": "#506784",
            "linecolor": "#506784",
            "ticks": ""
           },
           "baxis": {
            "gridcolor": "#506784",
            "linecolor": "#506784",
            "ticks": ""
           },
           "bgcolor": "rgb(17,17,17)",
           "caxis": {
            "gridcolor": "#506784",
            "linecolor": "#506784",
            "ticks": ""
           }
          },
          "title": {
           "x": 0.05
          },
          "updatemenudefaults": {
           "bgcolor": "#506784",
           "borderwidth": 0
          },
          "xaxis": {
           "automargin": true,
           "gridcolor": "#283442",
           "linecolor": "#506784",
           "ticks": "",
           "title": {
            "standoff": 15
           },
           "zerolinecolor": "#283442",
           "zerolinewidth": 2
          },
          "yaxis": {
           "automargin": true,
           "gridcolor": "#283442",
           "linecolor": "#506784",
           "ticks": "",
           "title": {
            "standoff": 15
           },
           "zerolinecolor": "#283442",
           "zerolinewidth": 2
          }
         }
        },
        "width": 1200,
        "xaxis": {
         "anchor": "y",
         "domain": [
          0,
          1
         ],
         "range": [
          -100,
          900
         ],
         "title": {
          "text": "Course index"
         }
        },
        "yaxis": {
         "anchor": "x",
         "domain": [
          0,
          1
         ],
         "ticklabelposition": "outside left",
         "title": {
          "text": "Course students enrolled"
         }
        }
       }
      }
     },
     "metadata": {},
     "output_type": "display_data"
    }
   ],
   "source": [
    "columns_to_keep = ~lim.all()\n",
    "\n",
    "to_plot = data[num_cols].loc[:, columns_to_keep]\n",
    "        \n",
    "for feature in to_plot:\n",
    "    fig = scatter_plotly(dataframe=to_plot, x= to_plot.index, y = feature, outlier=outlier_df, feature=feature)\n",
    "    #manual modifications based on the features' nature\n",
    "    if feature == 'course_rating':\n",
    "        fig.add_hline(y=5.0, line_color ='violet', line_width =2, line_dash= 'dot', annotation_text = 'Max valid value: 5', annotation_position = 'right')\n",
    "        fig.show()\n",
    "    elif feature == 'course_students_enrolled':\n",
    "        fig.update_layout(coloraxis_colorscale = 'Tropic')\n",
    "        fig.add_hline(y=0.0, line_color ='violet', line_width =2, line_dash= 'dot', annotation_text = 'Min valid value: 0', annotation_position = 'right')    \n",
    "        fig.show()\n"
   ]
  },
  {
   "cell_type": "markdown",
   "metadata": {},
   "source": [
    "The outliers here can all be further examined to find the reason for their relative extremity.\n",
    "\n",
    "It could also be an explanation, that the data set is relatively small, and in case of a larger data set they might not even be outliers."
   ]
  },
  {
   "cell_type": "markdown",
   "metadata": {},
   "source": [
    "---\n",
    "\n",
    "The following records are outliers in one of their features. \n",
    "\n",
    "I will try to find the reason for the extreme values. "
   ]
  },
  {
   "cell_type": "markdown",
   "metadata": {},
   "source": [
    "Displaying the records with outlier values in the feature 'course_rating' in an ascending order."
   ]
  },
  {
   "cell_type": "code",
   "execution_count": 24,
   "metadata": {},
   "outputs": [
    {
     "data": {
      "text/html": [
       "<div>\n",
       "<style scoped>\n",
       "    .dataframe tbody tr th:only-of-type {\n",
       "        vertical-align: middle;\n",
       "    }\n",
       "\n",
       "    .dataframe tbody tr th {\n",
       "        vertical-align: top;\n",
       "    }\n",
       "\n",
       "    .dataframe thead th {\n",
       "        text-align: right;\n",
       "    }\n",
       "</style>\n",
       "<table border=\"1\" class=\"dataframe\">\n",
       "  <thead>\n",
       "    <tr style=\"text-align: right;\">\n",
       "      <th></th>\n",
       "      <th>course_title</th>\n",
       "      <th>course_organization</th>\n",
       "      <th>course_Certificate_type</th>\n",
       "      <th>course_rating</th>\n",
       "      <th>course_difficulty</th>\n",
       "      <th>course_students_enrolled</th>\n",
       "      <th>language</th>\n",
       "    </tr>\n",
       "  </thead>\n",
       "  <tbody>\n",
       "    <tr>\n",
       "      <th>767</th>\n",
       "      <td>How To Create a Website in a Weekend! (Project...</td>\n",
       "      <td>The State University of New York</td>\n",
       "      <td>COURSE</td>\n",
       "      <td>3.3</td>\n",
       "      <td>Mixed</td>\n",
       "      <td>140000</td>\n",
       "      <td>en</td>\n",
       "    </tr>\n",
       "    <tr>\n",
       "      <th>352</th>\n",
       "      <td>Machine Learning and Reinforcement Learning in...</td>\n",
       "      <td>New York University</td>\n",
       "      <td>SPECIALIZATION</td>\n",
       "      <td>3.7</td>\n",
       "      <td>Intermediate</td>\n",
       "      <td>29000</td>\n",
       "      <td>en</td>\n",
       "    </tr>\n",
       "    <tr>\n",
       "      <th>178</th>\n",
       "      <td>Machine Learning for Trading</td>\n",
       "      <td>Google Cloud</td>\n",
       "      <td>SPECIALIZATION</td>\n",
       "      <td>3.9</td>\n",
       "      <td>Intermediate</td>\n",
       "      <td>15000</td>\n",
       "      <td>en</td>\n",
       "    </tr>\n",
       "    <tr>\n",
       "      <th>779</th>\n",
       "      <td>iOS App Development with Swift</td>\n",
       "      <td>University of Toronto</td>\n",
       "      <td>SPECIALIZATION</td>\n",
       "      <td>3.9</td>\n",
       "      <td>Intermediate</td>\n",
       "      <td>76000</td>\n",
       "      <td>en</td>\n",
       "    </tr>\n",
       "    <tr>\n",
       "      <th>659</th>\n",
       "      <td>Introduction to Trading, Machine Learning &amp; GCP</td>\n",
       "      <td>New York Institute of Finance</td>\n",
       "      <td>COURSE</td>\n",
       "      <td>4.0</td>\n",
       "      <td>Intermediate</td>\n",
       "      <td>13000</td>\n",
       "      <td>en</td>\n",
       "    </tr>\n",
       "    <tr>\n",
       "      <th>873</th>\n",
       "      <td>Mathematics for Machine Learning: PCA</td>\n",
       "      <td>Imperial College London</td>\n",
       "      <td>COURSE</td>\n",
       "      <td>4.0</td>\n",
       "      <td>Intermediate</td>\n",
       "      <td>33000</td>\n",
       "      <td>en</td>\n",
       "    </tr>\n",
       "    <tr>\n",
       "      <th>609</th>\n",
       "      <td>How to Start Your Own Business</td>\n",
       "      <td>Michigan State University</td>\n",
       "      <td>SPECIALIZATION</td>\n",
       "      <td>4.1</td>\n",
       "      <td>Beginner</td>\n",
       "      <td>34000</td>\n",
       "      <td>en</td>\n",
       "    </tr>\n",
       "  </tbody>\n",
       "</table>\n",
       "</div>"
      ],
      "text/plain": [
       "                                          course_title  \\\n",
       "767  How To Create a Website in a Weekend! (Project...   \n",
       "352  Machine Learning and Reinforcement Learning in...   \n",
       "178                       Machine Learning for Trading   \n",
       "779                     iOS App Development with Swift   \n",
       "659    Introduction to Trading, Machine Learning & GCP   \n",
       "873              Mathematics for Machine Learning: PCA   \n",
       "609                     How to Start Your Own Business   \n",
       "\n",
       "                  course_organization course_Certificate_type  course_rating  \\\n",
       "767  The State University of New York                  COURSE            3.3   \n",
       "352               New York University          SPECIALIZATION            3.7   \n",
       "178                      Google Cloud          SPECIALIZATION            3.9   \n",
       "779             University of Toronto          SPECIALIZATION            3.9   \n",
       "659     New York Institute of Finance                  COURSE            4.0   \n",
       "873           Imperial College London                  COURSE            4.0   \n",
       "609         Michigan State University          SPECIALIZATION            4.1   \n",
       "\n",
       "    course_difficulty  course_students_enrolled language  \n",
       "767             Mixed                    140000       en  \n",
       "352      Intermediate                     29000       en  \n",
       "178      Intermediate                     15000       en  \n",
       "779      Intermediate                     76000       en  \n",
       "659      Intermediate                     13000       en  \n",
       "873      Intermediate                     33000       en  \n",
       "609          Beginner                     34000       en  "
      ]
     },
     "execution_count": 24,
     "metadata": {},
     "output_type": "execute_result"
    }
   ],
   "source": [
    "data.iloc[outlier_df[outlier_df.index == 'course_rating'].at_index].sort_values(by='course_rating')"
   ]
  },
  {
   "cell_type": "markdown",
   "metadata": {},
   "source": [
    "The following courses have a rating below 4.0, their organizers might be open to feedback to increase their user ratings."
   ]
  },
  {
   "cell_type": "code",
   "execution_count": 25,
   "metadata": {},
   "outputs": [
    {
     "data": {
      "text/markdown": [
       ">**TO DO:**\n",
       ">\n",
       ">Reach out to:\n",
       ">- Google Cloud\n",
       ">- New York University\n",
       ">- The State University of New York\n",
       ">- University of Toronto \n",
       ">\n",
       "> to offer an analysis-based plan to increase user ratings."
      ],
      "text/plain": [
       "<IPython.core.display.Markdown object>"
      ]
     },
     "execution_count": 25,
     "metadata": {},
     "output_type": "execute_result"
    }
   ],
   "source": [
    "data[data.course_rating<4].sort_values(by = 'course_rating')\n",
    "poorly_rated_orgs = '\\n>- '.join(data[data.course_rating<4].course_organization.values)\n",
    "md('>**TO DO:**\\n>\\n>Reach out to:\\n>- {} \\n>\\n> to offer an analysis-based plan to increase user ratings.'.format(poorly_rated_orgs))"
   ]
  },
  {
   "cell_type": "markdown",
   "metadata": {},
   "source": [
    "Displaying the records with outlier values in the feature 'course_students_enrolled' in a descending order."
   ]
  },
  {
   "cell_type": "code",
   "execution_count": 26,
   "metadata": {},
   "outputs": [
    {
     "data": {
      "text/html": [
       "<div>\n",
       "<style scoped>\n",
       "    .dataframe tbody tr th:only-of-type {\n",
       "        vertical-align: middle;\n",
       "    }\n",
       "\n",
       "    .dataframe tbody tr th {\n",
       "        vertical-align: top;\n",
       "    }\n",
       "\n",
       "    .dataframe thead th {\n",
       "        text-align: right;\n",
       "    }\n",
       "</style>\n",
       "<table border=\"1\" class=\"dataframe\">\n",
       "  <thead>\n",
       "    <tr style=\"text-align: right;\">\n",
       "      <th></th>\n",
       "      <th>course_title</th>\n",
       "      <th>course_organization</th>\n",
       "      <th>course_Certificate_type</th>\n",
       "      <th>course_rating</th>\n",
       "      <th>course_difficulty</th>\n",
       "      <th>course_students_enrolled</th>\n",
       "      <th>language</th>\n",
       "    </tr>\n",
       "  </thead>\n",
       "  <tbody>\n",
       "    <tr>\n",
       "      <th>6</th>\n",
       "      <td>Machine Learning</td>\n",
       "      <td>Stanford University</td>\n",
       "      <td>COURSE</td>\n",
       "      <td>4.9</td>\n",
       "      <td>Mixed</td>\n",
       "      <td>3200000</td>\n",
       "      <td>en</td>\n",
       "    </tr>\n",
       "    <tr>\n",
       "      <th>2</th>\n",
       "      <td>The Science of Well-Being</td>\n",
       "      <td>Yale University</td>\n",
       "      <td>COURSE</td>\n",
       "      <td>4.9</td>\n",
       "      <td>Mixed</td>\n",
       "      <td>2500000</td>\n",
       "      <td>en</td>\n",
       "    </tr>\n",
       "    <tr>\n",
       "      <th>3</th>\n",
       "      <td>Python for Everybody</td>\n",
       "      <td>University of Michigan</td>\n",
       "      <td>SPECIALIZATION</td>\n",
       "      <td>4.8</td>\n",
       "      <td>Beginner</td>\n",
       "      <td>1500000</td>\n",
       "      <td>en</td>\n",
       "    </tr>\n",
       "    <tr>\n",
       "      <th>47</th>\n",
       "      <td>Programming for Everybody (Getting Started wit...</td>\n",
       "      <td>University of Michigan</td>\n",
       "      <td>COURSE</td>\n",
       "      <td>4.8</td>\n",
       "      <td>Mixed</td>\n",
       "      <td>1300000</td>\n",
       "      <td>en</td>\n",
       "    </tr>\n",
       "    <tr>\n",
       "      <th>13</th>\n",
       "      <td>Data Science</td>\n",
       "      <td>Johns Hopkins University</td>\n",
       "      <td>SPECIALIZATION</td>\n",
       "      <td>4.5</td>\n",
       "      <td>Beginner</td>\n",
       "      <td>830000</td>\n",
       "      <td>en</td>\n",
       "    </tr>\n",
       "    <tr>\n",
       "      <th>44</th>\n",
       "      <td>Career Success</td>\n",
       "      <td>University of California, Irvine</td>\n",
       "      <td>SPECIALIZATION</td>\n",
       "      <td>4.4</td>\n",
       "      <td>Beginner</td>\n",
       "      <td>790000</td>\n",
       "      <td>en</td>\n",
       "    </tr>\n",
       "    <tr>\n",
       "      <th>175</th>\n",
       "      <td>English for Career Development</td>\n",
       "      <td>University of Pennsylvania</td>\n",
       "      <td>COURSE</td>\n",
       "      <td>4.8</td>\n",
       "      <td>Mixed</td>\n",
       "      <td>760000</td>\n",
       "      <td>en</td>\n",
       "    </tr>\n",
       "    <tr>\n",
       "      <th>40</th>\n",
       "      <td>Successful Negotiation: Essential Strategies a...</td>\n",
       "      <td>University of Michigan</td>\n",
       "      <td>COURSE</td>\n",
       "      <td>4.8</td>\n",
       "      <td>Mixed</td>\n",
       "      <td>750000</td>\n",
       "      <td>en</td>\n",
       "    </tr>\n",
       "    <tr>\n",
       "      <th>15</th>\n",
       "      <td>Data Science: Foundations using R</td>\n",
       "      <td>Johns Hopkins University</td>\n",
       "      <td>SPECIALIZATION</td>\n",
       "      <td>4.6</td>\n",
       "      <td>Beginner</td>\n",
       "      <td>740000</td>\n",
       "      <td>en</td>\n",
       "    </tr>\n",
       "    <tr>\n",
       "      <th>5</th>\n",
       "      <td>Deep Learning</td>\n",
       "      <td>deeplearning.ai</td>\n",
       "      <td>SPECIALIZATION</td>\n",
       "      <td>4.8</td>\n",
       "      <td>Intermediate</td>\n",
       "      <td>690000</td>\n",
       "      <td>en</td>\n",
       "    </tr>\n",
       "  </tbody>\n",
       "</table>\n",
       "</div>"
      ],
      "text/plain": [
       "                                          course_title  \\\n",
       "6                                     Machine Learning   \n",
       "2                            The Science of Well-Being   \n",
       "3                                 Python for Everybody   \n",
       "47   Programming for Everybody (Getting Started wit...   \n",
       "13                                        Data Science   \n",
       "44                                      Career Success   \n",
       "175                     English for Career Development   \n",
       "40   Successful Negotiation: Essential Strategies a...   \n",
       "15                   Data Science: Foundations using R   \n",
       "5                                        Deep Learning   \n",
       "\n",
       "                  course_organization course_Certificate_type  course_rating  \\\n",
       "6                 Stanford University                  COURSE            4.9   \n",
       "2                     Yale University                  COURSE            4.9   \n",
       "3              University of Michigan          SPECIALIZATION            4.8   \n",
       "47             University of Michigan                  COURSE            4.8   \n",
       "13           Johns Hopkins University          SPECIALIZATION            4.5   \n",
       "44   University of California, Irvine          SPECIALIZATION            4.4   \n",
       "175        University of Pennsylvania                  COURSE            4.8   \n",
       "40             University of Michigan                  COURSE            4.8   \n",
       "15           Johns Hopkins University          SPECIALIZATION            4.6   \n",
       "5                     deeplearning.ai          SPECIALIZATION            4.8   \n",
       "\n",
       "    course_difficulty  course_students_enrolled language  \n",
       "6               Mixed                   3200000       en  \n",
       "2               Mixed                   2500000       en  \n",
       "3            Beginner                   1500000       en  \n",
       "47              Mixed                   1300000       en  \n",
       "13           Beginner                    830000       en  \n",
       "44           Beginner                    790000       en  \n",
       "175             Mixed                    760000       en  \n",
       "40              Mixed                    750000       en  \n",
       "15           Beginner                    740000       en  \n",
       "5        Intermediate                    690000       en  "
      ]
     },
     "execution_count": 26,
     "metadata": {},
     "output_type": "execute_result"
    }
   ],
   "source": [
    "data.iloc[outlier_df[outlier_df.index == 'course_students_enrolled'].at_index].sort_values(by='course_students_enrolled', ascending = False)"
   ]
  },
  {
   "cell_type": "markdown",
   "metadata": {},
   "source": [
    "The following courses have students enrolled above 1m, so further data collection and anaylisis can provide insights on how to enroll the most students.\n",
    "\n",
    "Also, by looking at the titles we can see that various fields of IT is are the *hot topic* on coursera. "
   ]
  },
  {
   "cell_type": "code",
   "execution_count": 27,
   "metadata": {},
   "outputs": [
    {
     "data": {
      "text/html": [
       "<div>\n",
       "<style scoped>\n",
       "    .dataframe tbody tr th:only-of-type {\n",
       "        vertical-align: middle;\n",
       "    }\n",
       "\n",
       "    .dataframe tbody tr th {\n",
       "        vertical-align: top;\n",
       "    }\n",
       "\n",
       "    .dataframe thead th {\n",
       "        text-align: right;\n",
       "    }\n",
       "</style>\n",
       "<table border=\"1\" class=\"dataframe\">\n",
       "  <thead>\n",
       "    <tr style=\"text-align: right;\">\n",
       "      <th></th>\n",
       "      <th>course_title</th>\n",
       "      <th>course_organization</th>\n",
       "      <th>course_Certificate_type</th>\n",
       "      <th>course_rating</th>\n",
       "      <th>course_difficulty</th>\n",
       "      <th>course_students_enrolled</th>\n",
       "      <th>language</th>\n",
       "    </tr>\n",
       "  </thead>\n",
       "  <tbody>\n",
       "    <tr>\n",
       "      <th>6</th>\n",
       "      <td>Machine Learning</td>\n",
       "      <td>Stanford University</td>\n",
       "      <td>COURSE</td>\n",
       "      <td>4.9</td>\n",
       "      <td>Mixed</td>\n",
       "      <td>3200000</td>\n",
       "      <td>en</td>\n",
       "    </tr>\n",
       "    <tr>\n",
       "      <th>2</th>\n",
       "      <td>The Science of Well-Being</td>\n",
       "      <td>Yale University</td>\n",
       "      <td>COURSE</td>\n",
       "      <td>4.9</td>\n",
       "      <td>Mixed</td>\n",
       "      <td>2500000</td>\n",
       "      <td>en</td>\n",
       "    </tr>\n",
       "    <tr>\n",
       "      <th>3</th>\n",
       "      <td>Python for Everybody</td>\n",
       "      <td>University of Michigan</td>\n",
       "      <td>SPECIALIZATION</td>\n",
       "      <td>4.8</td>\n",
       "      <td>Beginner</td>\n",
       "      <td>1500000</td>\n",
       "      <td>en</td>\n",
       "    </tr>\n",
       "    <tr>\n",
       "      <th>47</th>\n",
       "      <td>Programming for Everybody (Getting Started wit...</td>\n",
       "      <td>University of Michigan</td>\n",
       "      <td>COURSE</td>\n",
       "      <td>4.8</td>\n",
       "      <td>Mixed</td>\n",
       "      <td>1300000</td>\n",
       "      <td>en</td>\n",
       "    </tr>\n",
       "  </tbody>\n",
       "</table>\n",
       "</div>"
      ],
      "text/plain": [
       "                                         course_title     course_organization  \\\n",
       "6                                    Machine Learning     Stanford University   \n",
       "2                           The Science of Well-Being         Yale University   \n",
       "3                                Python for Everybody  University of Michigan   \n",
       "47  Programming for Everybody (Getting Started wit...  University of Michigan   \n",
       "\n",
       "   course_Certificate_type  course_rating course_difficulty  \\\n",
       "6                   COURSE            4.9             Mixed   \n",
       "2                   COURSE            4.9             Mixed   \n",
       "3           SPECIALIZATION            4.8          Beginner   \n",
       "47                  COURSE            4.8             Mixed   \n",
       "\n",
       "    course_students_enrolled language  \n",
       "6                    3200000       en  \n",
       "2                    2500000       en  \n",
       "3                    1500000       en  \n",
       "47                   1300000       en  "
      ]
     },
     "execution_count": 27,
     "metadata": {},
     "output_type": "execute_result"
    }
   ],
   "source": [
    "data[data.course_students_enrolled>1000000].sort_values(by = 'course_students_enrolled', ascending=False)\n"
   ]
  },
  {
   "cell_type": "code",
   "execution_count": 28,
   "metadata": {},
   "outputs": [
    {
     "data": {
      "text/markdown": [
       ">**TO DO:**\n",
       ">\n",
       ">Collect more data on:\n",
       ">\n",
       ">- #2 The Science of Well-Being\n",
       ">- #3 Python for Everybody\n",
       ">- #6 Machine Learning\n",
       ">- #47 Programming for Everybody (Getting Started with Python)"
      ],
      "text/plain": [
       "<IPython.core.display.Markdown object>"
      ]
     },
     "execution_count": 28,
     "metadata": {},
     "output_type": "execute_result"
    }
   ],
   "source": [
    "top_enrollment_courses = '\\n'.join(\n",
    "    f\">- #{index} {title}\"\n",
    "    for index, title in data[data.course_students_enrolled > 1000000]['course_title'].items()\n",
    ")\n",
    "md('>**TO DO:**\\n>\\n>Collect more data on:\\n>\\n{}'.format(top_enrollment_courses))"
   ]
  },
  {
   "cell_type": "markdown",
   "metadata": {},
   "source": [
    "There is an option to create a correlation heatmap to check if there is a correlation between the number of enrolled students and the rating, but in this case with a single relevant value, a single output should be more practical.\n",
    "\n",
    "> Statistical correlation measures the strength and direction of the relationship between two variables."
   ]
  },
  {
   "cell_type": "code",
   "execution_count": 29,
   "metadata": {},
   "outputs": [
    {
     "name": "stdout",
     "output_type": "stream",
     "text": [
      "The correlation coefficient between the number of enrolled students and the ratings: 0.07, which is statistically insignificant.\n"
     ]
    }
   ],
   "source": [
    "num_corr_mtx = data.loc[:, ['course_rating', 'course_students_enrolled']].corr()\n",
    "\n",
    "#correl_heat_map(num_corr_mtx)\n",
    "\n",
    "print(f'The correlation coefficient between the number of enrolled students and the ratings: {num_corr_mtx.iloc[0,1]:.2f}, which is statistically insignificant.' )\n"
   ]
  },
  {
   "cell_type": "markdown",
   "metadata": {},
   "source": [
    "Aggregating the numerical values based on institution."
   ]
  },
  {
   "cell_type": "code",
   "execution_count": 30,
   "metadata": {},
   "outputs": [
    {
     "data": {
      "text/html": [
       "<div>\n",
       "<style scoped>\n",
       "    .dataframe tbody tr th:only-of-type {\n",
       "        vertical-align: middle;\n",
       "    }\n",
       "\n",
       "    .dataframe tbody tr th {\n",
       "        vertical-align: top;\n",
       "    }\n",
       "\n",
       "    .dataframe thead th {\n",
       "        text-align: right;\n",
       "    }\n",
       "</style>\n",
       "<table border=\"1\" class=\"dataframe\">\n",
       "  <thead>\n",
       "    <tr style=\"text-align: right;\">\n",
       "      <th></th>\n",
       "      <th>count</th>\n",
       "      <th>mean</th>\n",
       "      <th>std</th>\n",
       "      <th>min</th>\n",
       "      <th>25%</th>\n",
       "      <th>50%</th>\n",
       "      <th>75%</th>\n",
       "      <th>max</th>\n",
       "    </tr>\n",
       "    <tr>\n",
       "      <th>course_organization</th>\n",
       "      <th></th>\n",
       "      <th></th>\n",
       "      <th></th>\n",
       "      <th></th>\n",
       "      <th></th>\n",
       "      <th></th>\n",
       "      <th></th>\n",
       "      <th></th>\n",
       "    </tr>\n",
       "  </thead>\n",
       "  <tbody>\n",
       "    <tr>\n",
       "      <th>University of Pennsylvania</th>\n",
       "      <td>59.0</td>\n",
       "      <td>4.696610</td>\n",
       "      <td>0.137673</td>\n",
       "      <td>4.2</td>\n",
       "      <td>4.600</td>\n",
       "      <td>4.7</td>\n",
       "      <td>4.8</td>\n",
       "      <td>4.9</td>\n",
       "    </tr>\n",
       "    <tr>\n",
       "      <th>University of Michigan</th>\n",
       "      <td>41.0</td>\n",
       "      <td>4.729268</td>\n",
       "      <td>0.095509</td>\n",
       "      <td>4.5</td>\n",
       "      <td>4.700</td>\n",
       "      <td>4.8</td>\n",
       "      <td>4.8</td>\n",
       "      <td>4.9</td>\n",
       "    </tr>\n",
       "    <tr>\n",
       "      <th>Google Cloud</th>\n",
       "      <td>34.0</td>\n",
       "      <td>4.582353</td>\n",
       "      <td>0.162314</td>\n",
       "      <td>3.9</td>\n",
       "      <td>4.500</td>\n",
       "      <td>4.6</td>\n",
       "      <td>4.7</td>\n",
       "      <td>4.8</td>\n",
       "    </tr>\n",
       "    <tr>\n",
       "      <th>Duke University</th>\n",
       "      <td>28.0</td>\n",
       "      <td>4.664286</td>\n",
       "      <td>0.147106</td>\n",
       "      <td>4.2</td>\n",
       "      <td>4.600</td>\n",
       "      <td>4.7</td>\n",
       "      <td>4.8</td>\n",
       "      <td>4.9</td>\n",
       "    </tr>\n",
       "    <tr>\n",
       "      <th>Johns Hopkins University</th>\n",
       "      <td>28.0</td>\n",
       "      <td>4.660714</td>\n",
       "      <td>0.157149</td>\n",
       "      <td>4.3</td>\n",
       "      <td>4.575</td>\n",
       "      <td>4.7</td>\n",
       "      <td>4.8</td>\n",
       "      <td>4.9</td>\n",
       "    </tr>\n",
       "  </tbody>\n",
       "</table>\n",
       "</div>"
      ],
      "text/plain": [
       "                            count      mean       std  min    25%  50%  75%  \\\n",
       "course_organization                                                           \n",
       "University of Pennsylvania   59.0  4.696610  0.137673  4.2  4.600  4.7  4.8   \n",
       "University of Michigan       41.0  4.729268  0.095509  4.5  4.700  4.8  4.8   \n",
       "Google Cloud                 34.0  4.582353  0.162314  3.9  4.500  4.6  4.7   \n",
       "Duke University              28.0  4.664286  0.147106  4.2  4.600  4.7  4.8   \n",
       "Johns Hopkins University     28.0  4.660714  0.157149  4.3  4.575  4.7  4.8   \n",
       "\n",
       "                            max  \n",
       "course_organization              \n",
       "University of Pennsylvania  4.9  \n",
       "University of Michigan      4.9  \n",
       "Google Cloud                4.8  \n",
       "Duke University             4.9  \n",
       "Johns Hopkins University    4.9  "
      ]
     },
     "execution_count": 30,
     "metadata": {},
     "output_type": "execute_result"
    }
   ],
   "source": [
    "data.groupby('course_organization')['course_rating'].describe().sort_values(by = 'count', ascending = False).head()"
   ]
  },
  {
   "cell_type": "markdown",
   "metadata": {},
   "source": [
    "Aggregating the numerical values based on language."
   ]
  },
  {
   "cell_type": "code",
   "execution_count": 31,
   "metadata": {},
   "outputs": [
    {
     "data": {
      "text/plain": [
       "language\n",
       "bg       21000\n",
       "ca       65000\n",
       "da       58000\n",
       "de      223000\n",
       "en    75481700\n",
       "es     3175400\n",
       "fr      365100\n",
       "hu       46000\n",
       "it      200000\n",
       "nl       66000\n",
       "no       57000\n",
       "pt      278500\n",
       "ro       73400\n",
       "ru      571800\n",
       "Name: course_students_enrolled, dtype: int64"
      ]
     },
     "execution_count": 31,
     "metadata": {},
     "output_type": "execute_result"
    }
   ],
   "source": [
    "lang_students = data.groupby('language')['course_students_enrolled'].aggregate('sum')\n",
    "lang_students\n"
   ]
  },
  {
   "cell_type": "markdown",
   "metadata": {},
   "source": [
    "--- \n",
    "\n",
    "**Checking if there is a correlation between numerical and categorical features with ANOVA (Analysis of Variance).**\n",
    "\n",
    "In this case, we are testing if there is a difference between the average course ratings and the number of enrolled students between different organizations, types of certificates, and difficulty levels.\n",
    "\n",
    "> **The result of the ANOVA is: p-value and F-value**\n",
    ">\n",
    "> If the p-value is below 0.05, the difference between group means is considered statistically significant and unlikely to be due to chance.\n",
    ">\n",
    "> A higher F-value suggests a more significant difference between group means relative to the variability within groups."
   ]
  },
  {
   "cell_type": "markdown",
   "metadata": {},
   "source": [
    "*Does the average course rating differ significantly between different organizations (course_organization)?*\n",
    "\n",
    "-> Yes, as the p-value is lower than 0.05, the organization has a non-coincidental effect on the average course rating.\n"
   ]
  },
  {
   "cell_type": "code",
   "execution_count": 32,
   "metadata": {},
   "outputs": [
    {
     "data": {
      "application/vnd.plotly.v1+json": {
       "config": {
        "plotlyServerURL": "https://plot.ly"
       },
       "data": [
        {
         "alignmentgroup": "True",
         "hovertemplate": "Course Organization=%{x}<br>Course Rating=%{y}<extra></extra>",
         "legendgroup": "",
         "marker": {
          "color": "#636efa"
         },
         "name": "",
         "notched": false,
         "offsetgroup": "",
         "orientation": "v",
         "showlegend": false,
         "type": "box",
         "x": [
          "IBM",
          "IBM",
          "University of Michigan",
          "University of Pennsylvania",
          "IBM",
          "Google Cloud",
          "Google Cloud",
          "IBM",
          "Johns Hopkins University",
          "Johns Hopkins University",
          "University of Pennsylvania",
          "University of Pennsylvania",
          "Google Cloud",
          "Google Cloud",
          "Google Cloud",
          "Johns Hopkins University",
          "Google Cloud",
          "University of Pennsylvania",
          "Google Cloud",
          "University of Michigan",
          "University of Illinois at Urbana-Champaign",
          "University of California, Irvine",
          "University of California, Irvine",
          "University of Pennsylvania",
          "University of Pennsylvania",
          "IBM",
          "Johns Hopkins University",
          "Duke University",
          "University of Michigan",
          "University of Michigan",
          "University of California, Irvine",
          "Duke University",
          "University of Michigan",
          "University of Pennsylvania",
          "IBM",
          "Johns Hopkins University",
          "University of Michigan",
          "University of California, Irvine",
          "University of Pennsylvania",
          "University of Pennsylvania",
          "University of California, Davis",
          "University of Pennsylvania",
          "University of California, Davis",
          "Johns Hopkins University",
          "University of California, Davis",
          "Duke University",
          "Duke University",
          "IBM",
          "University of Illinois at Urbana-Champaign",
          "IBM",
          "University of Michigan",
          "University of Michigan",
          "University of California, Davis",
          "Google Cloud",
          "University of Michigan",
          "University of Michigan",
          "University of Pennsylvania",
          "Google Cloud",
          "University of Pennsylvania",
          "University of Michigan",
          "Johns Hopkins University",
          "University of Pennsylvania",
          "Johns Hopkins University",
          "University of California, Davis",
          "Johns Hopkins University",
          "University of Illinois at Urbana-Champaign",
          "IBM",
          "Johns Hopkins University",
          "University of Illinois at Urbana-Champaign",
          "University of California, Irvine",
          "IBM",
          "University of California, Irvine",
          "IBM",
          "University of Pennsylvania",
          "University of Pennsylvania",
          "University of California, Irvine",
          "University of California, Irvine",
          "University of Pennsylvania",
          "Google Cloud",
          "University of Michigan",
          "University of Pennsylvania",
          "University of Michigan",
          "Duke University",
          "Johns Hopkins University",
          "IBM",
          "University of Michigan",
          "Google Cloud",
          "University of Pennsylvania",
          "University of California, Irvine",
          "University of California, Davis",
          "Duke University",
          "University of Pennsylvania",
          "University of Pennsylvania",
          "Google Cloud",
          "University of California, Davis",
          "University of Pennsylvania",
          "Johns Hopkins University",
          "Johns Hopkins University",
          "University of Illinois at Urbana-Champaign",
          "University of Pennsylvania",
          "University of Pennsylvania",
          "Johns Hopkins University",
          "University of Pennsylvania",
          "University of Illinois at Urbana-Champaign",
          "IBM",
          "Google Cloud",
          "University of Pennsylvania",
          "Duke University",
          "Duke University",
          "University of California, Irvine",
          "University of California, Irvine",
          "University of California, Davis",
          "IBM",
          "University of Michigan",
          "University of California, Irvine",
          "University of Pennsylvania",
          "Duke University",
          "University of Illinois at Urbana-Champaign",
          "University of California, Irvine",
          "University of Pennsylvania",
          "Google Cloud",
          "University of Michigan",
          "Johns Hopkins University",
          "University of Illinois at Urbana-Champaign",
          "University of Illinois at Urbana-Champaign",
          "Johns Hopkins University",
          "University of Pennsylvania",
          "Johns Hopkins University",
          "IBM",
          "Duke University",
          "Google Cloud",
          "Johns Hopkins University",
          "University of California, Davis",
          "University of Pennsylvania",
          "University of Michigan",
          "Google Cloud",
          "University of Pennsylvania",
          "University of Michigan",
          "University of Illinois at Urbana-Champaign",
          "Google Cloud",
          "University of Illinois at Urbana-Champaign",
          "University of Michigan",
          "University of Michigan",
          "University of Michigan",
          "University of Illinois at Urbana-Champaign",
          "University of Pennsylvania",
          "Duke University",
          "University of California, Davis",
          "University of Pennsylvania",
          "University of California, Davis",
          "University of California, Irvine",
          "University of California, Davis",
          "Duke University",
          "University of California, Irvine",
          "University of Pennsylvania",
          "University of Pennsylvania",
          "Duke University",
          "IBM",
          "University of Illinois at Urbana-Champaign",
          "Google Cloud",
          "IBM",
          "Google Cloud",
          "University of California, Davis",
          "IBM",
          "University of Illinois at Urbana-Champaign",
          "Google Cloud",
          "University of California, Irvine",
          "University of Pennsylvania",
          "Johns Hopkins University",
          "Duke University",
          "University of Michigan",
          "University of California, Davis",
          "Google Cloud",
          "University of Pennsylvania",
          "Johns Hopkins University",
          "University of Pennsylvania",
          "University of Michigan",
          "University of Pennsylvania",
          "University of Michigan",
          "IBM",
          "Duke University",
          "Google Cloud",
          "University of Pennsylvania",
          "University of California, Irvine",
          "University of Illinois at Urbana-Champaign",
          "University of Michigan",
          "University of Pennsylvania",
          "Duke University",
          "University of California, Davis",
          "University of Michigan",
          "University of Michigan",
          "University of Illinois at Urbana-Champaign",
          "Duke University",
          "University of California, Davis",
          "Google Cloud",
          "University of California, Irvine",
          "Duke University",
          "University of Pennsylvania",
          "University of California, Irvine",
          "University of Michigan",
          "University of Pennsylvania",
          "Duke University",
          "University of Michigan",
          "University of California, Irvine",
          "University of Pennsylvania",
          "Johns Hopkins University",
          "Google Cloud",
          "IBM",
          "Google Cloud",
          "Google Cloud",
          "University of Pennsylvania",
          "Duke University",
          "Duke University",
          "Johns Hopkins University",
          "IBM",
          "University of Pennsylvania",
          "University of Pennsylvania",
          "University of Pennsylvania",
          "University of California, Irvine",
          "Google Cloud",
          "Duke University",
          "University of California, Davis",
          "University of California, Davis",
          "University of Michigan",
          "IBM",
          "Google Cloud",
          "University of Pennsylvania",
          "Johns Hopkins University",
          "Google Cloud",
          "University of Michigan",
          "University of California, Irvine",
          "Google Cloud",
          "University of Illinois at Urbana-Champaign",
          "Johns Hopkins University",
          "Google Cloud",
          "University of Illinois at Urbana-Champaign",
          "Duke University",
          "Duke University",
          "University of Pennsylvania",
          "University of California, Irvine",
          "University of Michigan",
          "University of Pennsylvania",
          "University of Pennsylvania",
          "University of Illinois at Urbana-Champaign",
          "Johns Hopkins University",
          "University of Illinois at Urbana-Champaign",
          "University of Michigan",
          "University of California, Irvine",
          "Duke University",
          "University of California, Irvine",
          "University of Michigan",
          "University of California, Davis",
          "University of Pennsylvania",
          "University of Pennsylvania",
          "University of Pennsylvania",
          "University of Michigan",
          "University of Michigan",
          "University of Pennsylvania",
          "University of Illinois at Urbana-Champaign",
          "University of Michigan",
          "University of Pennsylvania",
          "University of Pennsylvania",
          "University of Michigan",
          "Google Cloud",
          "University of Pennsylvania",
          "University of Michigan",
          "University of California, Irvine",
          "Duke University",
          "University of California, Irvine",
          "University of California, Davis",
          "University of Michigan",
          "University of California, Davis",
          "Google Cloud",
          "University of Illinois at Urbana-Champaign",
          "University of Pennsylvania",
          "University of Michigan",
          "Duke University",
          "Johns Hopkins University",
          "Johns Hopkins University",
          "Johns Hopkins University",
          "Duke University",
          "Google Cloud"
         ],
         "x0": " ",
         "xaxis": "x",
         "y": [
          4.6,
          4.6,
          4.8,
          4.7,
          4.6,
          4.7,
          4.7,
          4.6,
          4.5,
          4.6,
          4.5,
          4.6,
          4.7,
          4.7,
          4.7,
          4.9,
          4.6,
          4.5,
          4.6,
          4.5,
          4.6,
          4.7,
          4.6,
          4.8,
          4.8,
          4.6,
          4.8,
          4.6,
          4.8,
          4.7,
          4.4,
          4.6,
          4.8,
          4.7,
          4.7,
          4.7,
          4.7,
          4.7,
          4.6,
          4.6,
          4.5,
          4.7,
          4.6,
          4.4,
          4.8,
          4.7,
          4.6,
          4.7,
          4.7,
          4.5,
          4.7,
          4.9,
          4.6,
          4.7,
          4.8,
          4.8,
          4.8,
          4.5,
          4.7,
          4.6,
          4.8,
          4.8,
          4.5,
          4.5,
          4.7,
          4.7,
          4.6,
          4.4,
          4.7,
          4.6,
          4.6,
          4.6,
          4.4,
          4.8,
          4.6,
          4.7,
          4.7,
          4.8,
          3.9,
          4.8,
          4.8,
          4.5,
          4.7,
          4.8,
          4.6,
          4.8,
          4.6,
          4.7,
          4.6,
          4.6,
          4.9,
          4.8,
          4.8,
          4.6,
          4.7,
          4.8,
          4.6,
          4.5,
          4.8,
          4.8,
          4.6,
          4.8,
          4.8,
          4.7,
          4.7,
          4.6,
          4.8,
          4.4,
          4.7,
          4.8,
          4.6,
          4.7,
          4.7,
          4.8,
          4.7,
          4.8,
          4.5,
          4.6,
          4.3,
          4.8,
          4.5,
          4.7,
          4.8,
          4.7,
          4.8,
          4.7,
          4.4,
          4.6,
          4.7,
          4.8,
          4.5,
          4.8,
          4.6,
          4.6,
          4.8,
          4.6,
          4.2,
          4.8,
          4.2,
          4.7,
          4.4,
          4.8,
          4.6,
          4.7,
          4.5,
          4.5,
          4.6,
          4.6,
          4.7,
          4.5,
          4.7,
          4.6,
          4.6,
          4.5,
          4.5,
          4.7,
          4.5,
          4.8,
          4.7,
          4.6,
          4.6,
          4.5,
          4.8,
          4.7,
          4.4,
          4.5,
          4.3,
          4.6,
          4.6,
          4.8,
          4.8,
          4.8,
          4.7,
          4.7,
          4.7,
          4.8,
          4.6,
          4.7,
          4.7,
          4.5,
          4.7,
          4.7,
          4.9,
          4.7,
          4.9,
          4.6,
          4.8,
          4.8,
          4.6,
          4.8,
          4.8,
          4.7,
          4.6,
          4.5,
          4.7,
          4.7,
          4.7,
          4.5,
          4.7,
          4.6,
          4.8,
          4.2,
          4.8,
          4.7,
          4.5,
          4.3,
          4.7,
          4.4,
          4.5,
          4.5,
          4.9,
          4.8,
          4.6,
          4.8,
          4.6,
          4.8,
          4.5,
          4.8,
          4.5,
          4.3,
          4.6,
          4.7,
          4.7,
          4.6,
          4.7,
          4.8,
          4.6,
          4.9,
          4.5,
          4.8,
          4.7,
          4.5,
          4.8,
          4.8,
          4.4,
          4.8,
          4.8,
          4.7,
          4.8,
          4.5,
          4.8,
          4.7,
          4.6,
          4.7,
          4.7,
          4.8,
          4.8,
          4.2,
          4.7,
          4.6,
          4.8,
          4.5,
          4.8,
          4.6,
          4.7,
          4.8,
          4.7,
          4.9,
          4.8,
          4.7,
          4.8,
          4.8,
          4.7,
          4.7,
          4.6,
          4.8,
          4.7,
          4.8,
          4.6,
          4.4,
          4.6,
          4.7,
          4.7,
          4.4,
          4.8,
          4.7,
          4.8,
          4.7,
          4.5,
          4.6,
          4.8,
          4.6
         ],
         "y0": " ",
         "yaxis": "y"
        }
       ],
       "layout": {
        "annotations": [
         {
          "bordercolor": "white",
          "borderwidth": 1,
          "font": {
           "color": "white",
           "size": 16
          },
          "showarrow": false,
          "text": "F-statistic: 4.35, p-value: 5.896e-05",
          "x": 0,
          "xref": "paper",
          "y": 1.1,
          "yref": "paper"
         }
        ],
        "boxmode": "group",
        "font": {
         "size": 14
        },
        "height": 600,
        "legend": {
         "tracegroupgap": 0
        },
        "margin": {
         "b": 100,
         "l": 100,
         "r": 100,
         "t": 100
        },
        "template": {
         "data": {
          "bar": [
           {
            "error_x": {
             "color": "#f2f5fa"
            },
            "error_y": {
             "color": "#f2f5fa"
            },
            "marker": {
             "line": {
              "color": "rgb(17,17,17)",
              "width": 0.5
             },
             "pattern": {
              "fillmode": "overlay",
              "size": 10,
              "solidity": 0.2
             }
            },
            "type": "bar"
           }
          ],
          "barpolar": [
           {
            "marker": {
             "line": {
              "color": "rgb(17,17,17)",
              "width": 0.5
             },
             "pattern": {
              "fillmode": "overlay",
              "size": 10,
              "solidity": 0.2
             }
            },
            "type": "barpolar"
           }
          ],
          "carpet": [
           {
            "aaxis": {
             "endlinecolor": "#A2B1C6",
             "gridcolor": "#506784",
             "linecolor": "#506784",
             "minorgridcolor": "#506784",
             "startlinecolor": "#A2B1C6"
            },
            "baxis": {
             "endlinecolor": "#A2B1C6",
             "gridcolor": "#506784",
             "linecolor": "#506784",
             "minorgridcolor": "#506784",
             "startlinecolor": "#A2B1C6"
            },
            "type": "carpet"
           }
          ],
          "choropleth": [
           {
            "colorbar": {
             "outlinewidth": 0,
             "ticks": ""
            },
            "type": "choropleth"
           }
          ],
          "contour": [
           {
            "colorbar": {
             "outlinewidth": 0,
             "ticks": ""
            },
            "colorscale": [
             [
              0,
              "#0d0887"
             ],
             [
              0.1111111111111111,
              "#46039f"
             ],
             [
              0.2222222222222222,
              "#7201a8"
             ],
             [
              0.3333333333333333,
              "#9c179e"
             ],
             [
              0.4444444444444444,
              "#bd3786"
             ],
             [
              0.5555555555555556,
              "#d8576b"
             ],
             [
              0.6666666666666666,
              "#ed7953"
             ],
             [
              0.7777777777777778,
              "#fb9f3a"
             ],
             [
              0.8888888888888888,
              "#fdca26"
             ],
             [
              1,
              "#f0f921"
             ]
            ],
            "type": "contour"
           }
          ],
          "contourcarpet": [
           {
            "colorbar": {
             "outlinewidth": 0,
             "ticks": ""
            },
            "type": "contourcarpet"
           }
          ],
          "heatmap": [
           {
            "colorbar": {
             "outlinewidth": 0,
             "ticks": ""
            },
            "colorscale": [
             [
              0,
              "#0d0887"
             ],
             [
              0.1111111111111111,
              "#46039f"
             ],
             [
              0.2222222222222222,
              "#7201a8"
             ],
             [
              0.3333333333333333,
              "#9c179e"
             ],
             [
              0.4444444444444444,
              "#bd3786"
             ],
             [
              0.5555555555555556,
              "#d8576b"
             ],
             [
              0.6666666666666666,
              "#ed7953"
             ],
             [
              0.7777777777777778,
              "#fb9f3a"
             ],
             [
              0.8888888888888888,
              "#fdca26"
             ],
             [
              1,
              "#f0f921"
             ]
            ],
            "type": "heatmap"
           }
          ],
          "heatmapgl": [
           {
            "colorbar": {
             "outlinewidth": 0,
             "ticks": ""
            },
            "colorscale": [
             [
              0,
              "#0d0887"
             ],
             [
              0.1111111111111111,
              "#46039f"
             ],
             [
              0.2222222222222222,
              "#7201a8"
             ],
             [
              0.3333333333333333,
              "#9c179e"
             ],
             [
              0.4444444444444444,
              "#bd3786"
             ],
             [
              0.5555555555555556,
              "#d8576b"
             ],
             [
              0.6666666666666666,
              "#ed7953"
             ],
             [
              0.7777777777777778,
              "#fb9f3a"
             ],
             [
              0.8888888888888888,
              "#fdca26"
             ],
             [
              1,
              "#f0f921"
             ]
            ],
            "type": "heatmapgl"
           }
          ],
          "histogram": [
           {
            "marker": {
             "pattern": {
              "fillmode": "overlay",
              "size": 10,
              "solidity": 0.2
             }
            },
            "type": "histogram"
           }
          ],
          "histogram2d": [
           {
            "colorbar": {
             "outlinewidth": 0,
             "ticks": ""
            },
            "colorscale": [
             [
              0,
              "#0d0887"
             ],
             [
              0.1111111111111111,
              "#46039f"
             ],
             [
              0.2222222222222222,
              "#7201a8"
             ],
             [
              0.3333333333333333,
              "#9c179e"
             ],
             [
              0.4444444444444444,
              "#bd3786"
             ],
             [
              0.5555555555555556,
              "#d8576b"
             ],
             [
              0.6666666666666666,
              "#ed7953"
             ],
             [
              0.7777777777777778,
              "#fb9f3a"
             ],
             [
              0.8888888888888888,
              "#fdca26"
             ],
             [
              1,
              "#f0f921"
             ]
            ],
            "type": "histogram2d"
           }
          ],
          "histogram2dcontour": [
           {
            "colorbar": {
             "outlinewidth": 0,
             "ticks": ""
            },
            "colorscale": [
             [
              0,
              "#0d0887"
             ],
             [
              0.1111111111111111,
              "#46039f"
             ],
             [
              0.2222222222222222,
              "#7201a8"
             ],
             [
              0.3333333333333333,
              "#9c179e"
             ],
             [
              0.4444444444444444,
              "#bd3786"
             ],
             [
              0.5555555555555556,
              "#d8576b"
             ],
             [
              0.6666666666666666,
              "#ed7953"
             ],
             [
              0.7777777777777778,
              "#fb9f3a"
             ],
             [
              0.8888888888888888,
              "#fdca26"
             ],
             [
              1,
              "#f0f921"
             ]
            ],
            "type": "histogram2dcontour"
           }
          ],
          "mesh3d": [
           {
            "colorbar": {
             "outlinewidth": 0,
             "ticks": ""
            },
            "type": "mesh3d"
           }
          ],
          "parcoords": [
           {
            "line": {
             "colorbar": {
              "outlinewidth": 0,
              "ticks": ""
             }
            },
            "type": "parcoords"
           }
          ],
          "pie": [
           {
            "automargin": true,
            "type": "pie"
           }
          ],
          "scatter": [
           {
            "marker": {
             "line": {
              "color": "#283442"
             }
            },
            "type": "scatter"
           }
          ],
          "scatter3d": [
           {
            "line": {
             "colorbar": {
              "outlinewidth": 0,
              "ticks": ""
             }
            },
            "marker": {
             "colorbar": {
              "outlinewidth": 0,
              "ticks": ""
             }
            },
            "type": "scatter3d"
           }
          ],
          "scattercarpet": [
           {
            "marker": {
             "colorbar": {
              "outlinewidth": 0,
              "ticks": ""
             }
            },
            "type": "scattercarpet"
           }
          ],
          "scattergeo": [
           {
            "marker": {
             "colorbar": {
              "outlinewidth": 0,
              "ticks": ""
             }
            },
            "type": "scattergeo"
           }
          ],
          "scattergl": [
           {
            "marker": {
             "line": {
              "color": "#283442"
             }
            },
            "type": "scattergl"
           }
          ],
          "scattermapbox": [
           {
            "marker": {
             "colorbar": {
              "outlinewidth": 0,
              "ticks": ""
             }
            },
            "type": "scattermapbox"
           }
          ],
          "scatterpolar": [
           {
            "marker": {
             "colorbar": {
              "outlinewidth": 0,
              "ticks": ""
             }
            },
            "type": "scatterpolar"
           }
          ],
          "scatterpolargl": [
           {
            "marker": {
             "colorbar": {
              "outlinewidth": 0,
              "ticks": ""
             }
            },
            "type": "scatterpolargl"
           }
          ],
          "scatterternary": [
           {
            "marker": {
             "colorbar": {
              "outlinewidth": 0,
              "ticks": ""
             }
            },
            "type": "scatterternary"
           }
          ],
          "surface": [
           {
            "colorbar": {
             "outlinewidth": 0,
             "ticks": ""
            },
            "colorscale": [
             [
              0,
              "#0d0887"
             ],
             [
              0.1111111111111111,
              "#46039f"
             ],
             [
              0.2222222222222222,
              "#7201a8"
             ],
             [
              0.3333333333333333,
              "#9c179e"
             ],
             [
              0.4444444444444444,
              "#bd3786"
             ],
             [
              0.5555555555555556,
              "#d8576b"
             ],
             [
              0.6666666666666666,
              "#ed7953"
             ],
             [
              0.7777777777777778,
              "#fb9f3a"
             ],
             [
              0.8888888888888888,
              "#fdca26"
             ],
             [
              1,
              "#f0f921"
             ]
            ],
            "type": "surface"
           }
          ],
          "table": [
           {
            "cells": {
             "fill": {
              "color": "#506784"
             },
             "line": {
              "color": "rgb(17,17,17)"
             }
            },
            "header": {
             "fill": {
              "color": "#2a3f5f"
             },
             "line": {
              "color": "rgb(17,17,17)"
             }
            },
            "type": "table"
           }
          ]
         },
         "layout": {
          "annotationdefaults": {
           "arrowcolor": "#f2f5fa",
           "arrowhead": 0,
           "arrowwidth": 1
          },
          "autotypenumbers": "strict",
          "coloraxis": {
           "colorbar": {
            "outlinewidth": 0,
            "ticks": ""
           }
          },
          "colorscale": {
           "diverging": [
            [
             0,
             "#8e0152"
            ],
            [
             0.1,
             "#c51b7d"
            ],
            [
             0.2,
             "#de77ae"
            ],
            [
             0.3,
             "#f1b6da"
            ],
            [
             0.4,
             "#fde0ef"
            ],
            [
             0.5,
             "#f7f7f7"
            ],
            [
             0.6,
             "#e6f5d0"
            ],
            [
             0.7,
             "#b8e186"
            ],
            [
             0.8,
             "#7fbc41"
            ],
            [
             0.9,
             "#4d9221"
            ],
            [
             1,
             "#276419"
            ]
           ],
           "sequential": [
            [
             0,
             "#0d0887"
            ],
            [
             0.1111111111111111,
             "#46039f"
            ],
            [
             0.2222222222222222,
             "#7201a8"
            ],
            [
             0.3333333333333333,
             "#9c179e"
            ],
            [
             0.4444444444444444,
             "#bd3786"
            ],
            [
             0.5555555555555556,
             "#d8576b"
            ],
            [
             0.6666666666666666,
             "#ed7953"
            ],
            [
             0.7777777777777778,
             "#fb9f3a"
            ],
            [
             0.8888888888888888,
             "#fdca26"
            ],
            [
             1,
             "#f0f921"
            ]
           ],
           "sequentialminus": [
            [
             0,
             "#0d0887"
            ],
            [
             0.1111111111111111,
             "#46039f"
            ],
            [
             0.2222222222222222,
             "#7201a8"
            ],
            [
             0.3333333333333333,
             "#9c179e"
            ],
            [
             0.4444444444444444,
             "#bd3786"
            ],
            [
             0.5555555555555556,
             "#d8576b"
            ],
            [
             0.6666666666666666,
             "#ed7953"
            ],
            [
             0.7777777777777778,
             "#fb9f3a"
            ],
            [
             0.8888888888888888,
             "#fdca26"
            ],
            [
             1,
             "#f0f921"
            ]
           ]
          },
          "colorway": [
           "#636efa",
           "#EF553B",
           "#00cc96",
           "#ab63fa",
           "#FFA15A",
           "#19d3f3",
           "#FF6692",
           "#B6E880",
           "#FF97FF",
           "#FECB52"
          ],
          "font": {
           "color": "#f2f5fa"
          },
          "geo": {
           "bgcolor": "rgb(17,17,17)",
           "lakecolor": "rgb(17,17,17)",
           "landcolor": "rgb(17,17,17)",
           "showlakes": true,
           "showland": true,
           "subunitcolor": "#506784"
          },
          "hoverlabel": {
           "align": "left"
          },
          "hovermode": "closest",
          "mapbox": {
           "style": "dark"
          },
          "paper_bgcolor": "rgb(17,17,17)",
          "plot_bgcolor": "rgb(17,17,17)",
          "polar": {
           "angularaxis": {
            "gridcolor": "#506784",
            "linecolor": "#506784",
            "ticks": ""
           },
           "bgcolor": "rgb(17,17,17)",
           "radialaxis": {
            "gridcolor": "#506784",
            "linecolor": "#506784",
            "ticks": ""
           }
          },
          "scene": {
           "xaxis": {
            "backgroundcolor": "rgb(17,17,17)",
            "gridcolor": "#506784",
            "gridwidth": 2,
            "linecolor": "#506784",
            "showbackground": true,
            "ticks": "",
            "zerolinecolor": "#C8D4E3"
           },
           "yaxis": {
            "backgroundcolor": "rgb(17,17,17)",
            "gridcolor": "#506784",
            "gridwidth": 2,
            "linecolor": "#506784",
            "showbackground": true,
            "ticks": "",
            "zerolinecolor": "#C8D4E3"
           },
           "zaxis": {
            "backgroundcolor": "rgb(17,17,17)",
            "gridcolor": "#506784",
            "gridwidth": 2,
            "linecolor": "#506784",
            "showbackground": true,
            "ticks": "",
            "zerolinecolor": "#C8D4E3"
           }
          },
          "shapedefaults": {
           "line": {
            "color": "#f2f5fa"
           }
          },
          "sliderdefaults": {
           "bgcolor": "#C8D4E3",
           "bordercolor": "rgb(17,17,17)",
           "borderwidth": 1,
           "tickwidth": 0
          },
          "ternary": {
           "aaxis": {
            "gridcolor": "#506784",
            "linecolor": "#506784",
            "ticks": ""
           },
           "baxis": {
            "gridcolor": "#506784",
            "linecolor": "#506784",
            "ticks": ""
           },
           "bgcolor": "rgb(17,17,17)",
           "caxis": {
            "gridcolor": "#506784",
            "linecolor": "#506784",
            "ticks": ""
           }
          },
          "title": {
           "x": 0.05
          },
          "updatemenudefaults": {
           "bgcolor": "#506784",
           "borderwidth": 0
          },
          "xaxis": {
           "automargin": true,
           "gridcolor": "#283442",
           "linecolor": "#506784",
           "ticks": "",
           "title": {
            "standoff": 15
           },
           "zerolinecolor": "#283442",
           "zerolinewidth": 2
          },
          "yaxis": {
           "automargin": true,
           "gridcolor": "#283442",
           "linecolor": "#506784",
           "ticks": "",
           "title": {
            "standoff": 15
           },
           "zerolinecolor": "#283442",
           "zerolinewidth": 2
          }
         }
        },
        "title": {
         "text": "Course rating distribution across Course organization categories"
        },
        "xaxis": {
         "anchor": "y",
         "automargin": true,
         "categoryorder": "total descending",
         "domain": [
          0,
          1
         ],
         "showgrid": false,
         "tickangle": 30,
         "title": {
          "text": "Course Organization"
         },
         "type": "category",
         "zeroline": false
        },
        "yaxis": {
         "anchor": "x",
         "domain": [
          0,
          1
         ],
         "title": {
          "text": "Course Rating"
         }
        }
       }
      }
     },
     "metadata": {},
     "output_type": "display_data"
    }
   ],
   "source": [
    "perform_anova_and_visualize(data, categorical_feature=\"course_organization\", numerical_feature=\"course_rating\")"
   ]
  },
  {
   "cell_type": "markdown",
   "metadata": {},
   "source": [
    "*Does the average course rating differ significantly between different types of output certificates (course_Certificate_type)?*\n",
    "\n",
    "-> Yes, as the p-value is lower than 0.05, the type of output certificate has a non-coincidental effect on the average course rating, but we have very little amount of data to base the statement on."
   ]
  },
  {
   "cell_type": "code",
   "execution_count": 33,
   "metadata": {},
   "outputs": [
    {
     "data": {
      "application/vnd.plotly.v1+json": {
       "config": {
        "plotlyServerURL": "https://plot.ly"
       },
       "data": [
        {
         "alignmentgroup": "True",
         "hovertemplate": "Course Certificate Type=%{x}<br>Course Rating=%{y}<extra></extra>",
         "legendgroup": "",
         "marker": {
          "color": "#636efa"
         },
         "name": "",
         "notched": false,
         "offsetgroup": "",
         "orientation": "v",
         "showlegend": false,
         "type": "box",
         "x": [
          "PROFESSIONAL CERTIFICATE",
          "SPECIALIZATION",
          "SPECIALIZATION",
          "SPECIALIZATION",
          "SPECIALIZATION",
          "PROFESSIONAL CERTIFICATE",
          "SPECIALIZATION",
          "PROFESSIONAL CERTIFICATE",
          "SPECIALIZATION",
          "SPECIALIZATION",
          "SPECIALIZATION",
          "SPECIALIZATION",
          "SPECIALIZATION",
          "SPECIALIZATION",
          "SPECIALIZATION",
          "COURSE",
          "PROFESSIONAL CERTIFICATE",
          "SPECIALIZATION",
          "SPECIALIZATION",
          "SPECIALIZATION",
          "SPECIALIZATION",
          "SPECIALIZATION",
          "SPECIALIZATION",
          "SPECIALIZATION",
          "SPECIALIZATION",
          "PROFESSIONAL CERTIFICATE",
          "COURSE",
          "SPECIALIZATION",
          "COURSE",
          "SPECIALIZATION",
          "SPECIALIZATION",
          "SPECIALIZATION",
          "COURSE",
          "SPECIALIZATION",
          "SPECIALIZATION",
          "SPECIALIZATION",
          "SPECIALIZATION",
          "SPECIALIZATION",
          "SPECIALIZATION",
          "SPECIALIZATION",
          "SPECIALIZATION",
          "COURSE",
          "SPECIALIZATION",
          "SPECIALIZATION",
          "SPECIALIZATION",
          "SPECIALIZATION",
          "SPECIALIZATION",
          "COURSE",
          "SPECIALIZATION",
          "SPECIALIZATION",
          "COURSE",
          "COURSE",
          "SPECIALIZATION",
          "SPECIALIZATION",
          "SPECIALIZATION",
          "SPECIALIZATION",
          "SPECIALIZATION",
          "SPECIALIZATION",
          "SPECIALIZATION",
          "SPECIALIZATION",
          "SPECIALIZATION",
          "COURSE",
          "SPECIALIZATION",
          "COURSE",
          "COURSE",
          "SPECIALIZATION",
          "COURSE",
          "SPECIALIZATION",
          "SPECIALIZATION",
          "SPECIALIZATION",
          "COURSE",
          "PROFESSIONAL CERTIFICATE",
          "SPECIALIZATION",
          "COURSE",
          "COURSE",
          "COURSE",
          "SPECIALIZATION",
          "COURSE",
          "SPECIALIZATION",
          "SPECIALIZATION",
          "COURSE",
          "COURSE",
          "SPECIALIZATION",
          "COURSE",
          "COURSE",
          "COURSE",
          "SPECIALIZATION",
          "COURSE",
          "SPECIALIZATION",
          "COURSE",
          "COURSE",
          "COURSE",
          "COURSE",
          "COURSE",
          "COURSE",
          "COURSE",
          "COURSE",
          "SPECIALIZATION",
          "SPECIALIZATION",
          "COURSE",
          "SPECIALIZATION",
          "COURSE",
          "COURSE",
          "SPECIALIZATION",
          "COURSE",
          "COURSE",
          "COURSE",
          "COURSE",
          "COURSE",
          "SPECIALIZATION",
          "COURSE",
          "SPECIALIZATION",
          "COURSE",
          "COURSE",
          "COURSE",
          "COURSE",
          "SPECIALIZATION",
          "SPECIALIZATION",
          "SPECIALIZATION",
          "COURSE",
          "COURSE",
          "COURSE",
          "SPECIALIZATION",
          "COURSE",
          "COURSE",
          "SPECIALIZATION",
          "SPECIALIZATION",
          "COURSE",
          "COURSE",
          "COURSE",
          "SPECIALIZATION",
          "COURSE",
          "COURSE",
          "COURSE",
          "SPECIALIZATION",
          "SPECIALIZATION",
          "COURSE",
          "COURSE",
          "COURSE",
          "COURSE",
          "SPECIALIZATION",
          "COURSE",
          "SPECIALIZATION",
          "SPECIALIZATION",
          "COURSE",
          "COURSE",
          "COURSE",
          "SPECIALIZATION",
          "SPECIALIZATION",
          "SPECIALIZATION",
          "COURSE",
          "SPECIALIZATION",
          "COURSE",
          "SPECIALIZATION",
          "COURSE",
          "COURSE",
          "COURSE",
          "COURSE",
          "SPECIALIZATION",
          "COURSE",
          "COURSE",
          "COURSE",
          "COURSE",
          "COURSE",
          "SPECIALIZATION",
          "SPECIALIZATION",
          "SPECIALIZATION",
          "COURSE",
          "COURSE",
          "COURSE",
          "COURSE",
          "COURSE",
          "COURSE",
          "COURSE",
          "COURSE",
          "COURSE",
          "COURSE",
          "COURSE",
          "COURSE",
          "COURSE",
          "COURSE",
          "COURSE",
          "COURSE",
          "COURSE",
          "COURSE",
          "COURSE",
          "COURSE",
          "COURSE",
          "COURSE",
          "COURSE",
          "COURSE",
          "COURSE",
          "COURSE",
          "COURSE",
          "COURSE",
          "COURSE",
          "COURSE",
          "COURSE",
          "COURSE",
          "COURSE",
          "COURSE",
          "COURSE",
          "COURSE",
          "COURSE",
          "COURSE",
          "SPECIALIZATION",
          "COURSE",
          "SPECIALIZATION",
          "COURSE",
          "SPECIALIZATION",
          "COURSE",
          "COURSE",
          "COURSE",
          "COURSE",
          "COURSE",
          "COURSE",
          "COURSE",
          "COURSE",
          "SPECIALIZATION",
          "COURSE",
          "COURSE",
          "COURSE",
          "COURSE",
          "COURSE",
          "COURSE",
          "SPECIALIZATION",
          "COURSE",
          "COURSE",
          "COURSE",
          "COURSE",
          "COURSE",
          "COURSE",
          "SPECIALIZATION",
          "COURSE",
          "SPECIALIZATION",
          "SPECIALIZATION",
          "COURSE",
          "COURSE",
          "COURSE",
          "SPECIALIZATION",
          "COURSE",
          "COURSE",
          "COURSE",
          "COURSE",
          "COURSE",
          "COURSE",
          "COURSE",
          "COURSE",
          "COURSE",
          "COURSE",
          "COURSE",
          "SPECIALIZATION",
          "COURSE",
          "SPECIALIZATION",
          "COURSE",
          "COURSE",
          "COURSE",
          "COURSE",
          "COURSE",
          "COURSE",
          "COURSE",
          "COURSE",
          "COURSE",
          "COURSE",
          "COURSE",
          "COURSE",
          "COURSE",
          "COURSE",
          "SPECIALIZATION",
          "SPECIALIZATION",
          "COURSE",
          "COURSE",
          "COURSE",
          "COURSE",
          "COURSE",
          "COURSE",
          "COURSE",
          "COURSE",
          "COURSE",
          "COURSE",
          "COURSE",
          "COURSE"
         ],
         "x0": " ",
         "xaxis": "x",
         "y": [
          4.6,
          4.6,
          4.8,
          4.7,
          4.6,
          4.7,
          4.7,
          4.6,
          4.5,
          4.6,
          4.5,
          4.6,
          4.7,
          4.7,
          4.7,
          4.9,
          4.6,
          4.5,
          4.6,
          4.5,
          4.6,
          4.7,
          4.6,
          4.8,
          4.8,
          4.6,
          4.8,
          4.6,
          4.8,
          4.7,
          4.4,
          4.6,
          4.8,
          4.7,
          4.7,
          4.7,
          4.7,
          4.7,
          4.6,
          4.6,
          4.5,
          4.7,
          4.6,
          4.4,
          4.8,
          4.7,
          4.6,
          4.7,
          4.7,
          4.5,
          4.7,
          4.9,
          4.6,
          4.7,
          4.8,
          4.8,
          4.8,
          4.5,
          4.7,
          4.6,
          4.8,
          4.8,
          4.5,
          4.5,
          4.7,
          4.7,
          4.6,
          4.4,
          4.7,
          4.6,
          4.6,
          4.6,
          4.4,
          4.8,
          4.6,
          4.7,
          4.7,
          4.8,
          3.9,
          4.8,
          4.8,
          4.5,
          4.7,
          4.8,
          4.6,
          4.8,
          4.6,
          4.7,
          4.6,
          4.6,
          4.9,
          4.8,
          4.8,
          4.6,
          4.7,
          4.8,
          4.6,
          4.5,
          4.8,
          4.8,
          4.6,
          4.8,
          4.8,
          4.7,
          4.7,
          4.6,
          4.8,
          4.4,
          4.7,
          4.8,
          4.6,
          4.7,
          4.7,
          4.8,
          4.7,
          4.8,
          4.5,
          4.6,
          4.3,
          4.8,
          4.5,
          4.7,
          4.8,
          4.7,
          4.8,
          4.7,
          4.4,
          4.6,
          4.7,
          4.8,
          4.5,
          4.8,
          4.6,
          4.6,
          4.8,
          4.6,
          4.2,
          4.8,
          4.2,
          4.7,
          4.4,
          4.8,
          4.6,
          4.7,
          4.5,
          4.5,
          4.6,
          4.6,
          4.7,
          4.5,
          4.7,
          4.6,
          4.6,
          4.5,
          4.5,
          4.7,
          4.5,
          4.8,
          4.7,
          4.6,
          4.6,
          4.5,
          4.8,
          4.7,
          4.4,
          4.5,
          4.3,
          4.6,
          4.6,
          4.8,
          4.8,
          4.8,
          4.7,
          4.7,
          4.7,
          4.8,
          4.6,
          4.7,
          4.7,
          4.5,
          4.7,
          4.7,
          4.9,
          4.7,
          4.9,
          4.6,
          4.8,
          4.8,
          4.6,
          4.8,
          4.8,
          4.7,
          4.6,
          4.5,
          4.7,
          4.7,
          4.7,
          4.5,
          4.7,
          4.6,
          4.8,
          4.2,
          4.8,
          4.7,
          4.5,
          4.3,
          4.7,
          4.4,
          4.5,
          4.5,
          4.9,
          4.8,
          4.6,
          4.8,
          4.6,
          4.8,
          4.5,
          4.8,
          4.5,
          4.3,
          4.6,
          4.7,
          4.7,
          4.6,
          4.7,
          4.8,
          4.6,
          4.9,
          4.5,
          4.8,
          4.7,
          4.5,
          4.8,
          4.8,
          4.4,
          4.8,
          4.8,
          4.7,
          4.8,
          4.5,
          4.8,
          4.7,
          4.6,
          4.7,
          4.7,
          4.8,
          4.8,
          4.2,
          4.7,
          4.6,
          4.8,
          4.5,
          4.8,
          4.6,
          4.7,
          4.8,
          4.7,
          4.9,
          4.8,
          4.7,
          4.8,
          4.8,
          4.7,
          4.7,
          4.6,
          4.8,
          4.7,
          4.8,
          4.6,
          4.4,
          4.6,
          4.7,
          4.7,
          4.4,
          4.8,
          4.7,
          4.8,
          4.7,
          4.5,
          4.6,
          4.8,
          4.6
         ],
         "y0": " ",
         "yaxis": "y"
        }
       ],
       "layout": {
        "annotations": [
         {
          "bordercolor": "white",
          "borderwidth": 1,
          "font": {
           "color": "white",
           "size": 16
          },
          "showarrow": false,
          "text": "F-statistic: 11.26, p-value: 1.979e-05",
          "x": 0,
          "xref": "paper",
          "y": 1.1,
          "yref": "paper"
         }
        ],
        "boxmode": "group",
        "font": {
         "size": 14
        },
        "height": 600,
        "legend": {
         "tracegroupgap": 0
        },
        "margin": {
         "b": 100,
         "l": 100,
         "r": 100,
         "t": 100
        },
        "template": {
         "data": {
          "bar": [
           {
            "error_x": {
             "color": "#f2f5fa"
            },
            "error_y": {
             "color": "#f2f5fa"
            },
            "marker": {
             "line": {
              "color": "rgb(17,17,17)",
              "width": 0.5
             },
             "pattern": {
              "fillmode": "overlay",
              "size": 10,
              "solidity": 0.2
             }
            },
            "type": "bar"
           }
          ],
          "barpolar": [
           {
            "marker": {
             "line": {
              "color": "rgb(17,17,17)",
              "width": 0.5
             },
             "pattern": {
              "fillmode": "overlay",
              "size": 10,
              "solidity": 0.2
             }
            },
            "type": "barpolar"
           }
          ],
          "carpet": [
           {
            "aaxis": {
             "endlinecolor": "#A2B1C6",
             "gridcolor": "#506784",
             "linecolor": "#506784",
             "minorgridcolor": "#506784",
             "startlinecolor": "#A2B1C6"
            },
            "baxis": {
             "endlinecolor": "#A2B1C6",
             "gridcolor": "#506784",
             "linecolor": "#506784",
             "minorgridcolor": "#506784",
             "startlinecolor": "#A2B1C6"
            },
            "type": "carpet"
           }
          ],
          "choropleth": [
           {
            "colorbar": {
             "outlinewidth": 0,
             "ticks": ""
            },
            "type": "choropleth"
           }
          ],
          "contour": [
           {
            "colorbar": {
             "outlinewidth": 0,
             "ticks": ""
            },
            "colorscale": [
             [
              0,
              "#0d0887"
             ],
             [
              0.1111111111111111,
              "#46039f"
             ],
             [
              0.2222222222222222,
              "#7201a8"
             ],
             [
              0.3333333333333333,
              "#9c179e"
             ],
             [
              0.4444444444444444,
              "#bd3786"
             ],
             [
              0.5555555555555556,
              "#d8576b"
             ],
             [
              0.6666666666666666,
              "#ed7953"
             ],
             [
              0.7777777777777778,
              "#fb9f3a"
             ],
             [
              0.8888888888888888,
              "#fdca26"
             ],
             [
              1,
              "#f0f921"
             ]
            ],
            "type": "contour"
           }
          ],
          "contourcarpet": [
           {
            "colorbar": {
             "outlinewidth": 0,
             "ticks": ""
            },
            "type": "contourcarpet"
           }
          ],
          "heatmap": [
           {
            "colorbar": {
             "outlinewidth": 0,
             "ticks": ""
            },
            "colorscale": [
             [
              0,
              "#0d0887"
             ],
             [
              0.1111111111111111,
              "#46039f"
             ],
             [
              0.2222222222222222,
              "#7201a8"
             ],
             [
              0.3333333333333333,
              "#9c179e"
             ],
             [
              0.4444444444444444,
              "#bd3786"
             ],
             [
              0.5555555555555556,
              "#d8576b"
             ],
             [
              0.6666666666666666,
              "#ed7953"
             ],
             [
              0.7777777777777778,
              "#fb9f3a"
             ],
             [
              0.8888888888888888,
              "#fdca26"
             ],
             [
              1,
              "#f0f921"
             ]
            ],
            "type": "heatmap"
           }
          ],
          "heatmapgl": [
           {
            "colorbar": {
             "outlinewidth": 0,
             "ticks": ""
            },
            "colorscale": [
             [
              0,
              "#0d0887"
             ],
             [
              0.1111111111111111,
              "#46039f"
             ],
             [
              0.2222222222222222,
              "#7201a8"
             ],
             [
              0.3333333333333333,
              "#9c179e"
             ],
             [
              0.4444444444444444,
              "#bd3786"
             ],
             [
              0.5555555555555556,
              "#d8576b"
             ],
             [
              0.6666666666666666,
              "#ed7953"
             ],
             [
              0.7777777777777778,
              "#fb9f3a"
             ],
             [
              0.8888888888888888,
              "#fdca26"
             ],
             [
              1,
              "#f0f921"
             ]
            ],
            "type": "heatmapgl"
           }
          ],
          "histogram": [
           {
            "marker": {
             "pattern": {
              "fillmode": "overlay",
              "size": 10,
              "solidity": 0.2
             }
            },
            "type": "histogram"
           }
          ],
          "histogram2d": [
           {
            "colorbar": {
             "outlinewidth": 0,
             "ticks": ""
            },
            "colorscale": [
             [
              0,
              "#0d0887"
             ],
             [
              0.1111111111111111,
              "#46039f"
             ],
             [
              0.2222222222222222,
              "#7201a8"
             ],
             [
              0.3333333333333333,
              "#9c179e"
             ],
             [
              0.4444444444444444,
              "#bd3786"
             ],
             [
              0.5555555555555556,
              "#d8576b"
             ],
             [
              0.6666666666666666,
              "#ed7953"
             ],
             [
              0.7777777777777778,
              "#fb9f3a"
             ],
             [
              0.8888888888888888,
              "#fdca26"
             ],
             [
              1,
              "#f0f921"
             ]
            ],
            "type": "histogram2d"
           }
          ],
          "histogram2dcontour": [
           {
            "colorbar": {
             "outlinewidth": 0,
             "ticks": ""
            },
            "colorscale": [
             [
              0,
              "#0d0887"
             ],
             [
              0.1111111111111111,
              "#46039f"
             ],
             [
              0.2222222222222222,
              "#7201a8"
             ],
             [
              0.3333333333333333,
              "#9c179e"
             ],
             [
              0.4444444444444444,
              "#bd3786"
             ],
             [
              0.5555555555555556,
              "#d8576b"
             ],
             [
              0.6666666666666666,
              "#ed7953"
             ],
             [
              0.7777777777777778,
              "#fb9f3a"
             ],
             [
              0.8888888888888888,
              "#fdca26"
             ],
             [
              1,
              "#f0f921"
             ]
            ],
            "type": "histogram2dcontour"
           }
          ],
          "mesh3d": [
           {
            "colorbar": {
             "outlinewidth": 0,
             "ticks": ""
            },
            "type": "mesh3d"
           }
          ],
          "parcoords": [
           {
            "line": {
             "colorbar": {
              "outlinewidth": 0,
              "ticks": ""
             }
            },
            "type": "parcoords"
           }
          ],
          "pie": [
           {
            "automargin": true,
            "type": "pie"
           }
          ],
          "scatter": [
           {
            "marker": {
             "line": {
              "color": "#283442"
             }
            },
            "type": "scatter"
           }
          ],
          "scatter3d": [
           {
            "line": {
             "colorbar": {
              "outlinewidth": 0,
              "ticks": ""
             }
            },
            "marker": {
             "colorbar": {
              "outlinewidth": 0,
              "ticks": ""
             }
            },
            "type": "scatter3d"
           }
          ],
          "scattercarpet": [
           {
            "marker": {
             "colorbar": {
              "outlinewidth": 0,
              "ticks": ""
             }
            },
            "type": "scattercarpet"
           }
          ],
          "scattergeo": [
           {
            "marker": {
             "colorbar": {
              "outlinewidth": 0,
              "ticks": ""
             }
            },
            "type": "scattergeo"
           }
          ],
          "scattergl": [
           {
            "marker": {
             "line": {
              "color": "#283442"
             }
            },
            "type": "scattergl"
           }
          ],
          "scattermapbox": [
           {
            "marker": {
             "colorbar": {
              "outlinewidth": 0,
              "ticks": ""
             }
            },
            "type": "scattermapbox"
           }
          ],
          "scatterpolar": [
           {
            "marker": {
             "colorbar": {
              "outlinewidth": 0,
              "ticks": ""
             }
            },
            "type": "scatterpolar"
           }
          ],
          "scatterpolargl": [
           {
            "marker": {
             "colorbar": {
              "outlinewidth": 0,
              "ticks": ""
             }
            },
            "type": "scatterpolargl"
           }
          ],
          "scatterternary": [
           {
            "marker": {
             "colorbar": {
              "outlinewidth": 0,
              "ticks": ""
             }
            },
            "type": "scatterternary"
           }
          ],
          "surface": [
           {
            "colorbar": {
             "outlinewidth": 0,
             "ticks": ""
            },
            "colorscale": [
             [
              0,
              "#0d0887"
             ],
             [
              0.1111111111111111,
              "#46039f"
             ],
             [
              0.2222222222222222,
              "#7201a8"
             ],
             [
              0.3333333333333333,
              "#9c179e"
             ],
             [
              0.4444444444444444,
              "#bd3786"
             ],
             [
              0.5555555555555556,
              "#d8576b"
             ],
             [
              0.6666666666666666,
              "#ed7953"
             ],
             [
              0.7777777777777778,
              "#fb9f3a"
             ],
             [
              0.8888888888888888,
              "#fdca26"
             ],
             [
              1,
              "#f0f921"
             ]
            ],
            "type": "surface"
           }
          ],
          "table": [
           {
            "cells": {
             "fill": {
              "color": "#506784"
             },
             "line": {
              "color": "rgb(17,17,17)"
             }
            },
            "header": {
             "fill": {
              "color": "#2a3f5f"
             },
             "line": {
              "color": "rgb(17,17,17)"
             }
            },
            "type": "table"
           }
          ]
         },
         "layout": {
          "annotationdefaults": {
           "arrowcolor": "#f2f5fa",
           "arrowhead": 0,
           "arrowwidth": 1
          },
          "autotypenumbers": "strict",
          "coloraxis": {
           "colorbar": {
            "outlinewidth": 0,
            "ticks": ""
           }
          },
          "colorscale": {
           "diverging": [
            [
             0,
             "#8e0152"
            ],
            [
             0.1,
             "#c51b7d"
            ],
            [
             0.2,
             "#de77ae"
            ],
            [
             0.3,
             "#f1b6da"
            ],
            [
             0.4,
             "#fde0ef"
            ],
            [
             0.5,
             "#f7f7f7"
            ],
            [
             0.6,
             "#e6f5d0"
            ],
            [
             0.7,
             "#b8e186"
            ],
            [
             0.8,
             "#7fbc41"
            ],
            [
             0.9,
             "#4d9221"
            ],
            [
             1,
             "#276419"
            ]
           ],
           "sequential": [
            [
             0,
             "#0d0887"
            ],
            [
             0.1111111111111111,
             "#46039f"
            ],
            [
             0.2222222222222222,
             "#7201a8"
            ],
            [
             0.3333333333333333,
             "#9c179e"
            ],
            [
             0.4444444444444444,
             "#bd3786"
            ],
            [
             0.5555555555555556,
             "#d8576b"
            ],
            [
             0.6666666666666666,
             "#ed7953"
            ],
            [
             0.7777777777777778,
             "#fb9f3a"
            ],
            [
             0.8888888888888888,
             "#fdca26"
            ],
            [
             1,
             "#f0f921"
            ]
           ],
           "sequentialminus": [
            [
             0,
             "#0d0887"
            ],
            [
             0.1111111111111111,
             "#46039f"
            ],
            [
             0.2222222222222222,
             "#7201a8"
            ],
            [
             0.3333333333333333,
             "#9c179e"
            ],
            [
             0.4444444444444444,
             "#bd3786"
            ],
            [
             0.5555555555555556,
             "#d8576b"
            ],
            [
             0.6666666666666666,
             "#ed7953"
            ],
            [
             0.7777777777777778,
             "#fb9f3a"
            ],
            [
             0.8888888888888888,
             "#fdca26"
            ],
            [
             1,
             "#f0f921"
            ]
           ]
          },
          "colorway": [
           "#636efa",
           "#EF553B",
           "#00cc96",
           "#ab63fa",
           "#FFA15A",
           "#19d3f3",
           "#FF6692",
           "#B6E880",
           "#FF97FF",
           "#FECB52"
          ],
          "font": {
           "color": "#f2f5fa"
          },
          "geo": {
           "bgcolor": "rgb(17,17,17)",
           "lakecolor": "rgb(17,17,17)",
           "landcolor": "rgb(17,17,17)",
           "showlakes": true,
           "showland": true,
           "subunitcolor": "#506784"
          },
          "hoverlabel": {
           "align": "left"
          },
          "hovermode": "closest",
          "mapbox": {
           "style": "dark"
          },
          "paper_bgcolor": "rgb(17,17,17)",
          "plot_bgcolor": "rgb(17,17,17)",
          "polar": {
           "angularaxis": {
            "gridcolor": "#506784",
            "linecolor": "#506784",
            "ticks": ""
           },
           "bgcolor": "rgb(17,17,17)",
           "radialaxis": {
            "gridcolor": "#506784",
            "linecolor": "#506784",
            "ticks": ""
           }
          },
          "scene": {
           "xaxis": {
            "backgroundcolor": "rgb(17,17,17)",
            "gridcolor": "#506784",
            "gridwidth": 2,
            "linecolor": "#506784",
            "showbackground": true,
            "ticks": "",
            "zerolinecolor": "#C8D4E3"
           },
           "yaxis": {
            "backgroundcolor": "rgb(17,17,17)",
            "gridcolor": "#506784",
            "gridwidth": 2,
            "linecolor": "#506784",
            "showbackground": true,
            "ticks": "",
            "zerolinecolor": "#C8D4E3"
           },
           "zaxis": {
            "backgroundcolor": "rgb(17,17,17)",
            "gridcolor": "#506784",
            "gridwidth": 2,
            "linecolor": "#506784",
            "showbackground": true,
            "ticks": "",
            "zerolinecolor": "#C8D4E3"
           }
          },
          "shapedefaults": {
           "line": {
            "color": "#f2f5fa"
           }
          },
          "sliderdefaults": {
           "bgcolor": "#C8D4E3",
           "bordercolor": "rgb(17,17,17)",
           "borderwidth": 1,
           "tickwidth": 0
          },
          "ternary": {
           "aaxis": {
            "gridcolor": "#506784",
            "linecolor": "#506784",
            "ticks": ""
           },
           "baxis": {
            "gridcolor": "#506784",
            "linecolor": "#506784",
            "ticks": ""
           },
           "bgcolor": "rgb(17,17,17)",
           "caxis": {
            "gridcolor": "#506784",
            "linecolor": "#506784",
            "ticks": ""
           }
          },
          "title": {
           "x": 0.05
          },
          "updatemenudefaults": {
           "bgcolor": "#506784",
           "borderwidth": 0
          },
          "xaxis": {
           "automargin": true,
           "gridcolor": "#283442",
           "linecolor": "#506784",
           "ticks": "",
           "title": {
            "standoff": 15
           },
           "zerolinecolor": "#283442",
           "zerolinewidth": 2
          },
          "yaxis": {
           "automargin": true,
           "gridcolor": "#283442",
           "linecolor": "#506784",
           "ticks": "",
           "title": {
            "standoff": 15
           },
           "zerolinecolor": "#283442",
           "zerolinewidth": 2
          }
         }
        },
        "title": {
         "text": "Course rating distribution across Course certificate type categories"
        },
        "xaxis": {
         "anchor": "y",
         "automargin": true,
         "categoryorder": "total descending",
         "domain": [
          0,
          1
         ],
         "showgrid": false,
         "tickangle": 30,
         "title": {
          "text": "Course Certificate Type"
         },
         "type": "category",
         "zeroline": false
        },
        "yaxis": {
         "anchor": "x",
         "domain": [
          0,
          1
         ],
         "title": {
          "text": "Course Rating"
         }
        }
       }
      }
     },
     "metadata": {},
     "output_type": "display_data"
    }
   ],
   "source": [
    "perform_anova_and_visualize(data, categorical_feature=\"course_Certificate_type\", numerical_feature=\"course_rating\")"
   ]
  },
  {
   "cell_type": "markdown",
   "metadata": {},
   "source": [
    "*Does the average course rating differ significantly between different types of output certificates (course_Certificate_type)?*\n",
    "\n",
    "-> Yes, the course difficulty has an effect on the average course rating, statistically the deviations are considered non-accidental."
   ]
  },
  {
   "cell_type": "code",
   "execution_count": 34,
   "metadata": {},
   "outputs": [
    {
     "data": {
      "application/vnd.plotly.v1+json": {
       "config": {
        "plotlyServerURL": "https://plot.ly"
       },
       "data": [
        {
         "alignmentgroup": "True",
         "hovertemplate": "Course Difficulty=%{x}<br>Course Rating=%{y}<extra></extra>",
         "legendgroup": "",
         "marker": {
          "color": "#636efa"
         },
         "name": "",
         "notched": false,
         "offsetgroup": "",
         "orientation": "v",
         "showlegend": false,
         "type": "box",
         "x": [
          "Beginner",
          "Beginner",
          "Beginner",
          "Beginner",
          "Beginner",
          "Intermediate",
          "Intermediate",
          "Beginner",
          "Beginner",
          "Beginner",
          "Beginner",
          "Beginner",
          "Intermediate",
          "Intermediate",
          "Intermediate",
          "Beginner",
          "Intermediate",
          "Beginner",
          "Intermediate",
          "Intermediate",
          "Beginner",
          "Beginner",
          "Beginner",
          "Beginner",
          "Beginner",
          "Intermediate",
          "Mixed",
          "Beginner",
          "Mixed",
          "Beginner",
          "Beginner",
          "Beginner",
          "Mixed",
          "Beginner",
          "Beginner",
          "Beginner",
          "Beginner",
          "Beginner",
          "Beginner",
          "Beginner",
          "Beginner",
          "Mixed",
          "Beginner",
          "Intermediate",
          "Beginner",
          "Beginner",
          "Beginner",
          "Beginner",
          "Beginner",
          "Beginner",
          "Beginner",
          "Mixed",
          "Beginner",
          "Beginner",
          "Beginner",
          "Beginner",
          "Intermediate",
          "Intermediate",
          "Beginner",
          "Beginner",
          "Beginner",
          "Mixed",
          "Beginner",
          "Intermediate",
          "Mixed",
          "Intermediate",
          "Beginner",
          "Intermediate",
          "Intermediate",
          "Beginner",
          "Beginner",
          "Beginner",
          "Advanced",
          "Beginner",
          "Mixed",
          "Mixed",
          "Intermediate",
          "Mixed",
          "Intermediate",
          "Intermediate",
          "Mixed",
          "Intermediate",
          "Beginner",
          "Beginner",
          "Beginner",
          "Mixed",
          "Beginner",
          "Mixed",
          "Intermediate",
          "Mixed",
          "Advanced",
          "Beginner",
          "Beginner",
          "Intermediate",
          "Beginner",
          "Beginner",
          "Mixed",
          "Beginner",
          "Intermediate",
          "Mixed",
          "Beginner",
          "Mixed",
          "Beginner",
          "Intermediate",
          "Beginner",
          "Intermediate",
          "Mixed",
          "Mixed",
          "Mixed",
          "Advanced",
          "Mixed",
          "Intermediate",
          "Beginner",
          "Beginner",
          "Beginner",
          "Mixed",
          "Intermediate",
          "Beginner",
          "Beginner",
          "Mixed",
          "Advanced",
          "Mixed",
          "Beginner",
          "Beginner",
          "Mixed",
          "Beginner",
          "Beginner",
          "Intermediate",
          "Intermediate",
          "Mixed",
          "Advanced",
          "Mixed",
          "Beginner",
          "Mixed",
          "Beginner",
          "Intermediate",
          "Mixed",
          "Mixed",
          "Mixed",
          "Intermediate",
          "Intermediate",
          "Mixed",
          "Beginner",
          "Beginner",
          "Mixed",
          "Mixed",
          "Beginner",
          "Beginner",
          "Intermediate",
          "Beginner",
          "Mixed",
          "Beginner",
          "Mixed",
          "Intermediate",
          "Beginner",
          "Mixed",
          "Beginner",
          "Beginner",
          "Beginner",
          "Beginner",
          "Intermediate",
          "Intermediate",
          "Beginner",
          "Beginner",
          "Intermediate",
          "Intermediate",
          "Beginner",
          "Beginner",
          "Beginner",
          "Beginner",
          "Mixed",
          "Beginner",
          "Intermediate",
          "Beginner",
          "Beginner",
          "Beginner",
          "Mixed",
          "Mixed",
          "Beginner",
          "Beginner",
          "Beginner",
          "Beginner",
          "Mixed",
          "Mixed",
          "Beginner",
          "Intermediate",
          "Mixed",
          "Mixed",
          "Beginner",
          "Mixed",
          "Beginner",
          "Intermediate",
          "Beginner",
          "Beginner",
          "Intermediate",
          "Beginner",
          "Beginner",
          "Mixed",
          "Mixed",
          "Mixed",
          "Mixed",
          "Mixed",
          "Beginner",
          "Mixed",
          "Beginner",
          "Beginner",
          "Intermediate",
          "Advanced",
          "Beginner",
          "Beginner",
          "Intermediate",
          "Mixed",
          "Beginner",
          "Beginner",
          "Beginner",
          "Beginner",
          "Mixed",
          "Beginner",
          "Beginner",
          "Intermediate",
          "Beginner",
          "Beginner",
          "Mixed",
          "Intermediate",
          "Intermediate",
          "Intermediate",
          "Beginner",
          "Mixed",
          "Intermediate",
          "Mixed",
          "Intermediate",
          "Beginner",
          "Beginner",
          "Beginner",
          "Intermediate",
          "Intermediate",
          "Mixed",
          "Mixed",
          "Beginner",
          "Beginner",
          "Beginner",
          "Beginner",
          "Mixed",
          "Intermediate",
          "Beginner",
          "Intermediate",
          "Intermediate",
          "Beginner",
          "Beginner",
          "Intermediate",
          "Beginner",
          "Intermediate",
          "Mixed",
          "Beginner",
          "Intermediate",
          "Beginner",
          "Intermediate",
          "Mixed",
          "Mixed",
          "Intermediate",
          "Intermediate",
          "Mixed",
          "Beginner",
          "Beginner",
          "Mixed",
          "Beginner",
          "Beginner",
          "Mixed",
          "Beginner",
          "Intermediate",
          "Intermediate",
          "Mixed",
          "Intermediate",
          "Mixed",
          "Mixed",
          "Intermediate",
          "Beginner",
          "Beginner",
          "Mixed",
          "Mixed",
          "Beginner",
          "Intermediate"
         ],
         "x0": " ",
         "xaxis": "x",
         "y": [
          4.6,
          4.6,
          4.8,
          4.7,
          4.6,
          4.7,
          4.7,
          4.6,
          4.5,
          4.6,
          4.5,
          4.6,
          4.7,
          4.7,
          4.7,
          4.9,
          4.6,
          4.5,
          4.6,
          4.5,
          4.6,
          4.7,
          4.6,
          4.8,
          4.8,
          4.6,
          4.8,
          4.6,
          4.8,
          4.7,
          4.4,
          4.6,
          4.8,
          4.7,
          4.7,
          4.7,
          4.7,
          4.7,
          4.6,
          4.6,
          4.5,
          4.7,
          4.6,
          4.4,
          4.8,
          4.7,
          4.6,
          4.7,
          4.7,
          4.5,
          4.7,
          4.9,
          4.6,
          4.7,
          4.8,
          4.8,
          4.8,
          4.5,
          4.7,
          4.6,
          4.8,
          4.8,
          4.5,
          4.5,
          4.7,
          4.7,
          4.6,
          4.4,
          4.7,
          4.6,
          4.6,
          4.6,
          4.4,
          4.8,
          4.6,
          4.7,
          4.7,
          4.8,
          3.9,
          4.8,
          4.8,
          4.5,
          4.7,
          4.8,
          4.6,
          4.8,
          4.6,
          4.7,
          4.6,
          4.6,
          4.9,
          4.8,
          4.8,
          4.6,
          4.7,
          4.8,
          4.6,
          4.5,
          4.8,
          4.8,
          4.6,
          4.8,
          4.8,
          4.7,
          4.7,
          4.6,
          4.8,
          4.4,
          4.7,
          4.8,
          4.6,
          4.7,
          4.7,
          4.8,
          4.7,
          4.8,
          4.5,
          4.6,
          4.3,
          4.8,
          4.5,
          4.7,
          4.8,
          4.7,
          4.8,
          4.7,
          4.4,
          4.6,
          4.7,
          4.8,
          4.5,
          4.8,
          4.6,
          4.6,
          4.8,
          4.6,
          4.2,
          4.8,
          4.2,
          4.7,
          4.4,
          4.8,
          4.6,
          4.7,
          4.5,
          4.5,
          4.6,
          4.6,
          4.7,
          4.5,
          4.7,
          4.6,
          4.6,
          4.5,
          4.5,
          4.7,
          4.5,
          4.8,
          4.7,
          4.6,
          4.6,
          4.5,
          4.8,
          4.7,
          4.4,
          4.5,
          4.3,
          4.6,
          4.6,
          4.8,
          4.8,
          4.8,
          4.7,
          4.7,
          4.7,
          4.8,
          4.6,
          4.7,
          4.7,
          4.5,
          4.7,
          4.7,
          4.9,
          4.7,
          4.9,
          4.6,
          4.8,
          4.8,
          4.6,
          4.8,
          4.8,
          4.7,
          4.6,
          4.5,
          4.7,
          4.7,
          4.7,
          4.5,
          4.7,
          4.6,
          4.8,
          4.2,
          4.8,
          4.7,
          4.5,
          4.3,
          4.7,
          4.4,
          4.5,
          4.5,
          4.9,
          4.8,
          4.6,
          4.8,
          4.6,
          4.8,
          4.5,
          4.8,
          4.5,
          4.3,
          4.6,
          4.7,
          4.7,
          4.6,
          4.7,
          4.8,
          4.6,
          4.9,
          4.5,
          4.8,
          4.7,
          4.5,
          4.8,
          4.8,
          4.4,
          4.8,
          4.8,
          4.7,
          4.8,
          4.5,
          4.8,
          4.7,
          4.6,
          4.7,
          4.7,
          4.8,
          4.8,
          4.2,
          4.7,
          4.6,
          4.8,
          4.5,
          4.8,
          4.6,
          4.7,
          4.8,
          4.7,
          4.9,
          4.8,
          4.7,
          4.8,
          4.8,
          4.7,
          4.7,
          4.6,
          4.8,
          4.7,
          4.8,
          4.6,
          4.4,
          4.6,
          4.7,
          4.7,
          4.4,
          4.8,
          4.7,
          4.8,
          4.7,
          4.5,
          4.6,
          4.8,
          4.6
         ],
         "y0": " ",
         "yaxis": "y"
        }
       ],
       "layout": {
        "annotations": [
         {
          "bordercolor": "white",
          "borderwidth": 1,
          "font": {
           "color": "white",
           "size": 16
          },
          "showarrow": false,
          "text": "F-statistic: 3.73, p-value: 1.180e-02",
          "x": 0,
          "xref": "paper",
          "y": 1.1,
          "yref": "paper"
         }
        ],
        "boxmode": "group",
        "font": {
         "size": 14
        },
        "height": 600,
        "legend": {
         "tracegroupgap": 0
        },
        "margin": {
         "b": 100,
         "l": 100,
         "r": 100,
         "t": 100
        },
        "template": {
         "data": {
          "bar": [
           {
            "error_x": {
             "color": "#f2f5fa"
            },
            "error_y": {
             "color": "#f2f5fa"
            },
            "marker": {
             "line": {
              "color": "rgb(17,17,17)",
              "width": 0.5
             },
             "pattern": {
              "fillmode": "overlay",
              "size": 10,
              "solidity": 0.2
             }
            },
            "type": "bar"
           }
          ],
          "barpolar": [
           {
            "marker": {
             "line": {
              "color": "rgb(17,17,17)",
              "width": 0.5
             },
             "pattern": {
              "fillmode": "overlay",
              "size": 10,
              "solidity": 0.2
             }
            },
            "type": "barpolar"
           }
          ],
          "carpet": [
           {
            "aaxis": {
             "endlinecolor": "#A2B1C6",
             "gridcolor": "#506784",
             "linecolor": "#506784",
             "minorgridcolor": "#506784",
             "startlinecolor": "#A2B1C6"
            },
            "baxis": {
             "endlinecolor": "#A2B1C6",
             "gridcolor": "#506784",
             "linecolor": "#506784",
             "minorgridcolor": "#506784",
             "startlinecolor": "#A2B1C6"
            },
            "type": "carpet"
           }
          ],
          "choropleth": [
           {
            "colorbar": {
             "outlinewidth": 0,
             "ticks": ""
            },
            "type": "choropleth"
           }
          ],
          "contour": [
           {
            "colorbar": {
             "outlinewidth": 0,
             "ticks": ""
            },
            "colorscale": [
             [
              0,
              "#0d0887"
             ],
             [
              0.1111111111111111,
              "#46039f"
             ],
             [
              0.2222222222222222,
              "#7201a8"
             ],
             [
              0.3333333333333333,
              "#9c179e"
             ],
             [
              0.4444444444444444,
              "#bd3786"
             ],
             [
              0.5555555555555556,
              "#d8576b"
             ],
             [
              0.6666666666666666,
              "#ed7953"
             ],
             [
              0.7777777777777778,
              "#fb9f3a"
             ],
             [
              0.8888888888888888,
              "#fdca26"
             ],
             [
              1,
              "#f0f921"
             ]
            ],
            "type": "contour"
           }
          ],
          "contourcarpet": [
           {
            "colorbar": {
             "outlinewidth": 0,
             "ticks": ""
            },
            "type": "contourcarpet"
           }
          ],
          "heatmap": [
           {
            "colorbar": {
             "outlinewidth": 0,
             "ticks": ""
            },
            "colorscale": [
             [
              0,
              "#0d0887"
             ],
             [
              0.1111111111111111,
              "#46039f"
             ],
             [
              0.2222222222222222,
              "#7201a8"
             ],
             [
              0.3333333333333333,
              "#9c179e"
             ],
             [
              0.4444444444444444,
              "#bd3786"
             ],
             [
              0.5555555555555556,
              "#d8576b"
             ],
             [
              0.6666666666666666,
              "#ed7953"
             ],
             [
              0.7777777777777778,
              "#fb9f3a"
             ],
             [
              0.8888888888888888,
              "#fdca26"
             ],
             [
              1,
              "#f0f921"
             ]
            ],
            "type": "heatmap"
           }
          ],
          "heatmapgl": [
           {
            "colorbar": {
             "outlinewidth": 0,
             "ticks": ""
            },
            "colorscale": [
             [
              0,
              "#0d0887"
             ],
             [
              0.1111111111111111,
              "#46039f"
             ],
             [
              0.2222222222222222,
              "#7201a8"
             ],
             [
              0.3333333333333333,
              "#9c179e"
             ],
             [
              0.4444444444444444,
              "#bd3786"
             ],
             [
              0.5555555555555556,
              "#d8576b"
             ],
             [
              0.6666666666666666,
              "#ed7953"
             ],
             [
              0.7777777777777778,
              "#fb9f3a"
             ],
             [
              0.8888888888888888,
              "#fdca26"
             ],
             [
              1,
              "#f0f921"
             ]
            ],
            "type": "heatmapgl"
           }
          ],
          "histogram": [
           {
            "marker": {
             "pattern": {
              "fillmode": "overlay",
              "size": 10,
              "solidity": 0.2
             }
            },
            "type": "histogram"
           }
          ],
          "histogram2d": [
           {
            "colorbar": {
             "outlinewidth": 0,
             "ticks": ""
            },
            "colorscale": [
             [
              0,
              "#0d0887"
             ],
             [
              0.1111111111111111,
              "#46039f"
             ],
             [
              0.2222222222222222,
              "#7201a8"
             ],
             [
              0.3333333333333333,
              "#9c179e"
             ],
             [
              0.4444444444444444,
              "#bd3786"
             ],
             [
              0.5555555555555556,
              "#d8576b"
             ],
             [
              0.6666666666666666,
              "#ed7953"
             ],
             [
              0.7777777777777778,
              "#fb9f3a"
             ],
             [
              0.8888888888888888,
              "#fdca26"
             ],
             [
              1,
              "#f0f921"
             ]
            ],
            "type": "histogram2d"
           }
          ],
          "histogram2dcontour": [
           {
            "colorbar": {
             "outlinewidth": 0,
             "ticks": ""
            },
            "colorscale": [
             [
              0,
              "#0d0887"
             ],
             [
              0.1111111111111111,
              "#46039f"
             ],
             [
              0.2222222222222222,
              "#7201a8"
             ],
             [
              0.3333333333333333,
              "#9c179e"
             ],
             [
              0.4444444444444444,
              "#bd3786"
             ],
             [
              0.5555555555555556,
              "#d8576b"
             ],
             [
              0.6666666666666666,
              "#ed7953"
             ],
             [
              0.7777777777777778,
              "#fb9f3a"
             ],
             [
              0.8888888888888888,
              "#fdca26"
             ],
             [
              1,
              "#f0f921"
             ]
            ],
            "type": "histogram2dcontour"
           }
          ],
          "mesh3d": [
           {
            "colorbar": {
             "outlinewidth": 0,
             "ticks": ""
            },
            "type": "mesh3d"
           }
          ],
          "parcoords": [
           {
            "line": {
             "colorbar": {
              "outlinewidth": 0,
              "ticks": ""
             }
            },
            "type": "parcoords"
           }
          ],
          "pie": [
           {
            "automargin": true,
            "type": "pie"
           }
          ],
          "scatter": [
           {
            "marker": {
             "line": {
              "color": "#283442"
             }
            },
            "type": "scatter"
           }
          ],
          "scatter3d": [
           {
            "line": {
             "colorbar": {
              "outlinewidth": 0,
              "ticks": ""
             }
            },
            "marker": {
             "colorbar": {
              "outlinewidth": 0,
              "ticks": ""
             }
            },
            "type": "scatter3d"
           }
          ],
          "scattercarpet": [
           {
            "marker": {
             "colorbar": {
              "outlinewidth": 0,
              "ticks": ""
             }
            },
            "type": "scattercarpet"
           }
          ],
          "scattergeo": [
           {
            "marker": {
             "colorbar": {
              "outlinewidth": 0,
              "ticks": ""
             }
            },
            "type": "scattergeo"
           }
          ],
          "scattergl": [
           {
            "marker": {
             "line": {
              "color": "#283442"
             }
            },
            "type": "scattergl"
           }
          ],
          "scattermapbox": [
           {
            "marker": {
             "colorbar": {
              "outlinewidth": 0,
              "ticks": ""
             }
            },
            "type": "scattermapbox"
           }
          ],
          "scatterpolar": [
           {
            "marker": {
             "colorbar": {
              "outlinewidth": 0,
              "ticks": ""
             }
            },
            "type": "scatterpolar"
           }
          ],
          "scatterpolargl": [
           {
            "marker": {
             "colorbar": {
              "outlinewidth": 0,
              "ticks": ""
             }
            },
            "type": "scatterpolargl"
           }
          ],
          "scatterternary": [
           {
            "marker": {
             "colorbar": {
              "outlinewidth": 0,
              "ticks": ""
             }
            },
            "type": "scatterternary"
           }
          ],
          "surface": [
           {
            "colorbar": {
             "outlinewidth": 0,
             "ticks": ""
            },
            "colorscale": [
             [
              0,
              "#0d0887"
             ],
             [
              0.1111111111111111,
              "#46039f"
             ],
             [
              0.2222222222222222,
              "#7201a8"
             ],
             [
              0.3333333333333333,
              "#9c179e"
             ],
             [
              0.4444444444444444,
              "#bd3786"
             ],
             [
              0.5555555555555556,
              "#d8576b"
             ],
             [
              0.6666666666666666,
              "#ed7953"
             ],
             [
              0.7777777777777778,
              "#fb9f3a"
             ],
             [
              0.8888888888888888,
              "#fdca26"
             ],
             [
              1,
              "#f0f921"
             ]
            ],
            "type": "surface"
           }
          ],
          "table": [
           {
            "cells": {
             "fill": {
              "color": "#506784"
             },
             "line": {
              "color": "rgb(17,17,17)"
             }
            },
            "header": {
             "fill": {
              "color": "#2a3f5f"
             },
             "line": {
              "color": "rgb(17,17,17)"
             }
            },
            "type": "table"
           }
          ]
         },
         "layout": {
          "annotationdefaults": {
           "arrowcolor": "#f2f5fa",
           "arrowhead": 0,
           "arrowwidth": 1
          },
          "autotypenumbers": "strict",
          "coloraxis": {
           "colorbar": {
            "outlinewidth": 0,
            "ticks": ""
           }
          },
          "colorscale": {
           "diverging": [
            [
             0,
             "#8e0152"
            ],
            [
             0.1,
             "#c51b7d"
            ],
            [
             0.2,
             "#de77ae"
            ],
            [
             0.3,
             "#f1b6da"
            ],
            [
             0.4,
             "#fde0ef"
            ],
            [
             0.5,
             "#f7f7f7"
            ],
            [
             0.6,
             "#e6f5d0"
            ],
            [
             0.7,
             "#b8e186"
            ],
            [
             0.8,
             "#7fbc41"
            ],
            [
             0.9,
             "#4d9221"
            ],
            [
             1,
             "#276419"
            ]
           ],
           "sequential": [
            [
             0,
             "#0d0887"
            ],
            [
             0.1111111111111111,
             "#46039f"
            ],
            [
             0.2222222222222222,
             "#7201a8"
            ],
            [
             0.3333333333333333,
             "#9c179e"
            ],
            [
             0.4444444444444444,
             "#bd3786"
            ],
            [
             0.5555555555555556,
             "#d8576b"
            ],
            [
             0.6666666666666666,
             "#ed7953"
            ],
            [
             0.7777777777777778,
             "#fb9f3a"
            ],
            [
             0.8888888888888888,
             "#fdca26"
            ],
            [
             1,
             "#f0f921"
            ]
           ],
           "sequentialminus": [
            [
             0,
             "#0d0887"
            ],
            [
             0.1111111111111111,
             "#46039f"
            ],
            [
             0.2222222222222222,
             "#7201a8"
            ],
            [
             0.3333333333333333,
             "#9c179e"
            ],
            [
             0.4444444444444444,
             "#bd3786"
            ],
            [
             0.5555555555555556,
             "#d8576b"
            ],
            [
             0.6666666666666666,
             "#ed7953"
            ],
            [
             0.7777777777777778,
             "#fb9f3a"
            ],
            [
             0.8888888888888888,
             "#fdca26"
            ],
            [
             1,
             "#f0f921"
            ]
           ]
          },
          "colorway": [
           "#636efa",
           "#EF553B",
           "#00cc96",
           "#ab63fa",
           "#FFA15A",
           "#19d3f3",
           "#FF6692",
           "#B6E880",
           "#FF97FF",
           "#FECB52"
          ],
          "font": {
           "color": "#f2f5fa"
          },
          "geo": {
           "bgcolor": "rgb(17,17,17)",
           "lakecolor": "rgb(17,17,17)",
           "landcolor": "rgb(17,17,17)",
           "showlakes": true,
           "showland": true,
           "subunitcolor": "#506784"
          },
          "hoverlabel": {
           "align": "left"
          },
          "hovermode": "closest",
          "mapbox": {
           "style": "dark"
          },
          "paper_bgcolor": "rgb(17,17,17)",
          "plot_bgcolor": "rgb(17,17,17)",
          "polar": {
           "angularaxis": {
            "gridcolor": "#506784",
            "linecolor": "#506784",
            "ticks": ""
           },
           "bgcolor": "rgb(17,17,17)",
           "radialaxis": {
            "gridcolor": "#506784",
            "linecolor": "#506784",
            "ticks": ""
           }
          },
          "scene": {
           "xaxis": {
            "backgroundcolor": "rgb(17,17,17)",
            "gridcolor": "#506784",
            "gridwidth": 2,
            "linecolor": "#506784",
            "showbackground": true,
            "ticks": "",
            "zerolinecolor": "#C8D4E3"
           },
           "yaxis": {
            "backgroundcolor": "rgb(17,17,17)",
            "gridcolor": "#506784",
            "gridwidth": 2,
            "linecolor": "#506784",
            "showbackground": true,
            "ticks": "",
            "zerolinecolor": "#C8D4E3"
           },
           "zaxis": {
            "backgroundcolor": "rgb(17,17,17)",
            "gridcolor": "#506784",
            "gridwidth": 2,
            "linecolor": "#506784",
            "showbackground": true,
            "ticks": "",
            "zerolinecolor": "#C8D4E3"
           }
          },
          "shapedefaults": {
           "line": {
            "color": "#f2f5fa"
           }
          },
          "sliderdefaults": {
           "bgcolor": "#C8D4E3",
           "bordercolor": "rgb(17,17,17)",
           "borderwidth": 1,
           "tickwidth": 0
          },
          "ternary": {
           "aaxis": {
            "gridcolor": "#506784",
            "linecolor": "#506784",
            "ticks": ""
           },
           "baxis": {
            "gridcolor": "#506784",
            "linecolor": "#506784",
            "ticks": ""
           },
           "bgcolor": "rgb(17,17,17)",
           "caxis": {
            "gridcolor": "#506784",
            "linecolor": "#506784",
            "ticks": ""
           }
          },
          "title": {
           "x": 0.05
          },
          "updatemenudefaults": {
           "bgcolor": "#506784",
           "borderwidth": 0
          },
          "xaxis": {
           "automargin": true,
           "gridcolor": "#283442",
           "linecolor": "#506784",
           "ticks": "",
           "title": {
            "standoff": 15
           },
           "zerolinecolor": "#283442",
           "zerolinewidth": 2
          },
          "yaxis": {
           "automargin": true,
           "gridcolor": "#283442",
           "linecolor": "#506784",
           "ticks": "",
           "title": {
            "standoff": 15
           },
           "zerolinecolor": "#283442",
           "zerolinewidth": 2
          }
         }
        },
        "title": {
         "text": "Course rating distribution across Course difficulty categories"
        },
        "xaxis": {
         "anchor": "y",
         "automargin": true,
         "categoryorder": "total descending",
         "domain": [
          0,
          1
         ],
         "showgrid": false,
         "tickangle": 30,
         "title": {
          "text": "Course Difficulty"
         },
         "type": "category",
         "zeroline": false
        },
        "yaxis": {
         "anchor": "x",
         "domain": [
          0,
          1
         ],
         "title": {
          "text": "Course Rating"
         }
        }
       }
      }
     },
     "metadata": {},
     "output_type": "display_data"
    }
   ],
   "source": [
    "perform_anova_and_visualize(data, categorical_feature=\"course_difficulty\", numerical_feature=\"course_rating\")"
   ]
  },
  {
   "cell_type": "markdown",
   "metadata": {},
   "source": [
    "*Does the number of enrolled students differ significantly between course difficulties?*\n",
    "\n",
    "-> No, statistically speaking the difficulty has no direct effect on the number of enrolled students."
   ]
  },
  {
   "cell_type": "code",
   "execution_count": 35,
   "metadata": {},
   "outputs": [
    {
     "data": {
      "application/vnd.plotly.v1+json": {
       "config": {
        "plotlyServerURL": "https://plot.ly"
       },
       "data": [
        {
         "alignmentgroup": "True",
         "hovertemplate": "Course Difficulty=%{x}<br>Course Students Enrolled=%{y}<extra></extra>",
         "legendgroup": "",
         "marker": {
          "color": "#636efa"
         },
         "name": "",
         "notched": false,
         "offsetgroup": "",
         "orientation": "v",
         "showlegend": false,
         "type": "box",
         "x": [
          "Beginner",
          "Beginner",
          "Beginner",
          "Beginner",
          "Beginner",
          "Intermediate",
          "Intermediate",
          "Beginner",
          "Beginner",
          "Beginner",
          "Beginner",
          "Beginner",
          "Intermediate",
          "Intermediate",
          "Intermediate",
          "Beginner",
          "Intermediate",
          "Beginner",
          "Intermediate",
          "Intermediate",
          "Beginner",
          "Beginner",
          "Beginner",
          "Beginner",
          "Beginner",
          "Intermediate",
          "Mixed",
          "Beginner",
          "Mixed",
          "Beginner",
          "Beginner",
          "Beginner",
          "Mixed",
          "Beginner",
          "Beginner",
          "Beginner",
          "Beginner",
          "Beginner",
          "Beginner",
          "Beginner",
          "Beginner",
          "Mixed",
          "Beginner",
          "Intermediate",
          "Beginner",
          "Beginner",
          "Beginner",
          "Beginner",
          "Beginner",
          "Beginner",
          "Beginner",
          "Mixed",
          "Beginner",
          "Beginner",
          "Beginner",
          "Beginner",
          "Intermediate",
          "Intermediate",
          "Beginner",
          "Beginner",
          "Beginner",
          "Mixed",
          "Beginner",
          "Intermediate",
          "Mixed",
          "Intermediate",
          "Beginner",
          "Intermediate",
          "Intermediate",
          "Beginner",
          "Beginner",
          "Beginner",
          "Advanced",
          "Beginner",
          "Mixed",
          "Mixed",
          "Intermediate",
          "Mixed",
          "Intermediate",
          "Intermediate",
          "Mixed",
          "Intermediate",
          "Beginner",
          "Beginner",
          "Beginner",
          "Mixed",
          "Beginner",
          "Mixed",
          "Intermediate",
          "Mixed",
          "Advanced",
          "Beginner",
          "Beginner",
          "Intermediate",
          "Beginner",
          "Beginner",
          "Mixed",
          "Beginner",
          "Intermediate",
          "Mixed",
          "Beginner",
          "Mixed",
          "Beginner",
          "Intermediate",
          "Beginner",
          "Intermediate",
          "Mixed",
          "Mixed",
          "Mixed",
          "Advanced",
          "Mixed",
          "Intermediate",
          "Beginner",
          "Beginner",
          "Beginner",
          "Mixed",
          "Intermediate",
          "Beginner",
          "Beginner",
          "Mixed",
          "Advanced",
          "Mixed",
          "Beginner",
          "Beginner",
          "Mixed",
          "Beginner",
          "Beginner",
          "Intermediate",
          "Intermediate",
          "Mixed",
          "Advanced",
          "Mixed",
          "Beginner",
          "Mixed",
          "Beginner",
          "Intermediate",
          "Mixed",
          "Mixed",
          "Mixed",
          "Intermediate",
          "Intermediate",
          "Mixed",
          "Beginner",
          "Beginner",
          "Mixed",
          "Mixed",
          "Beginner",
          "Beginner",
          "Intermediate",
          "Beginner",
          "Mixed",
          "Beginner",
          "Mixed",
          "Intermediate",
          "Beginner",
          "Mixed",
          "Beginner",
          "Beginner",
          "Beginner",
          "Beginner",
          "Intermediate",
          "Intermediate",
          "Beginner",
          "Beginner",
          "Intermediate",
          "Intermediate",
          "Beginner",
          "Beginner",
          "Beginner",
          "Beginner",
          "Mixed",
          "Beginner",
          "Intermediate",
          "Beginner",
          "Beginner",
          "Beginner",
          "Mixed",
          "Mixed",
          "Beginner",
          "Beginner",
          "Beginner",
          "Beginner",
          "Mixed",
          "Mixed",
          "Beginner",
          "Intermediate",
          "Mixed",
          "Mixed",
          "Beginner",
          "Mixed",
          "Beginner",
          "Intermediate",
          "Beginner",
          "Beginner",
          "Intermediate",
          "Beginner",
          "Beginner",
          "Mixed",
          "Mixed",
          "Mixed",
          "Mixed",
          "Mixed",
          "Beginner",
          "Mixed",
          "Beginner",
          "Beginner",
          "Intermediate",
          "Advanced",
          "Beginner",
          "Beginner",
          "Intermediate",
          "Mixed",
          "Beginner",
          "Beginner",
          "Beginner",
          "Beginner",
          "Mixed",
          "Beginner",
          "Beginner",
          "Intermediate",
          "Beginner",
          "Beginner",
          "Mixed",
          "Intermediate",
          "Intermediate",
          "Intermediate",
          "Beginner",
          "Mixed",
          "Intermediate",
          "Mixed",
          "Intermediate",
          "Beginner",
          "Beginner",
          "Beginner",
          "Intermediate",
          "Intermediate",
          "Mixed",
          "Mixed",
          "Beginner",
          "Beginner",
          "Beginner",
          "Beginner",
          "Mixed",
          "Intermediate",
          "Beginner",
          "Intermediate",
          "Intermediate",
          "Beginner",
          "Beginner",
          "Intermediate",
          "Beginner",
          "Intermediate",
          "Mixed",
          "Beginner",
          "Intermediate",
          "Beginner",
          "Intermediate",
          "Mixed",
          "Mixed",
          "Intermediate",
          "Intermediate",
          "Mixed",
          "Beginner",
          "Beginner",
          "Mixed",
          "Beginner",
          "Beginner",
          "Mixed",
          "Beginner",
          "Intermediate",
          "Intermediate",
          "Mixed",
          "Intermediate",
          "Mixed",
          "Mixed",
          "Intermediate",
          "Beginner",
          "Beginner",
          "Mixed",
          "Mixed",
          "Beginner",
          "Intermediate"
         ],
         "x0": " ",
         "xaxis": "x",
         "y": [
          480000,
          310000,
          1500000,
          510000,
          220000,
          310000,
          310000,
          220000,
          830000,
          740000,
          260000,
          280000,
          300000,
          300000,
          290000,
          220000,
          120000,
          160000,
          120000,
          480000,
          380000,
          230000,
          440000,
          89000,
          110000,
          140000,
          190000,
          490000,
          750000,
          280000,
          790000,
          380000,
          1300000,
          110000,
          61000,
          31000,
          220000,
          540000,
          22000,
          20000,
          96000,
          150000,
          160000,
          80000,
          97000,
          220000,
          330000,
          260000,
          100000,
          35000,
          36000,
          420000,
          80000,
          10000,
          23000,
          30000,
          8700,
          72000,
          24000,
          34000,
          14000,
          220000,
          170000,
          100000,
          67000,
          22000,
          120000,
          210000,
          76000,
          270000,
          170000,
          44000,
          320000,
          23000,
          110000,
          180000,
          120000,
          760000,
          15000,
          120000,
          190000,
          390000,
          82000,
          110000,
          89000,
          310000,
          26000,
          200000,
          18000,
          56000,
          170000,
          33000,
          230000,
          120000,
          32000,
          50000,
          420000,
          8100,
          12000,
          86000,
          17000,
          67000,
          25000,
          63000,
          110000,
          58000,
          110000,
          55000,
          270000,
          52000,
          180000,
          37000,
          110000,
          110000,
          190000,
          260000,
          7900,
          39000,
          23000,
          130000,
          16000,
          220000,
          8800,
          310000,
          69000,
          31000,
          120000,
          480000,
          120000,
          57000,
          35000,
          240000,
          160000,
          130000,
          14000,
          16000,
          76000,
          95000,
          12000,
          83000,
          110000,
          220000,
          3800,
          6500,
          17000,
          84000,
          250000,
          4900,
          1700,
          22000,
          430000,
          5800,
          150000,
          78000,
          10000,
          80000,
          140000,
          3300,
          55000,
          18000,
          66000,
          75000,
          86000,
          44000,
          140000,
          4200,
          66000,
          78000,
          30000,
          9700,
          85000,
          7200,
          68000,
          12000,
          14000,
          38000,
          2300,
          34000,
          30000,
          30000,
          160000,
          10000,
          40000,
          84000,
          73000,
          97000,
          38000,
          74000,
          71000,
          130000,
          20000,
          21000,
          160000,
          81000,
          9100,
          110000,
          24000,
          87000,
          120000,
          82000,
          6200,
          280000,
          26000,
          71000,
          27000,
          52000,
          57000,
          3500,
          34000,
          3900,
          9400,
          16000,
          200000,
          11000,
          2600,
          110000,
          80000,
          23000,
          69000,
          24000,
          200000,
          76000,
          47000,
          150000,
          42000,
          4000,
          40000,
          33000,
          7300,
          84000,
          79000,
          22000,
          25000,
          29000,
          3000,
          12000,
          21000,
          130000,
          6000,
          1800,
          59000,
          31000,
          36000,
          14000,
          23000,
          10000,
          9900,
          70000,
          19000,
          59000,
          4100,
          5400,
          7600,
          25000,
          17000,
          16000,
          5900,
          3400,
          62000,
          19000,
          17000,
          8100,
          4500,
          22000,
          31000,
          20000,
          9500,
          14000,
          1700,
          6400,
          9700,
          48000,
          36000,
          57000,
          7200,
          21000,
          12000,
          18000,
          130000,
          42000,
          46000,
          5800
         ],
         "y0": " ",
         "yaxis": "y"
        }
       ],
       "layout": {
        "annotations": [
         {
          "bordercolor": "white",
          "borderwidth": 1,
          "font": {
           "color": "white",
           "size": 16
          },
          "showarrow": false,
          "text": "F-statistic: 1.25, p-value: 2.929e-01",
          "x": 0,
          "xref": "paper",
          "y": 1.1,
          "yref": "paper"
         }
        ],
        "boxmode": "group",
        "font": {
         "size": 14
        },
        "height": 600,
        "legend": {
         "tracegroupgap": 0
        },
        "margin": {
         "b": 100,
         "l": 100,
         "r": 100,
         "t": 100
        },
        "template": {
         "data": {
          "bar": [
           {
            "error_x": {
             "color": "#f2f5fa"
            },
            "error_y": {
             "color": "#f2f5fa"
            },
            "marker": {
             "line": {
              "color": "rgb(17,17,17)",
              "width": 0.5
             },
             "pattern": {
              "fillmode": "overlay",
              "size": 10,
              "solidity": 0.2
             }
            },
            "type": "bar"
           }
          ],
          "barpolar": [
           {
            "marker": {
             "line": {
              "color": "rgb(17,17,17)",
              "width": 0.5
             },
             "pattern": {
              "fillmode": "overlay",
              "size": 10,
              "solidity": 0.2
             }
            },
            "type": "barpolar"
           }
          ],
          "carpet": [
           {
            "aaxis": {
             "endlinecolor": "#A2B1C6",
             "gridcolor": "#506784",
             "linecolor": "#506784",
             "minorgridcolor": "#506784",
             "startlinecolor": "#A2B1C6"
            },
            "baxis": {
             "endlinecolor": "#A2B1C6",
             "gridcolor": "#506784",
             "linecolor": "#506784",
             "minorgridcolor": "#506784",
             "startlinecolor": "#A2B1C6"
            },
            "type": "carpet"
           }
          ],
          "choropleth": [
           {
            "colorbar": {
             "outlinewidth": 0,
             "ticks": ""
            },
            "type": "choropleth"
           }
          ],
          "contour": [
           {
            "colorbar": {
             "outlinewidth": 0,
             "ticks": ""
            },
            "colorscale": [
             [
              0,
              "#0d0887"
             ],
             [
              0.1111111111111111,
              "#46039f"
             ],
             [
              0.2222222222222222,
              "#7201a8"
             ],
             [
              0.3333333333333333,
              "#9c179e"
             ],
             [
              0.4444444444444444,
              "#bd3786"
             ],
             [
              0.5555555555555556,
              "#d8576b"
             ],
             [
              0.6666666666666666,
              "#ed7953"
             ],
             [
              0.7777777777777778,
              "#fb9f3a"
             ],
             [
              0.8888888888888888,
              "#fdca26"
             ],
             [
              1,
              "#f0f921"
             ]
            ],
            "type": "contour"
           }
          ],
          "contourcarpet": [
           {
            "colorbar": {
             "outlinewidth": 0,
             "ticks": ""
            },
            "type": "contourcarpet"
           }
          ],
          "heatmap": [
           {
            "colorbar": {
             "outlinewidth": 0,
             "ticks": ""
            },
            "colorscale": [
             [
              0,
              "#0d0887"
             ],
             [
              0.1111111111111111,
              "#46039f"
             ],
             [
              0.2222222222222222,
              "#7201a8"
             ],
             [
              0.3333333333333333,
              "#9c179e"
             ],
             [
              0.4444444444444444,
              "#bd3786"
             ],
             [
              0.5555555555555556,
              "#d8576b"
             ],
             [
              0.6666666666666666,
              "#ed7953"
             ],
             [
              0.7777777777777778,
              "#fb9f3a"
             ],
             [
              0.8888888888888888,
              "#fdca26"
             ],
             [
              1,
              "#f0f921"
             ]
            ],
            "type": "heatmap"
           }
          ],
          "heatmapgl": [
           {
            "colorbar": {
             "outlinewidth": 0,
             "ticks": ""
            },
            "colorscale": [
             [
              0,
              "#0d0887"
             ],
             [
              0.1111111111111111,
              "#46039f"
             ],
             [
              0.2222222222222222,
              "#7201a8"
             ],
             [
              0.3333333333333333,
              "#9c179e"
             ],
             [
              0.4444444444444444,
              "#bd3786"
             ],
             [
              0.5555555555555556,
              "#d8576b"
             ],
             [
              0.6666666666666666,
              "#ed7953"
             ],
             [
              0.7777777777777778,
              "#fb9f3a"
             ],
             [
              0.8888888888888888,
              "#fdca26"
             ],
             [
              1,
              "#f0f921"
             ]
            ],
            "type": "heatmapgl"
           }
          ],
          "histogram": [
           {
            "marker": {
             "pattern": {
              "fillmode": "overlay",
              "size": 10,
              "solidity": 0.2
             }
            },
            "type": "histogram"
           }
          ],
          "histogram2d": [
           {
            "colorbar": {
             "outlinewidth": 0,
             "ticks": ""
            },
            "colorscale": [
             [
              0,
              "#0d0887"
             ],
             [
              0.1111111111111111,
              "#46039f"
             ],
             [
              0.2222222222222222,
              "#7201a8"
             ],
             [
              0.3333333333333333,
              "#9c179e"
             ],
             [
              0.4444444444444444,
              "#bd3786"
             ],
             [
              0.5555555555555556,
              "#d8576b"
             ],
             [
              0.6666666666666666,
              "#ed7953"
             ],
             [
              0.7777777777777778,
              "#fb9f3a"
             ],
             [
              0.8888888888888888,
              "#fdca26"
             ],
             [
              1,
              "#f0f921"
             ]
            ],
            "type": "histogram2d"
           }
          ],
          "histogram2dcontour": [
           {
            "colorbar": {
             "outlinewidth": 0,
             "ticks": ""
            },
            "colorscale": [
             [
              0,
              "#0d0887"
             ],
             [
              0.1111111111111111,
              "#46039f"
             ],
             [
              0.2222222222222222,
              "#7201a8"
             ],
             [
              0.3333333333333333,
              "#9c179e"
             ],
             [
              0.4444444444444444,
              "#bd3786"
             ],
             [
              0.5555555555555556,
              "#d8576b"
             ],
             [
              0.6666666666666666,
              "#ed7953"
             ],
             [
              0.7777777777777778,
              "#fb9f3a"
             ],
             [
              0.8888888888888888,
              "#fdca26"
             ],
             [
              1,
              "#f0f921"
             ]
            ],
            "type": "histogram2dcontour"
           }
          ],
          "mesh3d": [
           {
            "colorbar": {
             "outlinewidth": 0,
             "ticks": ""
            },
            "type": "mesh3d"
           }
          ],
          "parcoords": [
           {
            "line": {
             "colorbar": {
              "outlinewidth": 0,
              "ticks": ""
             }
            },
            "type": "parcoords"
           }
          ],
          "pie": [
           {
            "automargin": true,
            "type": "pie"
           }
          ],
          "scatter": [
           {
            "marker": {
             "line": {
              "color": "#283442"
             }
            },
            "type": "scatter"
           }
          ],
          "scatter3d": [
           {
            "line": {
             "colorbar": {
              "outlinewidth": 0,
              "ticks": ""
             }
            },
            "marker": {
             "colorbar": {
              "outlinewidth": 0,
              "ticks": ""
             }
            },
            "type": "scatter3d"
           }
          ],
          "scattercarpet": [
           {
            "marker": {
             "colorbar": {
              "outlinewidth": 0,
              "ticks": ""
             }
            },
            "type": "scattercarpet"
           }
          ],
          "scattergeo": [
           {
            "marker": {
             "colorbar": {
              "outlinewidth": 0,
              "ticks": ""
             }
            },
            "type": "scattergeo"
           }
          ],
          "scattergl": [
           {
            "marker": {
             "line": {
              "color": "#283442"
             }
            },
            "type": "scattergl"
           }
          ],
          "scattermapbox": [
           {
            "marker": {
             "colorbar": {
              "outlinewidth": 0,
              "ticks": ""
             }
            },
            "type": "scattermapbox"
           }
          ],
          "scatterpolar": [
           {
            "marker": {
             "colorbar": {
              "outlinewidth": 0,
              "ticks": ""
             }
            },
            "type": "scatterpolar"
           }
          ],
          "scatterpolargl": [
           {
            "marker": {
             "colorbar": {
              "outlinewidth": 0,
              "ticks": ""
             }
            },
            "type": "scatterpolargl"
           }
          ],
          "scatterternary": [
           {
            "marker": {
             "colorbar": {
              "outlinewidth": 0,
              "ticks": ""
             }
            },
            "type": "scatterternary"
           }
          ],
          "surface": [
           {
            "colorbar": {
             "outlinewidth": 0,
             "ticks": ""
            },
            "colorscale": [
             [
              0,
              "#0d0887"
             ],
             [
              0.1111111111111111,
              "#46039f"
             ],
             [
              0.2222222222222222,
              "#7201a8"
             ],
             [
              0.3333333333333333,
              "#9c179e"
             ],
             [
              0.4444444444444444,
              "#bd3786"
             ],
             [
              0.5555555555555556,
              "#d8576b"
             ],
             [
              0.6666666666666666,
              "#ed7953"
             ],
             [
              0.7777777777777778,
              "#fb9f3a"
             ],
             [
              0.8888888888888888,
              "#fdca26"
             ],
             [
              1,
              "#f0f921"
             ]
            ],
            "type": "surface"
           }
          ],
          "table": [
           {
            "cells": {
             "fill": {
              "color": "#506784"
             },
             "line": {
              "color": "rgb(17,17,17)"
             }
            },
            "header": {
             "fill": {
              "color": "#2a3f5f"
             },
             "line": {
              "color": "rgb(17,17,17)"
             }
            },
            "type": "table"
           }
          ]
         },
         "layout": {
          "annotationdefaults": {
           "arrowcolor": "#f2f5fa",
           "arrowhead": 0,
           "arrowwidth": 1
          },
          "autotypenumbers": "strict",
          "coloraxis": {
           "colorbar": {
            "outlinewidth": 0,
            "ticks": ""
           }
          },
          "colorscale": {
           "diverging": [
            [
             0,
             "#8e0152"
            ],
            [
             0.1,
             "#c51b7d"
            ],
            [
             0.2,
             "#de77ae"
            ],
            [
             0.3,
             "#f1b6da"
            ],
            [
             0.4,
             "#fde0ef"
            ],
            [
             0.5,
             "#f7f7f7"
            ],
            [
             0.6,
             "#e6f5d0"
            ],
            [
             0.7,
             "#b8e186"
            ],
            [
             0.8,
             "#7fbc41"
            ],
            [
             0.9,
             "#4d9221"
            ],
            [
             1,
             "#276419"
            ]
           ],
           "sequential": [
            [
             0,
             "#0d0887"
            ],
            [
             0.1111111111111111,
             "#46039f"
            ],
            [
             0.2222222222222222,
             "#7201a8"
            ],
            [
             0.3333333333333333,
             "#9c179e"
            ],
            [
             0.4444444444444444,
             "#bd3786"
            ],
            [
             0.5555555555555556,
             "#d8576b"
            ],
            [
             0.6666666666666666,
             "#ed7953"
            ],
            [
             0.7777777777777778,
             "#fb9f3a"
            ],
            [
             0.8888888888888888,
             "#fdca26"
            ],
            [
             1,
             "#f0f921"
            ]
           ],
           "sequentialminus": [
            [
             0,
             "#0d0887"
            ],
            [
             0.1111111111111111,
             "#46039f"
            ],
            [
             0.2222222222222222,
             "#7201a8"
            ],
            [
             0.3333333333333333,
             "#9c179e"
            ],
            [
             0.4444444444444444,
             "#bd3786"
            ],
            [
             0.5555555555555556,
             "#d8576b"
            ],
            [
             0.6666666666666666,
             "#ed7953"
            ],
            [
             0.7777777777777778,
             "#fb9f3a"
            ],
            [
             0.8888888888888888,
             "#fdca26"
            ],
            [
             1,
             "#f0f921"
            ]
           ]
          },
          "colorway": [
           "#636efa",
           "#EF553B",
           "#00cc96",
           "#ab63fa",
           "#FFA15A",
           "#19d3f3",
           "#FF6692",
           "#B6E880",
           "#FF97FF",
           "#FECB52"
          ],
          "font": {
           "color": "#f2f5fa"
          },
          "geo": {
           "bgcolor": "rgb(17,17,17)",
           "lakecolor": "rgb(17,17,17)",
           "landcolor": "rgb(17,17,17)",
           "showlakes": true,
           "showland": true,
           "subunitcolor": "#506784"
          },
          "hoverlabel": {
           "align": "left"
          },
          "hovermode": "closest",
          "mapbox": {
           "style": "dark"
          },
          "paper_bgcolor": "rgb(17,17,17)",
          "plot_bgcolor": "rgb(17,17,17)",
          "polar": {
           "angularaxis": {
            "gridcolor": "#506784",
            "linecolor": "#506784",
            "ticks": ""
           },
           "bgcolor": "rgb(17,17,17)",
           "radialaxis": {
            "gridcolor": "#506784",
            "linecolor": "#506784",
            "ticks": ""
           }
          },
          "scene": {
           "xaxis": {
            "backgroundcolor": "rgb(17,17,17)",
            "gridcolor": "#506784",
            "gridwidth": 2,
            "linecolor": "#506784",
            "showbackground": true,
            "ticks": "",
            "zerolinecolor": "#C8D4E3"
           },
           "yaxis": {
            "backgroundcolor": "rgb(17,17,17)",
            "gridcolor": "#506784",
            "gridwidth": 2,
            "linecolor": "#506784",
            "showbackground": true,
            "ticks": "",
            "zerolinecolor": "#C8D4E3"
           },
           "zaxis": {
            "backgroundcolor": "rgb(17,17,17)",
            "gridcolor": "#506784",
            "gridwidth": 2,
            "linecolor": "#506784",
            "showbackground": true,
            "ticks": "",
            "zerolinecolor": "#C8D4E3"
           }
          },
          "shapedefaults": {
           "line": {
            "color": "#f2f5fa"
           }
          },
          "sliderdefaults": {
           "bgcolor": "#C8D4E3",
           "bordercolor": "rgb(17,17,17)",
           "borderwidth": 1,
           "tickwidth": 0
          },
          "ternary": {
           "aaxis": {
            "gridcolor": "#506784",
            "linecolor": "#506784",
            "ticks": ""
           },
           "baxis": {
            "gridcolor": "#506784",
            "linecolor": "#506784",
            "ticks": ""
           },
           "bgcolor": "rgb(17,17,17)",
           "caxis": {
            "gridcolor": "#506784",
            "linecolor": "#506784",
            "ticks": ""
           }
          },
          "title": {
           "x": 0.05
          },
          "updatemenudefaults": {
           "bgcolor": "#506784",
           "borderwidth": 0
          },
          "xaxis": {
           "automargin": true,
           "gridcolor": "#283442",
           "linecolor": "#506784",
           "ticks": "",
           "title": {
            "standoff": 15
           },
           "zerolinecolor": "#283442",
           "zerolinewidth": 2
          },
          "yaxis": {
           "automargin": true,
           "gridcolor": "#283442",
           "linecolor": "#506784",
           "ticks": "",
           "title": {
            "standoff": 15
           },
           "zerolinecolor": "#283442",
           "zerolinewidth": 2
          }
         }
        },
        "title": {
         "text": "Course students enrolled distribution across Course difficulty categories"
        },
        "xaxis": {
         "anchor": "y",
         "automargin": true,
         "categoryorder": "total descending",
         "domain": [
          0,
          1
         ],
         "showgrid": false,
         "tickangle": 30,
         "title": {
          "text": "Course Difficulty"
         },
         "type": "category",
         "zeroline": false
        },
        "yaxis": {
         "anchor": "x",
         "domain": [
          0,
          1
         ],
         "title": {
          "text": "Course Students Enrolled"
         }
        }
       }
      }
     },
     "metadata": {},
     "output_type": "display_data"
    }
   ],
   "source": [
    "perform_anova_and_visualize(data, categorical_feature=\"course_difficulty\", numerical_feature=\"course_students_enrolled\")"
   ]
  },
  {
   "cell_type": "markdown",
   "metadata": {},
   "source": [
    "*Does the number of enrolled students differ significantly between different course organizations?*\n",
    "\n",
    "-> No, statistically speaking the organization has no direct effect on the number of enrolled students."
   ]
  },
  {
   "cell_type": "code",
   "execution_count": 36,
   "metadata": {},
   "outputs": [
    {
     "data": {
      "application/vnd.plotly.v1+json": {
       "config": {
        "plotlyServerURL": "https://plot.ly"
       },
       "data": [
        {
         "alignmentgroup": "True",
         "hovertemplate": "Course Organization=%{x}<br>Course Students Enrolled=%{y}<extra></extra>",
         "legendgroup": "",
         "marker": {
          "color": "#636efa"
         },
         "name": "",
         "notched": false,
         "offsetgroup": "",
         "orientation": "v",
         "showlegend": false,
         "type": "box",
         "x": [
          "IBM",
          "IBM",
          "University of Michigan",
          "University of Pennsylvania",
          "IBM",
          "Google Cloud",
          "Google Cloud",
          "IBM",
          "Johns Hopkins University",
          "Johns Hopkins University",
          "University of Pennsylvania",
          "University of Pennsylvania",
          "Google Cloud",
          "Google Cloud",
          "Google Cloud",
          "Johns Hopkins University",
          "Google Cloud",
          "University of Pennsylvania",
          "Google Cloud",
          "University of Michigan",
          "University of Illinois at Urbana-Champaign",
          "University of California, Irvine",
          "University of California, Irvine",
          "University of Pennsylvania",
          "University of Pennsylvania",
          "IBM",
          "Johns Hopkins University",
          "Duke University",
          "University of Michigan",
          "University of Michigan",
          "University of California, Irvine",
          "Duke University",
          "University of Michigan",
          "University of Pennsylvania",
          "IBM",
          "Johns Hopkins University",
          "University of Michigan",
          "University of California, Irvine",
          "University of Pennsylvania",
          "University of Pennsylvania",
          "University of California, Davis",
          "University of Pennsylvania",
          "University of California, Davis",
          "Johns Hopkins University",
          "University of California, Davis",
          "Duke University",
          "Duke University",
          "IBM",
          "University of Illinois at Urbana-Champaign",
          "IBM",
          "University of Michigan",
          "University of Michigan",
          "University of California, Davis",
          "Google Cloud",
          "University of Michigan",
          "University of Michigan",
          "University of Pennsylvania",
          "Google Cloud",
          "University of Pennsylvania",
          "University of Michigan",
          "Johns Hopkins University",
          "University of Pennsylvania",
          "Johns Hopkins University",
          "University of California, Davis",
          "Johns Hopkins University",
          "University of Illinois at Urbana-Champaign",
          "IBM",
          "Johns Hopkins University",
          "University of Illinois at Urbana-Champaign",
          "University of California, Irvine",
          "IBM",
          "University of California, Irvine",
          "IBM",
          "University of Pennsylvania",
          "University of Pennsylvania",
          "University of California, Irvine",
          "University of California, Irvine",
          "University of Pennsylvania",
          "Google Cloud",
          "University of Michigan",
          "University of Pennsylvania",
          "University of Michigan",
          "Duke University",
          "Johns Hopkins University",
          "IBM",
          "University of Michigan",
          "Google Cloud",
          "University of Pennsylvania",
          "University of California, Irvine",
          "University of California, Davis",
          "Duke University",
          "University of Pennsylvania",
          "University of Pennsylvania",
          "Google Cloud",
          "University of California, Davis",
          "University of Pennsylvania",
          "Johns Hopkins University",
          "Johns Hopkins University",
          "University of Illinois at Urbana-Champaign",
          "University of Pennsylvania",
          "University of Pennsylvania",
          "Johns Hopkins University",
          "University of Pennsylvania",
          "University of Illinois at Urbana-Champaign",
          "IBM",
          "Google Cloud",
          "University of Pennsylvania",
          "Duke University",
          "Duke University",
          "University of California, Irvine",
          "University of California, Irvine",
          "University of California, Davis",
          "IBM",
          "University of Michigan",
          "University of California, Irvine",
          "University of Pennsylvania",
          "Duke University",
          "University of Illinois at Urbana-Champaign",
          "University of California, Irvine",
          "University of Pennsylvania",
          "Google Cloud",
          "University of Michigan",
          "Johns Hopkins University",
          "University of Illinois at Urbana-Champaign",
          "University of Illinois at Urbana-Champaign",
          "Johns Hopkins University",
          "University of Pennsylvania",
          "Johns Hopkins University",
          "IBM",
          "Duke University",
          "Google Cloud",
          "Johns Hopkins University",
          "University of California, Davis",
          "University of Pennsylvania",
          "University of Michigan",
          "Google Cloud",
          "University of Pennsylvania",
          "University of Michigan",
          "University of Illinois at Urbana-Champaign",
          "Google Cloud",
          "University of Illinois at Urbana-Champaign",
          "University of Michigan",
          "University of Michigan",
          "University of Michigan",
          "University of Illinois at Urbana-Champaign",
          "University of Pennsylvania",
          "Duke University",
          "University of California, Davis",
          "University of Pennsylvania",
          "University of California, Davis",
          "University of California, Irvine",
          "University of California, Davis",
          "Duke University",
          "University of California, Irvine",
          "University of Pennsylvania",
          "University of Pennsylvania",
          "Duke University",
          "IBM",
          "University of Illinois at Urbana-Champaign",
          "Google Cloud",
          "IBM",
          "Google Cloud",
          "University of California, Davis",
          "IBM",
          "University of Illinois at Urbana-Champaign",
          "Google Cloud",
          "University of California, Irvine",
          "University of Pennsylvania",
          "Johns Hopkins University",
          "Duke University",
          "University of Michigan",
          "University of California, Davis",
          "Google Cloud",
          "University of Pennsylvania",
          "Johns Hopkins University",
          "University of Pennsylvania",
          "University of Michigan",
          "University of Pennsylvania",
          "University of Michigan",
          "IBM",
          "Duke University",
          "Google Cloud",
          "University of Pennsylvania",
          "University of California, Irvine",
          "University of Illinois at Urbana-Champaign",
          "University of Michigan",
          "University of Pennsylvania",
          "Duke University",
          "University of California, Davis",
          "University of Michigan",
          "University of Michigan",
          "University of Illinois at Urbana-Champaign",
          "Duke University",
          "University of California, Davis",
          "Google Cloud",
          "University of California, Irvine",
          "Duke University",
          "University of Pennsylvania",
          "University of California, Irvine",
          "University of Michigan",
          "University of Pennsylvania",
          "Duke University",
          "University of Michigan",
          "University of California, Irvine",
          "University of Pennsylvania",
          "Johns Hopkins University",
          "Google Cloud",
          "IBM",
          "Google Cloud",
          "Google Cloud",
          "University of Pennsylvania",
          "Duke University",
          "Duke University",
          "Johns Hopkins University",
          "IBM",
          "University of Pennsylvania",
          "University of Pennsylvania",
          "University of Pennsylvania",
          "University of California, Irvine",
          "Google Cloud",
          "Duke University",
          "University of California, Davis",
          "University of California, Davis",
          "University of Michigan",
          "IBM",
          "Google Cloud",
          "University of Pennsylvania",
          "Johns Hopkins University",
          "Google Cloud",
          "University of Michigan",
          "University of California, Irvine",
          "Google Cloud",
          "University of Illinois at Urbana-Champaign",
          "Johns Hopkins University",
          "Google Cloud",
          "University of Illinois at Urbana-Champaign",
          "Duke University",
          "Duke University",
          "University of Pennsylvania",
          "University of California, Irvine",
          "University of Michigan",
          "University of Pennsylvania",
          "University of Pennsylvania",
          "University of Illinois at Urbana-Champaign",
          "Johns Hopkins University",
          "University of Illinois at Urbana-Champaign",
          "University of Michigan",
          "University of California, Irvine",
          "Duke University",
          "University of California, Irvine",
          "University of Michigan",
          "University of California, Davis",
          "University of Pennsylvania",
          "University of Pennsylvania",
          "University of Pennsylvania",
          "University of Michigan",
          "University of Michigan",
          "University of Pennsylvania",
          "University of Illinois at Urbana-Champaign",
          "University of Michigan",
          "University of Pennsylvania",
          "University of Pennsylvania",
          "University of Michigan",
          "Google Cloud",
          "University of Pennsylvania",
          "University of Michigan",
          "University of California, Irvine",
          "Duke University",
          "University of California, Irvine",
          "University of California, Davis",
          "University of Michigan",
          "University of California, Davis",
          "Google Cloud",
          "University of Illinois at Urbana-Champaign",
          "University of Pennsylvania",
          "University of Michigan",
          "Duke University",
          "Johns Hopkins University",
          "Johns Hopkins University",
          "Johns Hopkins University",
          "Duke University",
          "Google Cloud"
         ],
         "x0": " ",
         "xaxis": "x",
         "y": [
          480000,
          310000,
          1500000,
          510000,
          220000,
          310000,
          310000,
          220000,
          830000,
          740000,
          260000,
          280000,
          300000,
          300000,
          290000,
          220000,
          120000,
          160000,
          120000,
          480000,
          380000,
          230000,
          440000,
          89000,
          110000,
          140000,
          190000,
          490000,
          750000,
          280000,
          790000,
          380000,
          1300000,
          110000,
          61000,
          31000,
          220000,
          540000,
          22000,
          20000,
          96000,
          150000,
          160000,
          80000,
          97000,
          220000,
          330000,
          260000,
          100000,
          35000,
          36000,
          420000,
          80000,
          10000,
          23000,
          30000,
          8700,
          72000,
          24000,
          34000,
          14000,
          220000,
          170000,
          100000,
          67000,
          22000,
          120000,
          210000,
          76000,
          270000,
          170000,
          44000,
          320000,
          23000,
          110000,
          180000,
          120000,
          760000,
          15000,
          120000,
          190000,
          390000,
          82000,
          110000,
          89000,
          310000,
          26000,
          200000,
          18000,
          56000,
          170000,
          33000,
          230000,
          120000,
          32000,
          50000,
          420000,
          8100,
          12000,
          86000,
          17000,
          67000,
          25000,
          63000,
          110000,
          58000,
          110000,
          55000,
          270000,
          52000,
          180000,
          37000,
          110000,
          110000,
          190000,
          260000,
          7900,
          39000,
          23000,
          130000,
          16000,
          220000,
          8800,
          310000,
          69000,
          31000,
          120000,
          480000,
          120000,
          57000,
          35000,
          240000,
          160000,
          130000,
          14000,
          16000,
          76000,
          95000,
          12000,
          83000,
          110000,
          220000,
          3800,
          6500,
          17000,
          84000,
          250000,
          4900,
          1700,
          22000,
          430000,
          5800,
          150000,
          78000,
          10000,
          80000,
          140000,
          3300,
          55000,
          18000,
          66000,
          75000,
          86000,
          44000,
          140000,
          4200,
          66000,
          78000,
          30000,
          9700,
          85000,
          7200,
          68000,
          12000,
          14000,
          38000,
          2300,
          34000,
          30000,
          30000,
          160000,
          10000,
          40000,
          84000,
          73000,
          97000,
          38000,
          74000,
          71000,
          130000,
          20000,
          21000,
          160000,
          81000,
          9100,
          110000,
          24000,
          87000,
          120000,
          82000,
          6200,
          280000,
          26000,
          71000,
          27000,
          52000,
          57000,
          3500,
          34000,
          3900,
          9400,
          16000,
          200000,
          11000,
          2600,
          110000,
          80000,
          23000,
          69000,
          24000,
          200000,
          76000,
          47000,
          150000,
          42000,
          4000,
          40000,
          33000,
          7300,
          84000,
          79000,
          22000,
          25000,
          29000,
          3000,
          12000,
          21000,
          130000,
          6000,
          1800,
          59000,
          31000,
          36000,
          14000,
          23000,
          10000,
          9900,
          70000,
          19000,
          59000,
          4100,
          5400,
          7600,
          25000,
          17000,
          16000,
          5900,
          3400,
          62000,
          19000,
          17000,
          8100,
          4500,
          22000,
          31000,
          20000,
          9500,
          14000,
          1700,
          6400,
          9700,
          48000,
          36000,
          57000,
          7200,
          21000,
          12000,
          18000,
          130000,
          42000,
          46000,
          5800
         ],
         "y0": " ",
         "yaxis": "y"
        }
       ],
       "layout": {
        "annotations": [
         {
          "bordercolor": "white",
          "borderwidth": 1,
          "font": {
           "color": "white",
           "size": 16
          },
          "showarrow": false,
          "text": "F-statistic: 1.86, p-value: 6.581e-02",
          "x": 0,
          "xref": "paper",
          "y": 1.1,
          "yref": "paper"
         }
        ],
        "boxmode": "group",
        "font": {
         "size": 14
        },
        "height": 600,
        "legend": {
         "tracegroupgap": 0
        },
        "margin": {
         "b": 100,
         "l": 100,
         "r": 100,
         "t": 100
        },
        "template": {
         "data": {
          "bar": [
           {
            "error_x": {
             "color": "#f2f5fa"
            },
            "error_y": {
             "color": "#f2f5fa"
            },
            "marker": {
             "line": {
              "color": "rgb(17,17,17)",
              "width": 0.5
             },
             "pattern": {
              "fillmode": "overlay",
              "size": 10,
              "solidity": 0.2
             }
            },
            "type": "bar"
           }
          ],
          "barpolar": [
           {
            "marker": {
             "line": {
              "color": "rgb(17,17,17)",
              "width": 0.5
             },
             "pattern": {
              "fillmode": "overlay",
              "size": 10,
              "solidity": 0.2
             }
            },
            "type": "barpolar"
           }
          ],
          "carpet": [
           {
            "aaxis": {
             "endlinecolor": "#A2B1C6",
             "gridcolor": "#506784",
             "linecolor": "#506784",
             "minorgridcolor": "#506784",
             "startlinecolor": "#A2B1C6"
            },
            "baxis": {
             "endlinecolor": "#A2B1C6",
             "gridcolor": "#506784",
             "linecolor": "#506784",
             "minorgridcolor": "#506784",
             "startlinecolor": "#A2B1C6"
            },
            "type": "carpet"
           }
          ],
          "choropleth": [
           {
            "colorbar": {
             "outlinewidth": 0,
             "ticks": ""
            },
            "type": "choropleth"
           }
          ],
          "contour": [
           {
            "colorbar": {
             "outlinewidth": 0,
             "ticks": ""
            },
            "colorscale": [
             [
              0,
              "#0d0887"
             ],
             [
              0.1111111111111111,
              "#46039f"
             ],
             [
              0.2222222222222222,
              "#7201a8"
             ],
             [
              0.3333333333333333,
              "#9c179e"
             ],
             [
              0.4444444444444444,
              "#bd3786"
             ],
             [
              0.5555555555555556,
              "#d8576b"
             ],
             [
              0.6666666666666666,
              "#ed7953"
             ],
             [
              0.7777777777777778,
              "#fb9f3a"
             ],
             [
              0.8888888888888888,
              "#fdca26"
             ],
             [
              1,
              "#f0f921"
             ]
            ],
            "type": "contour"
           }
          ],
          "contourcarpet": [
           {
            "colorbar": {
             "outlinewidth": 0,
             "ticks": ""
            },
            "type": "contourcarpet"
           }
          ],
          "heatmap": [
           {
            "colorbar": {
             "outlinewidth": 0,
             "ticks": ""
            },
            "colorscale": [
             [
              0,
              "#0d0887"
             ],
             [
              0.1111111111111111,
              "#46039f"
             ],
             [
              0.2222222222222222,
              "#7201a8"
             ],
             [
              0.3333333333333333,
              "#9c179e"
             ],
             [
              0.4444444444444444,
              "#bd3786"
             ],
             [
              0.5555555555555556,
              "#d8576b"
             ],
             [
              0.6666666666666666,
              "#ed7953"
             ],
             [
              0.7777777777777778,
              "#fb9f3a"
             ],
             [
              0.8888888888888888,
              "#fdca26"
             ],
             [
              1,
              "#f0f921"
             ]
            ],
            "type": "heatmap"
           }
          ],
          "heatmapgl": [
           {
            "colorbar": {
             "outlinewidth": 0,
             "ticks": ""
            },
            "colorscale": [
             [
              0,
              "#0d0887"
             ],
             [
              0.1111111111111111,
              "#46039f"
             ],
             [
              0.2222222222222222,
              "#7201a8"
             ],
             [
              0.3333333333333333,
              "#9c179e"
             ],
             [
              0.4444444444444444,
              "#bd3786"
             ],
             [
              0.5555555555555556,
              "#d8576b"
             ],
             [
              0.6666666666666666,
              "#ed7953"
             ],
             [
              0.7777777777777778,
              "#fb9f3a"
             ],
             [
              0.8888888888888888,
              "#fdca26"
             ],
             [
              1,
              "#f0f921"
             ]
            ],
            "type": "heatmapgl"
           }
          ],
          "histogram": [
           {
            "marker": {
             "pattern": {
              "fillmode": "overlay",
              "size": 10,
              "solidity": 0.2
             }
            },
            "type": "histogram"
           }
          ],
          "histogram2d": [
           {
            "colorbar": {
             "outlinewidth": 0,
             "ticks": ""
            },
            "colorscale": [
             [
              0,
              "#0d0887"
             ],
             [
              0.1111111111111111,
              "#46039f"
             ],
             [
              0.2222222222222222,
              "#7201a8"
             ],
             [
              0.3333333333333333,
              "#9c179e"
             ],
             [
              0.4444444444444444,
              "#bd3786"
             ],
             [
              0.5555555555555556,
              "#d8576b"
             ],
             [
              0.6666666666666666,
              "#ed7953"
             ],
             [
              0.7777777777777778,
              "#fb9f3a"
             ],
             [
              0.8888888888888888,
              "#fdca26"
             ],
             [
              1,
              "#f0f921"
             ]
            ],
            "type": "histogram2d"
           }
          ],
          "histogram2dcontour": [
           {
            "colorbar": {
             "outlinewidth": 0,
             "ticks": ""
            },
            "colorscale": [
             [
              0,
              "#0d0887"
             ],
             [
              0.1111111111111111,
              "#46039f"
             ],
             [
              0.2222222222222222,
              "#7201a8"
             ],
             [
              0.3333333333333333,
              "#9c179e"
             ],
             [
              0.4444444444444444,
              "#bd3786"
             ],
             [
              0.5555555555555556,
              "#d8576b"
             ],
             [
              0.6666666666666666,
              "#ed7953"
             ],
             [
              0.7777777777777778,
              "#fb9f3a"
             ],
             [
              0.8888888888888888,
              "#fdca26"
             ],
             [
              1,
              "#f0f921"
             ]
            ],
            "type": "histogram2dcontour"
           }
          ],
          "mesh3d": [
           {
            "colorbar": {
             "outlinewidth": 0,
             "ticks": ""
            },
            "type": "mesh3d"
           }
          ],
          "parcoords": [
           {
            "line": {
             "colorbar": {
              "outlinewidth": 0,
              "ticks": ""
             }
            },
            "type": "parcoords"
           }
          ],
          "pie": [
           {
            "automargin": true,
            "type": "pie"
           }
          ],
          "scatter": [
           {
            "marker": {
             "line": {
              "color": "#283442"
             }
            },
            "type": "scatter"
           }
          ],
          "scatter3d": [
           {
            "line": {
             "colorbar": {
              "outlinewidth": 0,
              "ticks": ""
             }
            },
            "marker": {
             "colorbar": {
              "outlinewidth": 0,
              "ticks": ""
             }
            },
            "type": "scatter3d"
           }
          ],
          "scattercarpet": [
           {
            "marker": {
             "colorbar": {
              "outlinewidth": 0,
              "ticks": ""
             }
            },
            "type": "scattercarpet"
           }
          ],
          "scattergeo": [
           {
            "marker": {
             "colorbar": {
              "outlinewidth": 0,
              "ticks": ""
             }
            },
            "type": "scattergeo"
           }
          ],
          "scattergl": [
           {
            "marker": {
             "line": {
              "color": "#283442"
             }
            },
            "type": "scattergl"
           }
          ],
          "scattermapbox": [
           {
            "marker": {
             "colorbar": {
              "outlinewidth": 0,
              "ticks": ""
             }
            },
            "type": "scattermapbox"
           }
          ],
          "scatterpolar": [
           {
            "marker": {
             "colorbar": {
              "outlinewidth": 0,
              "ticks": ""
             }
            },
            "type": "scatterpolar"
           }
          ],
          "scatterpolargl": [
           {
            "marker": {
             "colorbar": {
              "outlinewidth": 0,
              "ticks": ""
             }
            },
            "type": "scatterpolargl"
           }
          ],
          "scatterternary": [
           {
            "marker": {
             "colorbar": {
              "outlinewidth": 0,
              "ticks": ""
             }
            },
            "type": "scatterternary"
           }
          ],
          "surface": [
           {
            "colorbar": {
             "outlinewidth": 0,
             "ticks": ""
            },
            "colorscale": [
             [
              0,
              "#0d0887"
             ],
             [
              0.1111111111111111,
              "#46039f"
             ],
             [
              0.2222222222222222,
              "#7201a8"
             ],
             [
              0.3333333333333333,
              "#9c179e"
             ],
             [
              0.4444444444444444,
              "#bd3786"
             ],
             [
              0.5555555555555556,
              "#d8576b"
             ],
             [
              0.6666666666666666,
              "#ed7953"
             ],
             [
              0.7777777777777778,
              "#fb9f3a"
             ],
             [
              0.8888888888888888,
              "#fdca26"
             ],
             [
              1,
              "#f0f921"
             ]
            ],
            "type": "surface"
           }
          ],
          "table": [
           {
            "cells": {
             "fill": {
              "color": "#506784"
             },
             "line": {
              "color": "rgb(17,17,17)"
             }
            },
            "header": {
             "fill": {
              "color": "#2a3f5f"
             },
             "line": {
              "color": "rgb(17,17,17)"
             }
            },
            "type": "table"
           }
          ]
         },
         "layout": {
          "annotationdefaults": {
           "arrowcolor": "#f2f5fa",
           "arrowhead": 0,
           "arrowwidth": 1
          },
          "autotypenumbers": "strict",
          "coloraxis": {
           "colorbar": {
            "outlinewidth": 0,
            "ticks": ""
           }
          },
          "colorscale": {
           "diverging": [
            [
             0,
             "#8e0152"
            ],
            [
             0.1,
             "#c51b7d"
            ],
            [
             0.2,
             "#de77ae"
            ],
            [
             0.3,
             "#f1b6da"
            ],
            [
             0.4,
             "#fde0ef"
            ],
            [
             0.5,
             "#f7f7f7"
            ],
            [
             0.6,
             "#e6f5d0"
            ],
            [
             0.7,
             "#b8e186"
            ],
            [
             0.8,
             "#7fbc41"
            ],
            [
             0.9,
             "#4d9221"
            ],
            [
             1,
             "#276419"
            ]
           ],
           "sequential": [
            [
             0,
             "#0d0887"
            ],
            [
             0.1111111111111111,
             "#46039f"
            ],
            [
             0.2222222222222222,
             "#7201a8"
            ],
            [
             0.3333333333333333,
             "#9c179e"
            ],
            [
             0.4444444444444444,
             "#bd3786"
            ],
            [
             0.5555555555555556,
             "#d8576b"
            ],
            [
             0.6666666666666666,
             "#ed7953"
            ],
            [
             0.7777777777777778,
             "#fb9f3a"
            ],
            [
             0.8888888888888888,
             "#fdca26"
            ],
            [
             1,
             "#f0f921"
            ]
           ],
           "sequentialminus": [
            [
             0,
             "#0d0887"
            ],
            [
             0.1111111111111111,
             "#46039f"
            ],
            [
             0.2222222222222222,
             "#7201a8"
            ],
            [
             0.3333333333333333,
             "#9c179e"
            ],
            [
             0.4444444444444444,
             "#bd3786"
            ],
            [
             0.5555555555555556,
             "#d8576b"
            ],
            [
             0.6666666666666666,
             "#ed7953"
            ],
            [
             0.7777777777777778,
             "#fb9f3a"
            ],
            [
             0.8888888888888888,
             "#fdca26"
            ],
            [
             1,
             "#f0f921"
            ]
           ]
          },
          "colorway": [
           "#636efa",
           "#EF553B",
           "#00cc96",
           "#ab63fa",
           "#FFA15A",
           "#19d3f3",
           "#FF6692",
           "#B6E880",
           "#FF97FF",
           "#FECB52"
          ],
          "font": {
           "color": "#f2f5fa"
          },
          "geo": {
           "bgcolor": "rgb(17,17,17)",
           "lakecolor": "rgb(17,17,17)",
           "landcolor": "rgb(17,17,17)",
           "showlakes": true,
           "showland": true,
           "subunitcolor": "#506784"
          },
          "hoverlabel": {
           "align": "left"
          },
          "hovermode": "closest",
          "mapbox": {
           "style": "dark"
          },
          "paper_bgcolor": "rgb(17,17,17)",
          "plot_bgcolor": "rgb(17,17,17)",
          "polar": {
           "angularaxis": {
            "gridcolor": "#506784",
            "linecolor": "#506784",
            "ticks": ""
           },
           "bgcolor": "rgb(17,17,17)",
           "radialaxis": {
            "gridcolor": "#506784",
            "linecolor": "#506784",
            "ticks": ""
           }
          },
          "scene": {
           "xaxis": {
            "backgroundcolor": "rgb(17,17,17)",
            "gridcolor": "#506784",
            "gridwidth": 2,
            "linecolor": "#506784",
            "showbackground": true,
            "ticks": "",
            "zerolinecolor": "#C8D4E3"
           },
           "yaxis": {
            "backgroundcolor": "rgb(17,17,17)",
            "gridcolor": "#506784",
            "gridwidth": 2,
            "linecolor": "#506784",
            "showbackground": true,
            "ticks": "",
            "zerolinecolor": "#C8D4E3"
           },
           "zaxis": {
            "backgroundcolor": "rgb(17,17,17)",
            "gridcolor": "#506784",
            "gridwidth": 2,
            "linecolor": "#506784",
            "showbackground": true,
            "ticks": "",
            "zerolinecolor": "#C8D4E3"
           }
          },
          "shapedefaults": {
           "line": {
            "color": "#f2f5fa"
           }
          },
          "sliderdefaults": {
           "bgcolor": "#C8D4E3",
           "bordercolor": "rgb(17,17,17)",
           "borderwidth": 1,
           "tickwidth": 0
          },
          "ternary": {
           "aaxis": {
            "gridcolor": "#506784",
            "linecolor": "#506784",
            "ticks": ""
           },
           "baxis": {
            "gridcolor": "#506784",
            "linecolor": "#506784",
            "ticks": ""
           },
           "bgcolor": "rgb(17,17,17)",
           "caxis": {
            "gridcolor": "#506784",
            "linecolor": "#506784",
            "ticks": ""
           }
          },
          "title": {
           "x": 0.05
          },
          "updatemenudefaults": {
           "bgcolor": "#506784",
           "borderwidth": 0
          },
          "xaxis": {
           "automargin": true,
           "gridcolor": "#283442",
           "linecolor": "#506784",
           "ticks": "",
           "title": {
            "standoff": 15
           },
           "zerolinecolor": "#283442",
           "zerolinewidth": 2
          },
          "yaxis": {
           "automargin": true,
           "gridcolor": "#283442",
           "linecolor": "#506784",
           "ticks": "",
           "title": {
            "standoff": 15
           },
           "zerolinecolor": "#283442",
           "zerolinewidth": 2
          }
         }
        },
        "title": {
         "text": "Course students enrolled distribution across Course organization categories"
        },
        "xaxis": {
         "anchor": "y",
         "automargin": true,
         "categoryorder": "total descending",
         "domain": [
          0,
          1
         ],
         "showgrid": false,
         "tickangle": 30,
         "title": {
          "text": "Course Organization"
         },
         "type": "category",
         "zeroline": false
        },
        "yaxis": {
         "anchor": "x",
         "domain": [
          0,
          1
         ],
         "title": {
          "text": "Course Students Enrolled"
         }
        }
       }
      }
     },
     "metadata": {},
     "output_type": "display_data"
    }
   ],
   "source": [
    "perform_anova_and_visualize(data, categorical_feature=\"course_organization\", numerical_feature=\"course_students_enrolled\")"
   ]
  },
  {
   "cell_type": "markdown",
   "metadata": {},
   "source": [
    "*Does the number of enrolled students differ significantly between different course certificates?*\n",
    "\n",
    "-> Yes, statistically speaking the certificate type has an effect on the number of enrolled students."
   ]
  },
  {
   "cell_type": "code",
   "execution_count": 37,
   "metadata": {},
   "outputs": [
    {
     "data": {
      "application/vnd.plotly.v1+json": {
       "config": {
        "plotlyServerURL": "https://plot.ly"
       },
       "data": [
        {
         "alignmentgroup": "True",
         "hovertemplate": "Course Certificate Type=%{x}<br>Course Students Enrolled=%{y}<extra></extra>",
         "legendgroup": "",
         "marker": {
          "color": "#636efa"
         },
         "name": "",
         "notched": false,
         "offsetgroup": "",
         "orientation": "v",
         "showlegend": false,
         "type": "box",
         "x": [
          "PROFESSIONAL CERTIFICATE",
          "SPECIALIZATION",
          "SPECIALIZATION",
          "SPECIALIZATION",
          "SPECIALIZATION",
          "PROFESSIONAL CERTIFICATE",
          "SPECIALIZATION",
          "PROFESSIONAL CERTIFICATE",
          "SPECIALIZATION",
          "SPECIALIZATION",
          "SPECIALIZATION",
          "SPECIALIZATION",
          "SPECIALIZATION",
          "SPECIALIZATION",
          "SPECIALIZATION",
          "COURSE",
          "PROFESSIONAL CERTIFICATE",
          "SPECIALIZATION",
          "SPECIALIZATION",
          "SPECIALIZATION",
          "SPECIALIZATION",
          "SPECIALIZATION",
          "SPECIALIZATION",
          "SPECIALIZATION",
          "SPECIALIZATION",
          "PROFESSIONAL CERTIFICATE",
          "COURSE",
          "SPECIALIZATION",
          "COURSE",
          "SPECIALIZATION",
          "SPECIALIZATION",
          "SPECIALIZATION",
          "COURSE",
          "SPECIALIZATION",
          "SPECIALIZATION",
          "SPECIALIZATION",
          "SPECIALIZATION",
          "SPECIALIZATION",
          "SPECIALIZATION",
          "SPECIALIZATION",
          "SPECIALIZATION",
          "COURSE",
          "SPECIALIZATION",
          "SPECIALIZATION",
          "SPECIALIZATION",
          "SPECIALIZATION",
          "SPECIALIZATION",
          "COURSE",
          "SPECIALIZATION",
          "SPECIALIZATION",
          "COURSE",
          "COURSE",
          "SPECIALIZATION",
          "SPECIALIZATION",
          "SPECIALIZATION",
          "SPECIALIZATION",
          "SPECIALIZATION",
          "SPECIALIZATION",
          "SPECIALIZATION",
          "SPECIALIZATION",
          "SPECIALIZATION",
          "COURSE",
          "SPECIALIZATION",
          "COURSE",
          "COURSE",
          "SPECIALIZATION",
          "COURSE",
          "SPECIALIZATION",
          "SPECIALIZATION",
          "SPECIALIZATION",
          "COURSE",
          "PROFESSIONAL CERTIFICATE",
          "SPECIALIZATION",
          "COURSE",
          "COURSE",
          "COURSE",
          "SPECIALIZATION",
          "COURSE",
          "SPECIALIZATION",
          "SPECIALIZATION",
          "COURSE",
          "COURSE",
          "SPECIALIZATION",
          "COURSE",
          "COURSE",
          "COURSE",
          "SPECIALIZATION",
          "COURSE",
          "SPECIALIZATION",
          "COURSE",
          "COURSE",
          "COURSE",
          "COURSE",
          "COURSE",
          "COURSE",
          "COURSE",
          "COURSE",
          "SPECIALIZATION",
          "SPECIALIZATION",
          "COURSE",
          "SPECIALIZATION",
          "COURSE",
          "COURSE",
          "SPECIALIZATION",
          "COURSE",
          "COURSE",
          "COURSE",
          "COURSE",
          "COURSE",
          "SPECIALIZATION",
          "COURSE",
          "SPECIALIZATION",
          "COURSE",
          "COURSE",
          "COURSE",
          "COURSE",
          "SPECIALIZATION",
          "SPECIALIZATION",
          "SPECIALIZATION",
          "COURSE",
          "COURSE",
          "COURSE",
          "SPECIALIZATION",
          "COURSE",
          "COURSE",
          "SPECIALIZATION",
          "SPECIALIZATION",
          "COURSE",
          "COURSE",
          "COURSE",
          "SPECIALIZATION",
          "COURSE",
          "COURSE",
          "COURSE",
          "SPECIALIZATION",
          "SPECIALIZATION",
          "COURSE",
          "COURSE",
          "COURSE",
          "COURSE",
          "SPECIALIZATION",
          "COURSE",
          "SPECIALIZATION",
          "SPECIALIZATION",
          "COURSE",
          "COURSE",
          "COURSE",
          "SPECIALIZATION",
          "SPECIALIZATION",
          "SPECIALIZATION",
          "COURSE",
          "SPECIALIZATION",
          "COURSE",
          "SPECIALIZATION",
          "COURSE",
          "COURSE",
          "COURSE",
          "COURSE",
          "SPECIALIZATION",
          "COURSE",
          "COURSE",
          "COURSE",
          "COURSE",
          "COURSE",
          "SPECIALIZATION",
          "SPECIALIZATION",
          "SPECIALIZATION",
          "COURSE",
          "COURSE",
          "COURSE",
          "COURSE",
          "COURSE",
          "COURSE",
          "COURSE",
          "COURSE",
          "COURSE",
          "COURSE",
          "COURSE",
          "COURSE",
          "COURSE",
          "COURSE",
          "COURSE",
          "COURSE",
          "COURSE",
          "COURSE",
          "COURSE",
          "COURSE",
          "COURSE",
          "COURSE",
          "COURSE",
          "COURSE",
          "COURSE",
          "COURSE",
          "COURSE",
          "COURSE",
          "COURSE",
          "COURSE",
          "COURSE",
          "COURSE",
          "COURSE",
          "COURSE",
          "COURSE",
          "COURSE",
          "COURSE",
          "COURSE",
          "SPECIALIZATION",
          "COURSE",
          "SPECIALIZATION",
          "COURSE",
          "SPECIALIZATION",
          "COURSE",
          "COURSE",
          "COURSE",
          "COURSE",
          "COURSE",
          "COURSE",
          "COURSE",
          "COURSE",
          "SPECIALIZATION",
          "COURSE",
          "COURSE",
          "COURSE",
          "COURSE",
          "COURSE",
          "COURSE",
          "SPECIALIZATION",
          "COURSE",
          "COURSE",
          "COURSE",
          "COURSE",
          "COURSE",
          "COURSE",
          "SPECIALIZATION",
          "COURSE",
          "SPECIALIZATION",
          "SPECIALIZATION",
          "COURSE",
          "COURSE",
          "COURSE",
          "SPECIALIZATION",
          "COURSE",
          "COURSE",
          "COURSE",
          "COURSE",
          "COURSE",
          "COURSE",
          "COURSE",
          "COURSE",
          "COURSE",
          "COURSE",
          "COURSE",
          "SPECIALIZATION",
          "COURSE",
          "SPECIALIZATION",
          "COURSE",
          "COURSE",
          "COURSE",
          "COURSE",
          "COURSE",
          "COURSE",
          "COURSE",
          "COURSE",
          "COURSE",
          "COURSE",
          "COURSE",
          "COURSE",
          "COURSE",
          "COURSE",
          "SPECIALIZATION",
          "SPECIALIZATION",
          "COURSE",
          "COURSE",
          "COURSE",
          "COURSE",
          "COURSE",
          "COURSE",
          "COURSE",
          "COURSE",
          "COURSE",
          "COURSE",
          "COURSE",
          "COURSE"
         ],
         "x0": " ",
         "xaxis": "x",
         "y": [
          480000,
          310000,
          1500000,
          510000,
          220000,
          310000,
          310000,
          220000,
          830000,
          740000,
          260000,
          280000,
          300000,
          300000,
          290000,
          220000,
          120000,
          160000,
          120000,
          480000,
          380000,
          230000,
          440000,
          89000,
          110000,
          140000,
          190000,
          490000,
          750000,
          280000,
          790000,
          380000,
          1300000,
          110000,
          61000,
          31000,
          220000,
          540000,
          22000,
          20000,
          96000,
          150000,
          160000,
          80000,
          97000,
          220000,
          330000,
          260000,
          100000,
          35000,
          36000,
          420000,
          80000,
          10000,
          23000,
          30000,
          8700,
          72000,
          24000,
          34000,
          14000,
          220000,
          170000,
          100000,
          67000,
          22000,
          120000,
          210000,
          76000,
          270000,
          170000,
          44000,
          320000,
          23000,
          110000,
          180000,
          120000,
          760000,
          15000,
          120000,
          190000,
          390000,
          82000,
          110000,
          89000,
          310000,
          26000,
          200000,
          18000,
          56000,
          170000,
          33000,
          230000,
          120000,
          32000,
          50000,
          420000,
          8100,
          12000,
          86000,
          17000,
          67000,
          25000,
          63000,
          110000,
          58000,
          110000,
          55000,
          270000,
          52000,
          180000,
          37000,
          110000,
          110000,
          190000,
          260000,
          7900,
          39000,
          23000,
          130000,
          16000,
          220000,
          8800,
          310000,
          69000,
          31000,
          120000,
          480000,
          120000,
          57000,
          35000,
          240000,
          160000,
          130000,
          14000,
          16000,
          76000,
          95000,
          12000,
          83000,
          110000,
          220000,
          3800,
          6500,
          17000,
          84000,
          250000,
          4900,
          1700,
          22000,
          430000,
          5800,
          150000,
          78000,
          10000,
          80000,
          140000,
          3300,
          55000,
          18000,
          66000,
          75000,
          86000,
          44000,
          140000,
          4200,
          66000,
          78000,
          30000,
          9700,
          85000,
          7200,
          68000,
          12000,
          14000,
          38000,
          2300,
          34000,
          30000,
          30000,
          160000,
          10000,
          40000,
          84000,
          73000,
          97000,
          38000,
          74000,
          71000,
          130000,
          20000,
          21000,
          160000,
          81000,
          9100,
          110000,
          24000,
          87000,
          120000,
          82000,
          6200,
          280000,
          26000,
          71000,
          27000,
          52000,
          57000,
          3500,
          34000,
          3900,
          9400,
          16000,
          200000,
          11000,
          2600,
          110000,
          80000,
          23000,
          69000,
          24000,
          200000,
          76000,
          47000,
          150000,
          42000,
          4000,
          40000,
          33000,
          7300,
          84000,
          79000,
          22000,
          25000,
          29000,
          3000,
          12000,
          21000,
          130000,
          6000,
          1800,
          59000,
          31000,
          36000,
          14000,
          23000,
          10000,
          9900,
          70000,
          19000,
          59000,
          4100,
          5400,
          7600,
          25000,
          17000,
          16000,
          5900,
          3400,
          62000,
          19000,
          17000,
          8100,
          4500,
          22000,
          31000,
          20000,
          9500,
          14000,
          1700,
          6400,
          9700,
          48000,
          36000,
          57000,
          7200,
          21000,
          12000,
          18000,
          130000,
          42000,
          46000,
          5800
         ],
         "y0": " ",
         "yaxis": "y"
        }
       ],
       "layout": {
        "annotations": [
         {
          "bordercolor": "white",
          "borderwidth": 1,
          "font": {
           "color": "white",
           "size": 16
          },
          "showarrow": false,
          "text": "F-statistic: 3.15, p-value: 4.421e-02",
          "x": 0,
          "xref": "paper",
          "y": 1.1,
          "yref": "paper"
         }
        ],
        "boxmode": "group",
        "font": {
         "size": 14
        },
        "height": 600,
        "legend": {
         "tracegroupgap": 0
        },
        "margin": {
         "b": 100,
         "l": 100,
         "r": 100,
         "t": 100
        },
        "template": {
         "data": {
          "bar": [
           {
            "error_x": {
             "color": "#f2f5fa"
            },
            "error_y": {
             "color": "#f2f5fa"
            },
            "marker": {
             "line": {
              "color": "rgb(17,17,17)",
              "width": 0.5
             },
             "pattern": {
              "fillmode": "overlay",
              "size": 10,
              "solidity": 0.2
             }
            },
            "type": "bar"
           }
          ],
          "barpolar": [
           {
            "marker": {
             "line": {
              "color": "rgb(17,17,17)",
              "width": 0.5
             },
             "pattern": {
              "fillmode": "overlay",
              "size": 10,
              "solidity": 0.2
             }
            },
            "type": "barpolar"
           }
          ],
          "carpet": [
           {
            "aaxis": {
             "endlinecolor": "#A2B1C6",
             "gridcolor": "#506784",
             "linecolor": "#506784",
             "minorgridcolor": "#506784",
             "startlinecolor": "#A2B1C6"
            },
            "baxis": {
             "endlinecolor": "#A2B1C6",
             "gridcolor": "#506784",
             "linecolor": "#506784",
             "minorgridcolor": "#506784",
             "startlinecolor": "#A2B1C6"
            },
            "type": "carpet"
           }
          ],
          "choropleth": [
           {
            "colorbar": {
             "outlinewidth": 0,
             "ticks": ""
            },
            "type": "choropleth"
           }
          ],
          "contour": [
           {
            "colorbar": {
             "outlinewidth": 0,
             "ticks": ""
            },
            "colorscale": [
             [
              0,
              "#0d0887"
             ],
             [
              0.1111111111111111,
              "#46039f"
             ],
             [
              0.2222222222222222,
              "#7201a8"
             ],
             [
              0.3333333333333333,
              "#9c179e"
             ],
             [
              0.4444444444444444,
              "#bd3786"
             ],
             [
              0.5555555555555556,
              "#d8576b"
             ],
             [
              0.6666666666666666,
              "#ed7953"
             ],
             [
              0.7777777777777778,
              "#fb9f3a"
             ],
             [
              0.8888888888888888,
              "#fdca26"
             ],
             [
              1,
              "#f0f921"
             ]
            ],
            "type": "contour"
           }
          ],
          "contourcarpet": [
           {
            "colorbar": {
             "outlinewidth": 0,
             "ticks": ""
            },
            "type": "contourcarpet"
           }
          ],
          "heatmap": [
           {
            "colorbar": {
             "outlinewidth": 0,
             "ticks": ""
            },
            "colorscale": [
             [
              0,
              "#0d0887"
             ],
             [
              0.1111111111111111,
              "#46039f"
             ],
             [
              0.2222222222222222,
              "#7201a8"
             ],
             [
              0.3333333333333333,
              "#9c179e"
             ],
             [
              0.4444444444444444,
              "#bd3786"
             ],
             [
              0.5555555555555556,
              "#d8576b"
             ],
             [
              0.6666666666666666,
              "#ed7953"
             ],
             [
              0.7777777777777778,
              "#fb9f3a"
             ],
             [
              0.8888888888888888,
              "#fdca26"
             ],
             [
              1,
              "#f0f921"
             ]
            ],
            "type": "heatmap"
           }
          ],
          "heatmapgl": [
           {
            "colorbar": {
             "outlinewidth": 0,
             "ticks": ""
            },
            "colorscale": [
             [
              0,
              "#0d0887"
             ],
             [
              0.1111111111111111,
              "#46039f"
             ],
             [
              0.2222222222222222,
              "#7201a8"
             ],
             [
              0.3333333333333333,
              "#9c179e"
             ],
             [
              0.4444444444444444,
              "#bd3786"
             ],
             [
              0.5555555555555556,
              "#d8576b"
             ],
             [
              0.6666666666666666,
              "#ed7953"
             ],
             [
              0.7777777777777778,
              "#fb9f3a"
             ],
             [
              0.8888888888888888,
              "#fdca26"
             ],
             [
              1,
              "#f0f921"
             ]
            ],
            "type": "heatmapgl"
           }
          ],
          "histogram": [
           {
            "marker": {
             "pattern": {
              "fillmode": "overlay",
              "size": 10,
              "solidity": 0.2
             }
            },
            "type": "histogram"
           }
          ],
          "histogram2d": [
           {
            "colorbar": {
             "outlinewidth": 0,
             "ticks": ""
            },
            "colorscale": [
             [
              0,
              "#0d0887"
             ],
             [
              0.1111111111111111,
              "#46039f"
             ],
             [
              0.2222222222222222,
              "#7201a8"
             ],
             [
              0.3333333333333333,
              "#9c179e"
             ],
             [
              0.4444444444444444,
              "#bd3786"
             ],
             [
              0.5555555555555556,
              "#d8576b"
             ],
             [
              0.6666666666666666,
              "#ed7953"
             ],
             [
              0.7777777777777778,
              "#fb9f3a"
             ],
             [
              0.8888888888888888,
              "#fdca26"
             ],
             [
              1,
              "#f0f921"
             ]
            ],
            "type": "histogram2d"
           }
          ],
          "histogram2dcontour": [
           {
            "colorbar": {
             "outlinewidth": 0,
             "ticks": ""
            },
            "colorscale": [
             [
              0,
              "#0d0887"
             ],
             [
              0.1111111111111111,
              "#46039f"
             ],
             [
              0.2222222222222222,
              "#7201a8"
             ],
             [
              0.3333333333333333,
              "#9c179e"
             ],
             [
              0.4444444444444444,
              "#bd3786"
             ],
             [
              0.5555555555555556,
              "#d8576b"
             ],
             [
              0.6666666666666666,
              "#ed7953"
             ],
             [
              0.7777777777777778,
              "#fb9f3a"
             ],
             [
              0.8888888888888888,
              "#fdca26"
             ],
             [
              1,
              "#f0f921"
             ]
            ],
            "type": "histogram2dcontour"
           }
          ],
          "mesh3d": [
           {
            "colorbar": {
             "outlinewidth": 0,
             "ticks": ""
            },
            "type": "mesh3d"
           }
          ],
          "parcoords": [
           {
            "line": {
             "colorbar": {
              "outlinewidth": 0,
              "ticks": ""
             }
            },
            "type": "parcoords"
           }
          ],
          "pie": [
           {
            "automargin": true,
            "type": "pie"
           }
          ],
          "scatter": [
           {
            "marker": {
             "line": {
              "color": "#283442"
             }
            },
            "type": "scatter"
           }
          ],
          "scatter3d": [
           {
            "line": {
             "colorbar": {
              "outlinewidth": 0,
              "ticks": ""
             }
            },
            "marker": {
             "colorbar": {
              "outlinewidth": 0,
              "ticks": ""
             }
            },
            "type": "scatter3d"
           }
          ],
          "scattercarpet": [
           {
            "marker": {
             "colorbar": {
              "outlinewidth": 0,
              "ticks": ""
             }
            },
            "type": "scattercarpet"
           }
          ],
          "scattergeo": [
           {
            "marker": {
             "colorbar": {
              "outlinewidth": 0,
              "ticks": ""
             }
            },
            "type": "scattergeo"
           }
          ],
          "scattergl": [
           {
            "marker": {
             "line": {
              "color": "#283442"
             }
            },
            "type": "scattergl"
           }
          ],
          "scattermapbox": [
           {
            "marker": {
             "colorbar": {
              "outlinewidth": 0,
              "ticks": ""
             }
            },
            "type": "scattermapbox"
           }
          ],
          "scatterpolar": [
           {
            "marker": {
             "colorbar": {
              "outlinewidth": 0,
              "ticks": ""
             }
            },
            "type": "scatterpolar"
           }
          ],
          "scatterpolargl": [
           {
            "marker": {
             "colorbar": {
              "outlinewidth": 0,
              "ticks": ""
             }
            },
            "type": "scatterpolargl"
           }
          ],
          "scatterternary": [
           {
            "marker": {
             "colorbar": {
              "outlinewidth": 0,
              "ticks": ""
             }
            },
            "type": "scatterternary"
           }
          ],
          "surface": [
           {
            "colorbar": {
             "outlinewidth": 0,
             "ticks": ""
            },
            "colorscale": [
             [
              0,
              "#0d0887"
             ],
             [
              0.1111111111111111,
              "#46039f"
             ],
             [
              0.2222222222222222,
              "#7201a8"
             ],
             [
              0.3333333333333333,
              "#9c179e"
             ],
             [
              0.4444444444444444,
              "#bd3786"
             ],
             [
              0.5555555555555556,
              "#d8576b"
             ],
             [
              0.6666666666666666,
              "#ed7953"
             ],
             [
              0.7777777777777778,
              "#fb9f3a"
             ],
             [
              0.8888888888888888,
              "#fdca26"
             ],
             [
              1,
              "#f0f921"
             ]
            ],
            "type": "surface"
           }
          ],
          "table": [
           {
            "cells": {
             "fill": {
              "color": "#506784"
             },
             "line": {
              "color": "rgb(17,17,17)"
             }
            },
            "header": {
             "fill": {
              "color": "#2a3f5f"
             },
             "line": {
              "color": "rgb(17,17,17)"
             }
            },
            "type": "table"
           }
          ]
         },
         "layout": {
          "annotationdefaults": {
           "arrowcolor": "#f2f5fa",
           "arrowhead": 0,
           "arrowwidth": 1
          },
          "autotypenumbers": "strict",
          "coloraxis": {
           "colorbar": {
            "outlinewidth": 0,
            "ticks": ""
           }
          },
          "colorscale": {
           "diverging": [
            [
             0,
             "#8e0152"
            ],
            [
             0.1,
             "#c51b7d"
            ],
            [
             0.2,
             "#de77ae"
            ],
            [
             0.3,
             "#f1b6da"
            ],
            [
             0.4,
             "#fde0ef"
            ],
            [
             0.5,
             "#f7f7f7"
            ],
            [
             0.6,
             "#e6f5d0"
            ],
            [
             0.7,
             "#b8e186"
            ],
            [
             0.8,
             "#7fbc41"
            ],
            [
             0.9,
             "#4d9221"
            ],
            [
             1,
             "#276419"
            ]
           ],
           "sequential": [
            [
             0,
             "#0d0887"
            ],
            [
             0.1111111111111111,
             "#46039f"
            ],
            [
             0.2222222222222222,
             "#7201a8"
            ],
            [
             0.3333333333333333,
             "#9c179e"
            ],
            [
             0.4444444444444444,
             "#bd3786"
            ],
            [
             0.5555555555555556,
             "#d8576b"
            ],
            [
             0.6666666666666666,
             "#ed7953"
            ],
            [
             0.7777777777777778,
             "#fb9f3a"
            ],
            [
             0.8888888888888888,
             "#fdca26"
            ],
            [
             1,
             "#f0f921"
            ]
           ],
           "sequentialminus": [
            [
             0,
             "#0d0887"
            ],
            [
             0.1111111111111111,
             "#46039f"
            ],
            [
             0.2222222222222222,
             "#7201a8"
            ],
            [
             0.3333333333333333,
             "#9c179e"
            ],
            [
             0.4444444444444444,
             "#bd3786"
            ],
            [
             0.5555555555555556,
             "#d8576b"
            ],
            [
             0.6666666666666666,
             "#ed7953"
            ],
            [
             0.7777777777777778,
             "#fb9f3a"
            ],
            [
             0.8888888888888888,
             "#fdca26"
            ],
            [
             1,
             "#f0f921"
            ]
           ]
          },
          "colorway": [
           "#636efa",
           "#EF553B",
           "#00cc96",
           "#ab63fa",
           "#FFA15A",
           "#19d3f3",
           "#FF6692",
           "#B6E880",
           "#FF97FF",
           "#FECB52"
          ],
          "font": {
           "color": "#f2f5fa"
          },
          "geo": {
           "bgcolor": "rgb(17,17,17)",
           "lakecolor": "rgb(17,17,17)",
           "landcolor": "rgb(17,17,17)",
           "showlakes": true,
           "showland": true,
           "subunitcolor": "#506784"
          },
          "hoverlabel": {
           "align": "left"
          },
          "hovermode": "closest",
          "mapbox": {
           "style": "dark"
          },
          "paper_bgcolor": "rgb(17,17,17)",
          "plot_bgcolor": "rgb(17,17,17)",
          "polar": {
           "angularaxis": {
            "gridcolor": "#506784",
            "linecolor": "#506784",
            "ticks": ""
           },
           "bgcolor": "rgb(17,17,17)",
           "radialaxis": {
            "gridcolor": "#506784",
            "linecolor": "#506784",
            "ticks": ""
           }
          },
          "scene": {
           "xaxis": {
            "backgroundcolor": "rgb(17,17,17)",
            "gridcolor": "#506784",
            "gridwidth": 2,
            "linecolor": "#506784",
            "showbackground": true,
            "ticks": "",
            "zerolinecolor": "#C8D4E3"
           },
           "yaxis": {
            "backgroundcolor": "rgb(17,17,17)",
            "gridcolor": "#506784",
            "gridwidth": 2,
            "linecolor": "#506784",
            "showbackground": true,
            "ticks": "",
            "zerolinecolor": "#C8D4E3"
           },
           "zaxis": {
            "backgroundcolor": "rgb(17,17,17)",
            "gridcolor": "#506784",
            "gridwidth": 2,
            "linecolor": "#506784",
            "showbackground": true,
            "ticks": "",
            "zerolinecolor": "#C8D4E3"
           }
          },
          "shapedefaults": {
           "line": {
            "color": "#f2f5fa"
           }
          },
          "sliderdefaults": {
           "bgcolor": "#C8D4E3",
           "bordercolor": "rgb(17,17,17)",
           "borderwidth": 1,
           "tickwidth": 0
          },
          "ternary": {
           "aaxis": {
            "gridcolor": "#506784",
            "linecolor": "#506784",
            "ticks": ""
           },
           "baxis": {
            "gridcolor": "#506784",
            "linecolor": "#506784",
            "ticks": ""
           },
           "bgcolor": "rgb(17,17,17)",
           "caxis": {
            "gridcolor": "#506784",
            "linecolor": "#506784",
            "ticks": ""
           }
          },
          "title": {
           "x": 0.05
          },
          "updatemenudefaults": {
           "bgcolor": "#506784",
           "borderwidth": 0
          },
          "xaxis": {
           "automargin": true,
           "gridcolor": "#283442",
           "linecolor": "#506784",
           "ticks": "",
           "title": {
            "standoff": 15
           },
           "zerolinecolor": "#283442",
           "zerolinewidth": 2
          },
          "yaxis": {
           "automargin": true,
           "gridcolor": "#283442",
           "linecolor": "#506784",
           "ticks": "",
           "title": {
            "standoff": 15
           },
           "zerolinecolor": "#283442",
           "zerolinewidth": 2
          }
         }
        },
        "title": {
         "text": "Course students enrolled distribution across Course certificate type categories"
        },
        "xaxis": {
         "anchor": "y",
         "automargin": true,
         "categoryorder": "total descending",
         "domain": [
          0,
          1
         ],
         "showgrid": false,
         "tickangle": 30,
         "title": {
          "text": "Course Certificate Type"
         },
         "type": "category",
         "zeroline": false
        },
        "yaxis": {
         "anchor": "x",
         "domain": [
          0,
          1
         ],
         "title": {
          "text": "Course Students Enrolled"
         }
        }
       }
      }
     },
     "metadata": {},
     "output_type": "display_data"
    }
   ],
   "source": [
    "perform_anova_and_visualize(data, categorical_feature=\"course_Certificate_type\", numerical_feature=\"course_students_enrolled\")"
   ]
  },
  {
   "cell_type": "markdown",
   "metadata": {},
   "source": [
    "---\n",
    "\n",
    "## Conclusion\n",
    "\n",
    "The measures listed as TO-DOs could improve the performance of the relevant courses and possibly initiate cooperation with the organizations to gain further access to valuable information.\n",
    "\n",
    "The result of my analysis suggests that courses providing a professional certificate on a beginner level are the most popular, and likely to have a good rating.\n",
    "\n",
    "It is most practical to develop content for English and Spanish-speaking learners."
   ]
  },
  {
   "cell_type": "markdown",
   "metadata": {},
   "source": [
    "---\n",
    "\n",
    "I would gather more data to support my theories, and also to gain deeper insights.\n",
    "\n",
    "I would find a solution to determine the language with more confidence, and also apply tags to records based on topic. Unfortunately my solution was not satisfactory for this problem, so I did not include it in the submitted version.\n",
    "\n",
    "Based on the topic there could be an extra layer in the analysis that is not directly included in the original dataset.\n",
    "\n",
    "Also I would gather data on the course being completed, the time invested in completion, and the ratios of completion vs. enrollment, pricing, scholarships.\n",
    "\n",
    "I would also include better business insights and suggestions after thorough research."
   ]
  }
 ],
 "metadata": {
  "kernelspec": {
   "display_name": "Python 3 (ipykernel)",
   "language": "python",
   "name": "python3"
  },
  "language_info": {
   "codemirror_mode": {
    "name": "ipython",
    "version": 3
   },
   "file_extension": ".py",
   "mimetype": "text/x-python",
   "name": "python",
   "nbconvert_exporter": "python",
   "pygments_lexer": "ipython3",
   "version": "3.12.4"
  }
 },
 "nbformat": 4,
 "nbformat_minor": 4
}
